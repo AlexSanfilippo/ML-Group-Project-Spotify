{
 "cells": [
  {
   "cell_type": "markdown",
   "id": "a7deebe2",
   "metadata": {},
   "source": [
    "# Version 1.0\n",
    "# 30/11/21\n",
    "Machine Learning Group Project\n",
    "\n",
    "\n",
    "Adapted from file \"ImportingDataV0.1.py\""
   ]
  },
  {
   "cell_type": "code",
   "execution_count": 33,
   "id": "6ceef4ac",
   "metadata": {
    "ExecuteTime": {
     "end_time": "2021-11-30T19:37:11.645297Z",
     "start_time": "2021-11-30T19:37:11.628289Z"
    }
   },
   "outputs": [],
   "source": [
    "import pandas as pd\n",
    "import numpy as np\n",
    "import matplotlib.pyplot as plt\n",
    "\n",
    "plt.rc(\"font\", size=14)"
   ]
  },
  {
   "cell_type": "markdown",
   "id": "b02ddab5",
   "metadata": {},
   "source": [
    "# Checking csv and titles by importing first row of a file"
   ]
  },
  {
   "cell_type": "code",
   "execution_count": 34,
   "id": "38dfec4b",
   "metadata": {
    "ExecuteTime": {
     "end_time": "2021-11-30T19:37:13.217569Z",
     "start_time": "2021-11-30T19:37:13.134342Z"
    }
   },
   "outputs": [
    {
     "data": {
      "text/html": [
       "<div>\n",
       "<style scoped>\n",
       "    .dataframe tbody tr th:only-of-type {\n",
       "        vertical-align: middle;\n",
       "    }\n",
       "\n",
       "    .dataframe tbody tr th {\n",
       "        vertical-align: top;\n",
       "    }\n",
       "\n",
       "    .dataframe thead th {\n",
       "        text-align: right;\n",
       "    }\n",
       "</style>\n",
       "<table border=\"1\" class=\"dataframe\">\n",
       "  <thead>\n",
       "    <tr style=\"text-align: right;\">\n",
       "      <th></th>\n",
       "      <th>danceability</th>\n",
       "      <th>energy</th>\n",
       "      <th>key</th>\n",
       "      <th>loudness</th>\n",
       "      <th>mode</th>\n",
       "      <th>speechiness</th>\n",
       "      <th>acousticness</th>\n",
       "      <th>instrumentalness</th>\n",
       "      <th>liveness</th>\n",
       "      <th>valence</th>\n",
       "      <th>tempo</th>\n",
       "      <th>type</th>\n",
       "      <th>id</th>\n",
       "      <th>uri</th>\n",
       "      <th>track_href</th>\n",
       "      <th>analysis_url</th>\n",
       "      <th>duration_ms</th>\n",
       "      <th>time_signature</th>\n",
       "      <th>track_name</th>\n",
       "    </tr>\n",
       "  </thead>\n",
       "  <tbody>\n",
       "    <tr>\n",
       "      <th>0</th>\n",
       "      <td>0.31</td>\n",
       "      <td>0.7</td>\n",
       "      <td>9</td>\n",
       "      <td>-5.678</td>\n",
       "      <td>1</td>\n",
       "      <td>0.047</td>\n",
       "      <td>0.011</td>\n",
       "      <td>0.00965</td>\n",
       "      <td>0.0828</td>\n",
       "      <td>0.763</td>\n",
       "      <td>188.386</td>\n",
       "      <td>audio_features</td>\n",
       "      <td>08mG3Y1vljYA6bvDt4Wqkj</td>\n",
       "      <td>spotify:track:08mG3Y1vljYA6bvDt4Wqkj</td>\n",
       "      <td>https://api.spotify.com/v1/tracks/08mG3Y1vljYA...</td>\n",
       "      <td>https://api.spotify.com/v1/audio-analysis/08mG...</td>\n",
       "      <td>255493</td>\n",
       "      <td>4</td>\n",
       "      <td>Back In Black</td>\n",
       "    </tr>\n",
       "  </tbody>\n",
       "</table>\n",
       "</div>"
      ],
      "text/plain": [
       "   danceability  energy  key  loudness  mode  speechiness  acousticness  \\\n",
       "0          0.31     0.7    9    -5.678     1        0.047         0.011   \n",
       "\n",
       "   instrumentalness  liveness  valence    tempo            type  \\\n",
       "0           0.00965    0.0828    0.763  188.386  audio_features   \n",
       "\n",
       "                       id                                   uri  \\\n",
       "0  08mG3Y1vljYA6bvDt4Wqkj  spotify:track:08mG3Y1vljYA6bvDt4Wqkj   \n",
       "\n",
       "                                          track_href  \\\n",
       "0  https://api.spotify.com/v1/tracks/08mG3Y1vljYA...   \n",
       "\n",
       "                                        analysis_url  duration_ms  \\\n",
       "0  https://api.spotify.com/v1/audio-analysis/08mG...       255493   \n",
       "\n",
       "   time_signature     track_name  \n",
       "0               4  Back In Black  "
      ]
     },
     "metadata": {},
     "output_type": "display_data"
    }
   ],
   "source": [
    "file_dir=\"../SpotifyData/\"\n",
    "file_name=\"ClassicRock_3Ho3iO0iJykgEQNbjB2sic.csv\"\n",
    "\n",
    "test_csv = pd.read_csv(file_dir+file_name, index_col=0, nrows=1) \n",
    "display(test_csv)"
   ]
  },
  {
   "cell_type": "markdown",
   "id": "11f02f24",
   "metadata": {},
   "source": [
    "# Compiling Data\n",
    "Next step is to make a single dataframe holding the data from all source files"
   ]
  },
  {
   "cell_type": "code",
   "execution_count": 48,
   "id": "5b6fa7fe",
   "metadata": {
    "ExecuteTime": {
     "end_time": "2021-11-30T20:35:45.901335Z",
     "start_time": "2021-11-30T20:35:45.577824Z"
    }
   },
   "outputs": [
    {
     "data": {
      "text/html": [
       "<div>\n",
       "<style scoped>\n",
       "    .dataframe tbody tr th:only-of-type {\n",
       "        vertical-align: middle;\n",
       "    }\n",
       "\n",
       "    .dataframe tbody tr th {\n",
       "        vertical-align: top;\n",
       "    }\n",
       "\n",
       "    .dataframe thead th {\n",
       "        text-align: right;\n",
       "    }\n",
       "</style>\n",
       "<table border=\"1\" class=\"dataframe\">\n",
       "  <thead>\n",
       "    <tr style=\"text-align: right;\">\n",
       "      <th></th>\n",
       "      <th>danceability</th>\n",
       "      <th>energy</th>\n",
       "      <th>mode</th>\n",
       "      <th>speechiness</th>\n",
       "      <th>acousticness</th>\n",
       "      <th>instrumentalness</th>\n",
       "      <th>liveness</th>\n",
       "      <th>valence</th>\n",
       "      <th>playlist_number</th>\n",
       "    </tr>\n",
       "  </thead>\n",
       "  <tbody>\n",
       "    <tr>\n",
       "      <th>0</th>\n",
       "      <td>0.639</td>\n",
       "      <td>0.2690</td>\n",
       "      <td>1</td>\n",
       "      <td>0.0698</td>\n",
       "      <td>0.982</td>\n",
       "      <td>0.120000</td>\n",
       "      <td>0.141</td>\n",
       "      <td>0.539</td>\n",
       "      <td>1.0</td>\n",
       "    </tr>\n",
       "    <tr>\n",
       "      <th>1</th>\n",
       "      <td>0.419</td>\n",
       "      <td>0.0284</td>\n",
       "      <td>1</td>\n",
       "      <td>0.0357</td>\n",
       "      <td>0.987</td>\n",
       "      <td>0.586000</td>\n",
       "      <td>0.105</td>\n",
       "      <td>0.121</td>\n",
       "      <td>1.0</td>\n",
       "    </tr>\n",
       "    <tr>\n",
       "      <th>2</th>\n",
       "      <td>0.573</td>\n",
       "      <td>0.2470</td>\n",
       "      <td>0</td>\n",
       "      <td>0.0627</td>\n",
       "      <td>0.713</td>\n",
       "      <td>0.000056</td>\n",
       "      <td>0.103</td>\n",
       "      <td>0.604</td>\n",
       "      <td>1.0</td>\n",
       "    </tr>\n",
       "    <tr>\n",
       "      <th>3</th>\n",
       "      <td>0.593</td>\n",
       "      <td>0.1030</td>\n",
       "      <td>1</td>\n",
       "      <td>0.0810</td>\n",
       "      <td>0.986</td>\n",
       "      <td>0.600000</td>\n",
       "      <td>0.120</td>\n",
       "      <td>0.443</td>\n",
       "      <td>1.0</td>\n",
       "    </tr>\n",
       "    <tr>\n",
       "      <th>4</th>\n",
       "      <td>0.450</td>\n",
       "      <td>0.0288</td>\n",
       "      <td>1</td>\n",
       "      <td>0.0467</td>\n",
       "      <td>0.994</td>\n",
       "      <td>0.895000</td>\n",
       "      <td>0.118</td>\n",
       "      <td>0.358</td>\n",
       "      <td>1.0</td>\n",
       "    </tr>\n",
       "  </tbody>\n",
       "</table>\n",
       "</div>"
      ],
      "text/plain": [
       "   danceability  energy  mode  speechiness  acousticness  instrumentalness  \\\n",
       "0         0.639  0.2690     1       0.0698         0.982          0.120000   \n",
       "1         0.419  0.0284     1       0.0357         0.987          0.586000   \n",
       "2         0.573  0.2470     0       0.0627         0.713          0.000056   \n",
       "3         0.593  0.1030     1       0.0810         0.986          0.600000   \n",
       "4         0.450  0.0288     1       0.0467         0.994          0.895000   \n",
       "\n",
       "   liveness  valence  playlist_number  \n",
       "0     0.141    0.539              1.0  \n",
       "1     0.105    0.121              1.0  \n",
       "2     0.103    0.604              1.0  \n",
       "3     0.120    0.443              1.0  \n",
       "4     0.118    0.358              1.0  "
      ]
     },
     "metadata": {},
     "output_type": "display_data"
    },
    {
     "name": "stdout",
     "output_type": "stream",
     "text": [
      "Removing n duplicates =  24\n"
     ]
    }
   ],
   "source": [
    "file_dir=\"../SpotifyData/\"\n",
    "\n",
    "file_names= [\"JazzClassic_37i9dQZF1DXbITWG1ZJKYt.csv\",\\\n",
    "             \"CountryHits_1mJhSx6aYQmINsZ8dG4gzU.csv\",\\\n",
    "             \"ClassicalStudy_6wObnEPQ63a4kei1sEcMdH.csv\",\\\n",
    "             \"HipHopClassics_5CRJExGSQFYXem2hT5GFkd.csv\",\\\n",
    "            \"ClassicRock_3Ho3iO0iJykgEQNbjB2sic.csv\",\\\n",
    "             \"KpopClassics_0jB4ANR4ox65etDMnxvGLp.csv\",\\\n",
    "             \"HeavyMetalClassics_27gN69ebwiJRtXEboL12Ih.csv\",\\\n",
    "             \"DanceHits_5oKz4DsTP8zbL97UIPbqp4.csv\"]\n",
    "\n",
    "file_nrows=[ 200, 205, 227,229, 299, 322, 385, 434]\n",
    "\n",
    "# Most convenient to set up dataframe with initial file, then systematically loop through the others\n",
    "#Sticking with just the basic parameters for now\n",
    "parameter_columns = [1,2,5,6,7,8,9,10]\n",
    "# tempo_column=11\n",
    "# mode 5\n",
    "\n",
    "\n",
    "\n",
    "#1 indexing here more natural\n",
    "playlist_number=1\n",
    "data = pd.read_csv(file_dir+file_names[playlist_number-1], usecols=parameter_columns, nrows=file_nrows[0])\n",
    "\n",
    "playlist_numbers = playlist_number*np.ones(len(data))\n",
    "data[\"playlist_number\"]=playlist_numbers #Now has extra playlist column\n",
    "\n",
    "\n",
    "\n",
    "# Now looping through the remaining filenames\n",
    "for playlist_number in range(2,len(file_names)+1):\n",
    "    # dtmp := Temporary dataframe, will append to df.data once data filtered and prepped\n",
    "    dtmp= pd.read_csv(file_dir+file_names[playlist_number-1], usecols=parameter_columns, \\\n",
    "                      nrows=file_nrows[playlist_number-1])\n",
    "\n",
    "    playlist_numbers = playlist_number*np.ones(len(dtmp)) # array of playlist_number\n",
    "    dtmp[\"playlist_number\"]=playlist_numbers #Now has extra playlist column\n",
    "    data=data.append(dtmp, ignore_index=True) #Append back to main df.data\n",
    "    \n",
    "display(data.head())\n",
    "\n",
    "print(\"Removing n duplicates = \", data.duplicated().sum()) #prints number of duplicates\n",
    "data = data.drop_duplicates() \n",
    "\n",
    "\n",
    "X = data.loc[:,\"danceability\":\"liveness\"]#.values\n",
    "#X = data.loc[:,\"danceability\":\"tempo\"]\n",
    "Y = data.loc[:,\"playlist_number\"]\n",
    "\n",
    "\n",
    "X.reset_index(drop=True, inplace=True)\n",
    "Y.reset_index(drop=True, inplace=True)\n",
    "X=np.array(X);Y=np.array(Y)\n",
    "classes=np.array([1,2,3,4,5,6,7,8])"
   ]
  },
  {
   "cell_type": "code",
   "execution_count": 49,
   "id": "9212551a",
   "metadata": {
    "ExecuteTime": {
     "end_time": "2021-11-30T20:35:47.981664Z",
     "start_time": "2021-11-30T20:35:47.968758Z"
    }
   },
   "outputs": [
    {
     "name": "stdout",
     "output_type": "stream",
     "text": [
      "[[6.39e-01 2.69e-01 1.00e+00 ... 9.82e-01 1.20e-01 1.41e-01]\n",
      " [4.19e-01 2.84e-02 1.00e+00 ... 9.87e-01 5.86e-01 1.05e-01]\n",
      " [5.73e-01 2.47e-01 0.00e+00 ... 7.13e-01 5.64e-05 1.03e-01]\n",
      " ...\n",
      " [5.28e-01 9.65e-01 0.00e+00 ... 1.41e-01 9.85e-01 7.97e-02]\n",
      " [4.58e-01 6.96e-01 1.00e+00 ... 2.85e-01 0.00e+00 1.23e-01]\n",
      " [3.11e-01 8.57e-01 0.00e+00 ... 1.37e-03 8.05e-01 3.07e-01]]\n",
      "(2276, 7)\n",
      "[0.639  0.269  1.     0.0698 0.982  0.12   0.141 ]\n"
     ]
    }
   ],
   "source": [
    "print(X)\n",
    "print(X.shape)\n",
    "print(np.array(X)[0])"
   ]
  },
  {
   "cell_type": "markdown",
   "id": "48281e47",
   "metadata": {},
   "source": [
    "# Training?\n",
    "Any pre-processing necessary for:\n",
    "- Repeat songs\n",
    "- Incomplete data\n",
    "\n",
    "\n",
    "Note: I have only chosen 200 songs from each playlist, some do contain more songs\n"
   ]
  },
  {
   "cell_type": "markdown",
   "id": "054cfc26",
   "metadata": {},
   "source": [
    "# kNN Model"
   ]
  },
  {
   "cell_type": "code",
   "execution_count": 50,
   "id": "69de5be4",
   "metadata": {
    "ExecuteTime": {
     "end_time": "2021-11-30T20:35:50.181144Z",
     "start_time": "2021-11-30T20:35:49.983603Z"
    }
   },
   "outputs": [
    {
     "name": "stdout",
     "output_type": "stream",
     "text": [
      "[[178   9   5   1  15   0   4   1]\n",
      " [  2 143   0   1  50  24  24  40]\n",
      " [ 17   0 222   0   0   0   0   0]\n",
      " [  0   0   0 193  12  27   1  31]\n",
      " [  3  14   0   2 165  22  46  39]\n",
      " [  0   4   0  15  10 210   9  42]\n",
      " [  0   7   0   0  34   3 291   9]\n",
      " [  0  10   0  13  12  35  10 271]]\n"
     ]
    }
   ],
   "source": [
    "from sklearn.neighbors import KNeighborsClassifier\n",
    "\n",
    "model = KNeighborsClassifier(n_neighbors=3, weights=\"uniform\").fit(X,Y)\n",
    "ypred = model.predict(X)\n",
    "\n",
    "\n",
    "from sklearn.metrics import confusion_matrix\n",
    "print(confusion_matrix(ypred,Y))"
   ]
  },
  {
   "cell_type": "markdown",
   "id": "cb3364d7",
   "metadata": {},
   "source": [
    "# Precision for kNN weighted by distance"
   ]
  },
  {
   "cell_type": "code",
   "execution_count": 51,
   "id": "bf61a0bc",
   "metadata": {
    "ExecuteTime": {
     "end_time": "2021-11-30T20:35:52.542136Z",
     "start_time": "2021-11-30T20:35:51.929117Z"
    }
   },
   "outputs": [
    {
     "name": "stdout",
     "output_type": "stream",
     "text": [
      "[0.5443830730672836, 0.5500910931174089, 0.5565317139001349, 0.5618418642760747]\n",
      "[0.008911873902437207, 0.017063739546348256, 0.01933040918044488, 0.020648984506277546]\n"
     ]
    },
    {
     "data": {
      "image/png": "[encoded data removed]",
      "text/plain": [
       "<Figure size 432x288 with 1 Axes>"
      ]
     },
     "metadata": {
      "needs_background": "light"
     },
     "output_type": "display_data"
    }
   ],
   "source": [
    "#X = data.loc[:,\"danceability\":\"liveness\"].values\n",
    "#Y = data.loc[:,\"playlist_number\"]\n",
    "\n",
    "n_splits = 5\n",
    "ks=[3,5,7,9]\n",
    "\n",
    "from sklearn.metrics import roc_curve\n",
    "from sklearn.model_selection import KFold    \n",
    "from sklearn.metrics import precision_score, accuracy_score\n",
    "#from sklearn.metrics import \n",
    "kf = KFold(n_splits=n_splits, shuffle=True) #important to shuffle for our ordered data\n",
    "\n",
    "tmp=[]\n",
    "precision=[]\n",
    "precision_err=[]\n",
    "for k in ks:\n",
    "    model = KNeighborsClassifier(n_neighbors=k, weights=\"distance\")\n",
    "    for train, test in kf.split(X):\n",
    "        model.fit(X[train],Y[train])\n",
    "        ypred = model.predict(X[test])\n",
    "        #print(confusion_matrix(ypred,Y[test]))\n",
    "\n",
    "        #tmp.append( precision_score(Y[test], ypred, average=\"weighted\") )\n",
    "        tmp.append( accuracy_score(Y[test], ypred) )\n",
    "        ## average = {‘micro’, ‘macro’, ‘samples’, ‘weighted’, ‘binary’}\n",
    "\n",
    "    precision.append( np.array(tmp).mean() )\n",
    "    precision_err.append( np.array(tmp).std() )\n",
    "\n",
    "print(precision)\n",
    "print(precision_err)\n",
    "\n",
    "plt.errorbar(ks, precision, yerr=precision_err)\n",
    "plt.xlabel(\"k\")\n",
    "plt.ylabel(\"Accuracy\")\n",
    "plt.title(\"Precision with average weighting, kNN distance weighting\")\n",
    "plt.show()"
   ]
  },
  {
   "cell_type": "markdown",
   "id": "bf2808a0",
   "metadata": {},
   "source": [
    "# Accuracy for distance kNN weights"
   ]
  },
  {
   "cell_type": "code",
   "execution_count": 52,
   "id": "ed3910d5",
   "metadata": {
    "ExecuteTime": {
     "end_time": "2021-11-30T20:35:57.322076Z",
     "start_time": "2021-11-30T20:35:56.481854Z"
    }
   },
   "outputs": [
    {
     "name": "stdout",
     "output_type": "stream",
     "text": [
      "[0.5531675342201657, 0.5654607673028724, 0.5813022941970309, 0.5830412569886254]\n",
      "[0.0128593014056428, 0.021511678062860102, 0.02714071869408136, 0.012273700767564344]\n"
     ]
    },
    {
     "data": {
      "image/png": "[encoded data removed]",
      "text/plain": [
       "<Figure size 432x288 with 1 Axes>"
      ]
     },
     "metadata": {
      "needs_background": "light"
     },
     "output_type": "display_data"
    }
   ],
   "source": [
    "prec_tmp=[]\n",
    "precision=[]\n",
    "precision_err=[]\n",
    "score_tmp=[]\n",
    "score=[]\n",
    "score_err=[]\n",
    "for k in ks:\n",
    "    model = KNeighborsClassifier(n_neighbors=k, weights=\"distance\")\n",
    "    \n",
    "    score_tmp=[]\n",
    "    for train, test in kf.split(X):\n",
    "        model.fit(X[train],Y[train])\n",
    "        ypred = model.predict(X[test])\n",
    "        #print(confusion_matrix(ypred,Y[test]))\n",
    "        score_tmp.append(model.score(X[test],Y[test]))#accuracy score\n",
    "    score.append(np.array(score_tmp).mean())\n",
    "    score_err.append(np.array(score_tmp).std())\n",
    "    \n",
    "print(score)\n",
    "print(score_err)\n",
    "\n",
    "plt.errorbar(ks, score, yerr=score_err)\n",
    "plt.xlabel(\"k\")\n",
    "plt.ylabel(\"Accuracy\")\n",
    "plt.title(\"Score kNN (weighted by distance)\")\n",
    "plt.show()"
   ]
  },
  {
   "cell_type": "markdown",
   "id": "6e62c759",
   "metadata": {
    "ExecuteTime": {
     "end_time": "2021-11-30T13:04:47.539852Z",
     "start_time": "2021-11-30T13:04:47.127746Z"
    }
   },
   "source": [
    "#Skeane77 — Today at 11:35\n",
    "\n",
    "file_names= [\"ClassicRock_3Ho3iO0iJykgEQNbjB2sic.csv\",\\\n",
    "             \"ClassicalStudy_6wObnEPQ63a4kei1sEcMdH.csv\",\\\n",
    "             \"CountryHits_1mJhSx6aYQmINsZ8dG4gzU.csv\",\\\n",
    "             \"DanceHits_5oKz4DsTP8zbL97UIPbqp4.csv\",\\\n",
    "             \"HeavyMetalClassics_27gN69ebwiJRtXEboL12Ih.csv\",\\\n",
    "             \"HipHopClassics_5CRJExGSQFYXem2hT5GFkd.csv\",\\\n",
    "             \"JazzClassic_37i9dQZF1DXbITWG1ZJKYt.csv\",\\\n",
    "             \"KpopClassics_0jB4ANR4ox65etDMnxvGLp.csv\"]\n",
    "\n",
    "\n",
    "# Most convenient to set up dataframe with initial file, then systematically loop through the others\n",
    "#Sticking with just the basic parameters for now\n",
    "parameter_columns = [1,2,5,6,7,8,9, 19]#19 for songnames\n",
    "nrows=200\n",
    "\n",
    "\n",
    "\n",
    "#1 indexing here more natural\n",
    "playlist_number=1\n",
    "data = pd.read_csv(file_dir+file_names[playlist_number-1], usecols=parameter_columns, nrows=nrows)\n",
    "\n",
    "playlist_numbers = playlist_number*np.ones(len(data))\n",
    "data[\"playlist_number\"]=playlist_numbers #Now has extra playlist column\n",
    "\n",
    "\n",
    "\n",
    "# Now looping through the remaining filenames\n",
    "for playlist_number in range(2,len(file_names)+1):\n",
    "    # dtmp := Temporary dataframe, will append to df.data once data filtered and prepped\n",
    "    dtmp= pd.read_csv(file_dir+file_names[playlist_number-1], usecols=parameter_columns, nrows=nrows)\n",
    "\n",
    "    playlist_numbers = playlist_number*np.ones(len(dtmp)) # array of playlist_number\n",
    "    dtmp[\"playlist_number\"]=playlist_numbers #Now has extra playlist column\n",
    "    data=data.append(dtmp, ignore_index=True) #Append back to main df.data\n",
    "    \n",
    "display(data)\n",
    "print(data.duplicated().sum()) #prints number of duplicates\n",
    "print(data.loc[data.duplicated(),:]) #prints rowof duplicate"
   ]
  },
  {
   "cell_type": "markdown",
   "id": "c3572569",
   "metadata": {},
   "source": [
    "# Polynomial Features\n"
   ]
  },
  {
   "cell_type": "code",
   "execution_count": 53,
   "id": "988adf41",
   "metadata": {
    "ExecuteTime": {
     "end_time": "2021-11-30T20:36:09.271966Z",
     "start_time": "2021-11-30T20:36:02.827300Z"
    }
   },
   "outputs": [
    {
     "name": "stdout",
     "output_type": "stream",
     "text": [
      "[0.5441910409432872, 0.554216871606132, 0.5593120528217445, 0.5615681569821157]\n",
      "[0.021993753190504395, 0.026886990462387805, 0.02624435433103788, 0.0238049713345069]\n"
     ]
    },
    {
     "data": {
      "image/png": "[encoded data removed]",
      "text/plain": [
       "<Figure size 432x288 with 1 Axes>"
      ]
     },
     "metadata": {
      "needs_background": "light"
     },
     "output_type": "display_data"
    },
    {
     "name": "stdout",
     "output_type": "stream",
     "text": [
      "[0.5381992205722383, 0.5493460683873771, 0.5590153319758974, 0.5636888520993079]\n",
      "[0.026455381981813218, 0.02300169319643153, 0.028351166493798204, 0.030206519674009835]\n"
     ]
    },
    {
     "data": {
      "image/png": "[encoded data removed]",
      "text/plain": [
       "<Figure size 432x288 with 1 Axes>"
      ]
     },
     "metadata": {
      "needs_background": "light"
     },
     "output_type": "display_data"
    },
    {
     "name": "stdout",
     "output_type": "stream",
     "text": [
      "[0.5436919180987595, 0.5472901451642451, 0.5560199299620908, 0.5596340672349304]\n",
      "[0.006609188716519633, 0.009103849631296184, 0.015630506529514435, 0.01848876475488793]\n"
     ]
    },
    {
     "data": {
      "image/png": "[encoded data removed]",
      "text/plain": [
       "<Figure size 432x288 with 1 Axes>"
      ]
     },
     "metadata": {
      "needs_background": "light"
     },
     "output_type": "display_data"
    },
    {
     "name": "stdout",
     "output_type": "stream",
     "text": [
      "[0.544538097229931, 0.5546637068048149, 0.559229311738511, 0.5618341730449824]\n",
      "[0.023031558923293657, 0.020830123300779314, 0.02218350736679437, 0.02052629399853423]\n"
     ]
    },
    {
     "data": {
      "image/png": "[encoded data removed]",
      "text/plain": [
       "<Figure size 432x288 with 1 Axes>"
      ]
     },
     "metadata": {
      "needs_background": "light"
     },
     "output_type": "display_data"
    },
    {
     "name": "stdout",
     "output_type": "stream",
     "text": [
      "[0.545910574664305, 0.5513540258974308, 0.5572035903964304, 0.5630526177625776]\n",
      "[0.015379214876604428, 0.012778119696380198, 0.018398986829008944, 0.020883697223161846]\n"
     ]
    },
    {
     "data": {
      "image/png": "[encoded data removed]",
      "text/plain": [
       "<Figure size 432x288 with 1 Axes>"
      ]
     },
     "metadata": {
      "needs_background": "light"
     },
     "output_type": "display_data"
    }
   ],
   "source": [
    "from sklearn.preprocessing import PolynomialFeatures\n",
    "q_poly = [1,2,3,4,5]      \n",
    "\n",
    "for q in q_poly:\n",
    "    Xpoly = PolynomialFeatures(q, include_bias=False).fit_transform(X)\n",
    "    tmp=[]\n",
    "    precision=[]\n",
    "    precision_err=[]\n",
    "    for k in ks:\n",
    "        model = KNeighborsClassifier(n_neighbors=k, weights=\"distance\")\n",
    "        for train, test in kf.split(Xpoly):\n",
    "            model.fit(Xpoly[train],Y[train])\n",
    "            ypred = model.predict(Xpoly[test])\n",
    "            #print(confusion_matrix(ypred,Y[test]))\n",
    "\n",
    "            tmp.append( precision_score(Y[test], ypred, average=\"weighted\") )\n",
    "            ## average = {‘micro’, ‘macro’, ‘samples’, ‘weighted’, ‘binary’}\n",
    "\n",
    "        precision.append( np.array(tmp).mean() )\n",
    "        precision_err.append( np.array(tmp).std() )\n",
    "\n",
    "    print(precision)\n",
    "    print(precision_err)\n",
    "\n",
    "    plt.errorbar(ks, precision, yerr=precision_err)\n",
    "    plt.xlabel(\"k\")\n",
    "    plt.ylabel(\"Precision\")\n",
    "    plt.title(\"Precision with average weighting, kNN distance weighting. Q=\"+ str(q))\n",
    "    plt.show()"
   ]
  },
  {
   "cell_type": "code",
   "execution_count": null,
   "id": "c002b097",
   "metadata": {},
   "outputs": [],
   "source": []
  },
  {
   "cell_type": "markdown",
   "id": "dfc5de31",
   "metadata": {},
   "source": [
    "# Linear Regression"
   ]
  },
  {
   "cell_type": "code",
   "execution_count": 54,
   "id": "92de7899",
   "metadata": {
    "ExecuteTime": {
     "end_time": "2021-11-30T20:37:43.645318Z",
     "start_time": "2021-11-30T20:36:12.578013Z"
    },
    "scrolled": false
   },
   "outputs": [
    {
     "name": "stderr",
     "output_type": "stream",
     "text": [
      "C:\\Users\\dylan\\anaconda3\\lib\\site-packages\\sklearn\\linear_model\\_logistic.py:763: ConvergenceWarning: lbfgs failed to converge (status=1):\n",
      "STOP: TOTAL NO. of ITERATIONS REACHED LIMIT.\n",
      "\n",
      "Increase the number of iterations (max_iter) or scale the data as shown in:\n",
      "    https://scikit-learn.org/stable/modules/preprocessing.html\n",
      "Please also refer to the documentation for alternative solver options:\n",
      "    https://scikit-learn.org/stable/modules/linear_model.html#logistic-regression\n",
      "  n_iter_i = _check_optimize_result(\n",
      "C:\\Users\\dylan\\anaconda3\\lib\\site-packages\\sklearn\\linear_model\\_logistic.py:763: ConvergenceWarning: lbfgs failed to converge (status=1):\n",
      "STOP: TOTAL NO. of ITERATIONS REACHED LIMIT.\n",
      "\n",
      "Increase the number of iterations (max_iter) or scale the data as shown in:\n",
      "    https://scikit-learn.org/stable/modules/preprocessing.html\n",
      "Please also refer to the documentation for alternative solver options:\n",
      "    https://scikit-learn.org/stable/modules/linear_model.html#logistic-regression\n",
      "  n_iter_i = _check_optimize_result(\n",
      "C:\\Users\\dylan\\anaconda3\\lib\\site-packages\\sklearn\\linear_model\\_logistic.py:763: ConvergenceWarning: lbfgs failed to converge (status=1):\n",
      "STOP: TOTAL NO. of ITERATIONS REACHED LIMIT.\n",
      "\n",
      "Increase the number of iterations (max_iter) or scale the data as shown in:\n",
      "    https://scikit-learn.org/stable/modules/preprocessing.html\n",
      "Please also refer to the documentation for alternative solver options:\n",
      "    https://scikit-learn.org/stable/modules/linear_model.html#logistic-regression\n",
      "  n_iter_i = _check_optimize_result(\n",
      "C:\\Users\\dylan\\anaconda3\\lib\\site-packages\\sklearn\\linear_model\\_logistic.py:763: ConvergenceWarning: lbfgs failed to converge (status=1):\n",
      "STOP: TOTAL NO. of ITERATIONS REACHED LIMIT.\n",
      "\n",
      "Increase the number of iterations (max_iter) or scale the data as shown in:\n",
      "    https://scikit-learn.org/stable/modules/preprocessing.html\n",
      "Please also refer to the documentation for alternative solver options:\n",
      "    https://scikit-learn.org/stable/modules/linear_model.html#logistic-regression\n",
      "  n_iter_i = _check_optimize_result(\n",
      "C:\\Users\\dylan\\anaconda3\\lib\\site-packages\\sklearn\\linear_model\\_logistic.py:763: ConvergenceWarning: lbfgs failed to converge (status=1):\n",
      "STOP: TOTAL NO. of ITERATIONS REACHED LIMIT.\n",
      "\n",
      "Increase the number of iterations (max_iter) or scale the data as shown in:\n",
      "    https://scikit-learn.org/stable/modules/preprocessing.html\n",
      "Please also refer to the documentation for alternative solver options:\n",
      "    https://scikit-learn.org/stable/modules/linear_model.html#logistic-regression\n",
      "  n_iter_i = _check_optimize_result(\n",
      "C:\\Users\\dylan\\anaconda3\\lib\\site-packages\\sklearn\\linear_model\\_logistic.py:763: ConvergenceWarning: lbfgs failed to converge (status=1):\n",
      "STOP: TOTAL NO. of ITERATIONS REACHED LIMIT.\n",
      "\n",
      "Increase the number of iterations (max_iter) or scale the data as shown in:\n",
      "    https://scikit-learn.org/stable/modules/preprocessing.html\n",
      "Please also refer to the documentation for alternative solver options:\n",
      "    https://scikit-learn.org/stable/modules/linear_model.html#logistic-regression\n",
      "  n_iter_i = _check_optimize_result(\n",
      "C:\\Users\\dylan\\anaconda3\\lib\\site-packages\\sklearn\\linear_model\\_logistic.py:763: ConvergenceWarning: lbfgs failed to converge (status=1):\n",
      "STOP: TOTAL NO. of ITERATIONS REACHED LIMIT.\n",
      "\n",
      "Increase the number of iterations (max_iter) or scale the data as shown in:\n",
      "    https://scikit-learn.org/stable/modules/preprocessing.html\n",
      "Please also refer to the documentation for alternative solver options:\n",
      "    https://scikit-learn.org/stable/modules/linear_model.html#logistic-regression\n",
      "  n_iter_i = _check_optimize_result(\n",
      "C:\\Users\\dylan\\anaconda3\\lib\\site-packages\\sklearn\\linear_model\\_logistic.py:763: ConvergenceWarning: lbfgs failed to converge (status=1):\n",
      "STOP: TOTAL NO. of ITERATIONS REACHED LIMIT.\n",
      "\n",
      "Increase the number of iterations (max_iter) or scale the data as shown in:\n",
      "    https://scikit-learn.org/stable/modules/preprocessing.html\n",
      "Please also refer to the documentation for alternative solver options:\n",
      "    https://scikit-learn.org/stable/modules/linear_model.html#logistic-regression\n",
      "  n_iter_i = _check_optimize_result(\n",
      "C:\\Users\\dylan\\anaconda3\\lib\\site-packages\\sklearn\\linear_model\\_logistic.py:763: ConvergenceWarning: lbfgs failed to converge (status=1):\n",
      "STOP: TOTAL NO. of ITERATIONS REACHED LIMIT.\n",
      "\n",
      "Increase the number of iterations (max_iter) or scale the data as shown in:\n",
      "    https://scikit-learn.org/stable/modules/preprocessing.html\n",
      "Please also refer to the documentation for alternative solver options:\n",
      "    https://scikit-learn.org/stable/modules/linear_model.html#logistic-regression\n",
      "  n_iter_i = _check_optimize_result(\n",
      "C:\\Users\\dylan\\anaconda3\\lib\\site-packages\\sklearn\\linear_model\\_logistic.py:763: ConvergenceWarning: lbfgs failed to converge (status=1):\n",
      "STOP: TOTAL NO. of ITERATIONS REACHED LIMIT.\n",
      "\n",
      "Increase the number of iterations (max_iter) or scale the data as shown in:\n",
      "    https://scikit-learn.org/stable/modules/preprocessing.html\n",
      "Please also refer to the documentation for alternative solver options:\n",
      "    https://scikit-learn.org/stable/modules/linear_model.html#logistic-regression\n",
      "  n_iter_i = _check_optimize_result(\n",
      "C:\\Users\\dylan\\anaconda3\\lib\\site-packages\\sklearn\\linear_model\\_logistic.py:763: ConvergenceWarning: lbfgs failed to converge (status=1):\n",
      "STOP: TOTAL NO. of ITERATIONS REACHED LIMIT.\n",
      "\n",
      "Increase the number of iterations (max_iter) or scale the data as shown in:\n",
      "    https://scikit-learn.org/stable/modules/preprocessing.html\n",
      "Please also refer to the documentation for alternative solver options:\n",
      "    https://scikit-learn.org/stable/modules/linear_model.html#logistic-regression\n",
      "  n_iter_i = _check_optimize_result(\n",
      "C:\\Users\\dylan\\anaconda3\\lib\\site-packages\\sklearn\\linear_model\\_logistic.py:763: ConvergenceWarning: lbfgs failed to converge (status=1):\n",
      "STOP: TOTAL NO. of ITERATIONS REACHED LIMIT.\n",
      "\n",
      "Increase the number of iterations (max_iter) or scale the data as shown in:\n",
      "    https://scikit-learn.org/stable/modules/preprocessing.html\n",
      "Please also refer to the documentation for alternative solver options:\n",
      "    https://scikit-learn.org/stable/modules/linear_model.html#logistic-regression\n",
      "  n_iter_i = _check_optimize_result(\n",
      "C:\\Users\\dylan\\anaconda3\\lib\\site-packages\\sklearn\\linear_model\\_logistic.py:763: ConvergenceWarning: lbfgs failed to converge (status=1):\n",
      "STOP: TOTAL NO. of ITERATIONS REACHED LIMIT.\n",
      "\n",
      "Increase the number of iterations (max_iter) or scale the data as shown in:\n",
      "    https://scikit-learn.org/stable/modules/preprocessing.html\n",
      "Please also refer to the documentation for alternative solver options:\n",
      "    https://scikit-learn.org/stable/modules/linear_model.html#logistic-regression\n",
      "  n_iter_i = _check_optimize_result(\n",
      "C:\\Users\\dylan\\anaconda3\\lib\\site-packages\\sklearn\\linear_model\\_logistic.py:763: ConvergenceWarning: lbfgs failed to converge (status=1):\n",
      "STOP: TOTAL NO. of ITERATIONS REACHED LIMIT.\n",
      "\n",
      "Increase the number of iterations (max_iter) or scale the data as shown in:\n",
      "    https://scikit-learn.org/stable/modules/preprocessing.html\n",
      "Please also refer to the documentation for alternative solver options:\n",
      "    https://scikit-learn.org/stable/modules/linear_model.html#logistic-regression\n",
      "  n_iter_i = _check_optimize_result(\n",
      "C:\\Users\\dylan\\anaconda3\\lib\\site-packages\\sklearn\\linear_model\\_logistic.py:763: ConvergenceWarning: lbfgs failed to converge (status=1):\n",
      "STOP: TOTAL NO. of ITERATIONS REACHED LIMIT.\n",
      "\n",
      "Increase the number of iterations (max_iter) or scale the data as shown in:\n",
      "    https://scikit-learn.org/stable/modules/preprocessing.html\n",
      "Please also refer to the documentation for alternative solver options:\n",
      "    https://scikit-learn.org/stable/modules/linear_model.html#logistic-regression\n",
      "  n_iter_i = _check_optimize_result(\n",
      "C:\\Users\\dylan\\anaconda3\\lib\\site-packages\\sklearn\\linear_model\\_logistic.py:763: ConvergenceWarning: lbfgs failed to converge (status=1):\n",
      "STOP: TOTAL NO. of ITERATIONS REACHED LIMIT.\n",
      "\n",
      "Increase the number of iterations (max_iter) or scale the data as shown in:\n",
      "    https://scikit-learn.org/stable/modules/preprocessing.html\n",
      "Please also refer to the documentation for alternative solver options:\n",
      "    https://scikit-learn.org/stable/modules/linear_model.html#logistic-regression\n",
      "  n_iter_i = _check_optimize_result(\n"
     ]
    },
    {
     "name": "stderr",
     "output_type": "stream",
     "text": [
      "C:\\Users\\dylan\\anaconda3\\lib\\site-packages\\sklearn\\linear_model\\_logistic.py:763: ConvergenceWarning: lbfgs failed to converge (status=1):\n",
      "STOP: TOTAL NO. of ITERATIONS REACHED LIMIT.\n",
      "\n",
      "Increase the number of iterations (max_iter) or scale the data as shown in:\n",
      "    https://scikit-learn.org/stable/modules/preprocessing.html\n",
      "Please also refer to the documentation for alternative solver options:\n",
      "    https://scikit-learn.org/stable/modules/linear_model.html#logistic-regression\n",
      "  n_iter_i = _check_optimize_result(\n",
      "C:\\Users\\dylan\\anaconda3\\lib\\site-packages\\sklearn\\linear_model\\_logistic.py:763: ConvergenceWarning: lbfgs failed to converge (status=1):\n",
      "STOP: TOTAL NO. of ITERATIONS REACHED LIMIT.\n",
      "\n",
      "Increase the number of iterations (max_iter) or scale the data as shown in:\n",
      "    https://scikit-learn.org/stable/modules/preprocessing.html\n",
      "Please also refer to the documentation for alternative solver options:\n",
      "    https://scikit-learn.org/stable/modules/linear_model.html#logistic-regression\n",
      "  n_iter_i = _check_optimize_result(\n",
      "C:\\Users\\dylan\\anaconda3\\lib\\site-packages\\sklearn\\linear_model\\_logistic.py:763: ConvergenceWarning: lbfgs failed to converge (status=1):\n",
      "STOP: TOTAL NO. of ITERATIONS REACHED LIMIT.\n",
      "\n",
      "Increase the number of iterations (max_iter) or scale the data as shown in:\n",
      "    https://scikit-learn.org/stable/modules/preprocessing.html\n",
      "Please also refer to the documentation for alternative solver options:\n",
      "    https://scikit-learn.org/stable/modules/linear_model.html#logistic-regression\n",
      "  n_iter_i = _check_optimize_result(\n",
      "C:\\Users\\dylan\\anaconda3\\lib\\site-packages\\sklearn\\linear_model\\_logistic.py:763: ConvergenceWarning: lbfgs failed to converge (status=1):\n",
      "STOP: TOTAL NO. of ITERATIONS REACHED LIMIT.\n",
      "\n",
      "Increase the number of iterations (max_iter) or scale the data as shown in:\n",
      "    https://scikit-learn.org/stable/modules/preprocessing.html\n",
      "Please also refer to the documentation for alternative solver options:\n",
      "    https://scikit-learn.org/stable/modules/linear_model.html#logistic-regression\n",
      "  n_iter_i = _check_optimize_result(\n",
      "C:\\Users\\dylan\\anaconda3\\lib\\site-packages\\sklearn\\linear_model\\_logistic.py:763: ConvergenceWarning: lbfgs failed to converge (status=1):\n",
      "STOP: TOTAL NO. of ITERATIONS REACHED LIMIT.\n",
      "\n",
      "Increase the number of iterations (max_iter) or scale the data as shown in:\n",
      "    https://scikit-learn.org/stable/modules/preprocessing.html\n",
      "Please also refer to the documentation for alternative solver options:\n",
      "    https://scikit-learn.org/stable/modules/linear_model.html#logistic-regression\n",
      "  n_iter_i = _check_optimize_result(\n",
      "C:\\Users\\dylan\\anaconda3\\lib\\site-packages\\sklearn\\linear_model\\_logistic.py:763: ConvergenceWarning: lbfgs failed to converge (status=1):\n",
      "STOP: TOTAL NO. of ITERATIONS REACHED LIMIT.\n",
      "\n",
      "Increase the number of iterations (max_iter) or scale the data as shown in:\n",
      "    https://scikit-learn.org/stable/modules/preprocessing.html\n",
      "Please also refer to the documentation for alternative solver options:\n",
      "    https://scikit-learn.org/stable/modules/linear_model.html#logistic-regression\n",
      "  n_iter_i = _check_optimize_result(\n",
      "C:\\Users\\dylan\\anaconda3\\lib\\site-packages\\sklearn\\linear_model\\_logistic.py:763: ConvergenceWarning: lbfgs failed to converge (status=1):\n",
      "STOP: TOTAL NO. of ITERATIONS REACHED LIMIT.\n",
      "\n",
      "Increase the number of iterations (max_iter) or scale the data as shown in:\n",
      "    https://scikit-learn.org/stable/modules/preprocessing.html\n",
      "Please also refer to the documentation for alternative solver options:\n",
      "    https://scikit-learn.org/stable/modules/linear_model.html#logistic-regression\n",
      "  n_iter_i = _check_optimize_result(\n",
      "C:\\Users\\dylan\\anaconda3\\lib\\site-packages\\sklearn\\linear_model\\_logistic.py:763: ConvergenceWarning: lbfgs failed to converge (status=1):\n",
      "STOP: TOTAL NO. of ITERATIONS REACHED LIMIT.\n",
      "\n",
      "Increase the number of iterations (max_iter) or scale the data as shown in:\n",
      "    https://scikit-learn.org/stable/modules/preprocessing.html\n",
      "Please also refer to the documentation for alternative solver options:\n",
      "    https://scikit-learn.org/stable/modules/linear_model.html#logistic-regression\n",
      "  n_iter_i = _check_optimize_result(\n",
      "C:\\Users\\dylan\\anaconda3\\lib\\site-packages\\sklearn\\linear_model\\_logistic.py:763: ConvergenceWarning: lbfgs failed to converge (status=1):\n",
      "STOP: TOTAL NO. of ITERATIONS REACHED LIMIT.\n",
      "\n",
      "Increase the number of iterations (max_iter) or scale the data as shown in:\n",
      "    https://scikit-learn.org/stable/modules/preprocessing.html\n",
      "Please also refer to the documentation for alternative solver options:\n",
      "    https://scikit-learn.org/stable/modules/linear_model.html#logistic-regression\n",
      "  n_iter_i = _check_optimize_result(\n",
      "C:\\Users\\dylan\\anaconda3\\lib\\site-packages\\sklearn\\linear_model\\_logistic.py:763: ConvergenceWarning: lbfgs failed to converge (status=1):\n",
      "STOP: TOTAL NO. of ITERATIONS REACHED LIMIT.\n",
      "\n",
      "Increase the number of iterations (max_iter) or scale the data as shown in:\n",
      "    https://scikit-learn.org/stable/modules/preprocessing.html\n",
      "Please also refer to the documentation for alternative solver options:\n",
      "    https://scikit-learn.org/stable/modules/linear_model.html#logistic-regression\n",
      "  n_iter_i = _check_optimize_result(\n"
     ]
    },
    {
     "name": "stdout",
     "output_type": "stream",
     "text": [
      "[0.6215650625384168, 0.6238803016685374, 0.6125956395036506, 0.617294637489384, 0.6191791506499773]\n",
      "[0.02399363405890973, 0.026926855182818475, 0.00951839426654359, 0.02145372458379962, 0.04486898289639167]\n"
     ]
    },
    {
     "data": {
      "image/png": "[encoded data removed]",
      "text/plain": [
       "<Figure size 432x288 with 1 Axes>"
      ]
     },
     "metadata": {
      "needs_background": "light"
     },
     "output_type": "display_data"
    }
   ],
   "source": [
    "from sklearn.linear_model import LogisticRegression\n",
    "LR_model = LogisticRegression(penalty = \"none\", max_iter=1e3)\n",
    "#default solver=\"lbfgs\"\n",
    "\n",
    "LR_model.fit(X, Y)\n",
    "################################\n",
    "\n",
    "#from sklearn.preprocessing import PolynomialFeatures\n",
    "q_poly = [1,2,3,4,5]      \n",
    "\n",
    "\n",
    "precision=[]\n",
    "precision_err=[]\n",
    "for q in q_poly:\n",
    "    Xpoly = PolynomialFeatures(q, include_bias=False).fit_transform(X)\n",
    "    tmp=[]\n",
    "    #for train, test in kf.split(Xpoly):\n",
    "    for train, test in kf.split(Xpoly):\n",
    "        LR_model.fit(Xpoly[train],Y[train])\n",
    "        ypred = LR_model.predict(Xpoly[test])\n",
    "        #print(confusion_matrix(ypred,Y[test]))\n",
    "\n",
    "        tmp.append( precision_score(Y[test], ypred, average=\"weighted\") )\n",
    "        ## average = {‘micro’, ‘macro’, ‘samples’, ‘weighted’, ‘binary’}\n",
    "\n",
    "    precision.append( np.array(tmp).mean() )\n",
    "    precision_err.append( np.array(tmp).std() )\n",
    "\n",
    "print(precision)\n",
    "print(precision_err)\n",
    "\n",
    "plt.errorbar(q_poly, precision, yerr=precision_err)\n",
    "plt.xlabel(\"k\")\n",
    "plt.ylabel(\"Precision\")\n",
    "plt.title(\"Precision with LinReg, no penalty\")\n",
    "plt.show()"
   ]
  },
  {
   "cell_type": "code",
   "execution_count": 55,
   "id": "eedea819",
   "metadata": {
    "ExecuteTime": {
     "end_time": "2021-11-30T20:38:05.534066Z",
     "start_time": "2021-11-30T20:37:43.856945Z"
    }
   },
   "outputs": [
    {
     "name": "stderr",
     "output_type": "stream",
     "text": [
      "C:\\Users\\dylan\\anaconda3\\lib\\site-packages\\sklearn\\metrics\\_classification.py:1245: UndefinedMetricWarning: Precision is ill-defined and being set to 0.0 in labels with no predicted samples. Use `zero_division` parameter to control this behavior.\n",
      "  _warn_prf(average, modifier, msg_start, len(result))\n",
      "C:\\Users\\dylan\\anaconda3\\lib\\site-packages\\sklearn\\metrics\\_classification.py:1245: UndefinedMetricWarning: Precision is ill-defined and being set to 0.0 in labels with no predicted samples. Use `zero_division` parameter to control this behavior.\n",
      "  _warn_prf(average, modifier, msg_start, len(result))\n",
      "C:\\Users\\dylan\\anaconda3\\lib\\site-packages\\sklearn\\metrics\\_classification.py:1245: UndefinedMetricWarning: Precision is ill-defined and being set to 0.0 in labels with no predicted samples. Use `zero_division` parameter to control this behavior.\n",
      "  _warn_prf(average, modifier, msg_start, len(result))\n",
      "C:\\Users\\dylan\\anaconda3\\lib\\site-packages\\sklearn\\metrics\\_classification.py:1245: UndefinedMetricWarning: Precision is ill-defined and being set to 0.0 in labels with no predicted samples. Use `zero_division` parameter to control this behavior.\n",
      "  _warn_prf(average, modifier, msg_start, len(result))\n",
      "C:\\Users\\dylan\\anaconda3\\lib\\site-packages\\sklearn\\metrics\\_classification.py:1245: UndefinedMetricWarning: Precision is ill-defined and being set to 0.0 in labels with no predicted samples. Use `zero_division` parameter to control this behavior.\n",
      "  _warn_prf(average, modifier, msg_start, len(result))\n",
      "C:\\Users\\dylan\\anaconda3\\lib\\site-packages\\sklearn\\metrics\\_classification.py:1245: UndefinedMetricWarning: Precision is ill-defined and being set to 0.0 in labels with no predicted samples. Use `zero_division` parameter to control this behavior.\n",
      "  _warn_prf(average, modifier, msg_start, len(result))\n",
      "C:\\Users\\dylan\\anaconda3\\lib\\site-packages\\sklearn\\metrics\\_classification.py:1245: UndefinedMetricWarning: Precision is ill-defined and being set to 0.0 in labels with no predicted samples. Use `zero_division` parameter to control this behavior.\n",
      "  _warn_prf(average, modifier, msg_start, len(result))\n",
      "C:\\Users\\dylan\\anaconda3\\lib\\site-packages\\sklearn\\metrics\\_classification.py:1245: UndefinedMetricWarning: Precision is ill-defined and being set to 0.0 in labels with no predicted samples. Use `zero_division` parameter to control this behavior.\n",
      "  _warn_prf(average, modifier, msg_start, len(result))\n",
      "C:\\Users\\dylan\\anaconda3\\lib\\site-packages\\sklearn\\metrics\\_classification.py:1245: UndefinedMetricWarning: Precision is ill-defined and being set to 0.0 in labels with no predicted samples. Use `zero_division` parameter to control this behavior.\n",
      "  _warn_prf(average, modifier, msg_start, len(result))\n",
      "C:\\Users\\dylan\\anaconda3\\lib\\site-packages\\sklearn\\metrics\\_classification.py:1245: UndefinedMetricWarning: Precision is ill-defined and being set to 0.0 in labels with no predicted samples. Use `zero_division` parameter to control this behavior.\n",
      "  _warn_prf(average, modifier, msg_start, len(result))\n",
      "C:\\Users\\dylan\\anaconda3\\lib\\site-packages\\sklearn\\metrics\\_classification.py:1245: UndefinedMetricWarning: Precision is ill-defined and being set to 0.0 in labels with no predicted samples. Use `zero_division` parameter to control this behavior.\n",
      "  _warn_prf(average, modifier, msg_start, len(result))\n",
      "C:\\Users\\dylan\\anaconda3\\lib\\site-packages\\sklearn\\metrics\\_classification.py:1245: UndefinedMetricWarning: Precision is ill-defined and being set to 0.0 in labels with no predicted samples. Use `zero_division` parameter to control this behavior.\n",
      "  _warn_prf(average, modifier, msg_start, len(result))\n",
      "C:\\Users\\dylan\\anaconda3\\lib\\site-packages\\sklearn\\metrics\\_classification.py:1245: UndefinedMetricWarning: Precision is ill-defined and being set to 0.0 in labels with no predicted samples. Use `zero_division` parameter to control this behavior.\n",
      "  _warn_prf(average, modifier, msg_start, len(result))\n",
      "C:\\Users\\dylan\\anaconda3\\lib\\site-packages\\sklearn\\metrics\\_classification.py:1245: UndefinedMetricWarning: Precision is ill-defined and being set to 0.0 in labels with no predicted samples. Use `zero_division` parameter to control this behavior.\n",
      "  _warn_prf(average, modifier, msg_start, len(result))\n"
     ]
    },
    {
     "data": {
      "image/png": "[encoded data removed]",
      "text/plain": [
       "<Figure size 432x288 with 1 Axes>"
      ]
     },
     "metadata": {
      "needs_background": "light"
     },
     "output_type": "display_data"
    }
   ],
   "source": [
    "from sklearn.linear_model import LogisticRegression\n",
    "LR_model = LogisticRegression(penalty = \"l2\",C=1, max_iter=1e4)\n",
    "\n",
    "################################\n",
    "\n",
    "#from sklearn.preprocessing import PolynomialFeatures\n",
    "q_poly = [1,2,3,4,5]\n",
    "#Cs = [0.01, 0.1, 1]\n",
    "Cs = [0.001,0.01,0.1, 1, 10,100,1000]\n",
    "q=3\n",
    "\n",
    "precision=[]\n",
    "precision_err=[]\n",
    "for c in Cs:\n",
    "    \n",
    "    model = LogisticRegression(penalty = \"l2\",C=c, solver=\"lbfgs\", max_iter=1e5)\n",
    "    Xpoly = PolynomialFeatures(q, include_bias=False).fit_transform(X)\n",
    "    tmp=[]\n",
    "    #for train, test in kf.split(Xpoly):\n",
    "    for train, test in kf.split(X):\n",
    "        model.fit(X[train],Y[train])\n",
    "        ypred = model.predict(X[test])\n",
    "        #print(confusion_matrix(ypred,Y[test]))\n",
    "\n",
    "        tmp.append( precision_score(Y[test], ypred, average=\"weighted\") )\n",
    "        ## average = {‘micro’, ‘macro’, ‘samples’, ‘weighted’, ‘binary’}\n",
    "    #print(tmp)\n",
    "    precision.append( np.array(tmp).mean() )\n",
    "    precision_err.append( np.array(tmp).std() )\n",
    "\n",
    "#print(precision)\n",
    "#print(precision_err)\n",
    "\n",
    "plt.errorbar(Cs, precision, yerr=precision_err)\n",
    "plt.xscale(\"log\")\n",
    "plt.xlabel(\"C\")\n",
    "plt.ylabel(\"Precision\")\n",
    "plt.title(\"Precision with LinReg, L2 penalty\")\n",
    "plt.show()"
   ]
  },
  {
   "cell_type": "markdown",
   "id": "b186c70c",
   "metadata": {},
   "source": [
    "# SVM Classification"
   ]
  },
  {
   "cell_type": "code",
   "execution_count": 26,
   "id": "0d341257",
   "metadata": {
    "ExecuteTime": {
     "end_time": "2021-11-30T16:50:01.421647Z",
     "start_time": "2021-11-30T16:50:01.404401Z"
    }
   },
   "outputs": [],
   "source": [
    "#precision with averages\n",
    "def my_precision( ytrue, ypred, classes): #classes = {1,2,...,n}\n",
    "    if (len(ytrue) != len(ypred) ):\n",
    "        print(\"Error. Not same dimensions\")\n",
    "        \n",
    "    ny = len(ypred) #number of predicitions\n",
    "    nc = len(classes)\n",
    "    tp = np.zeros(nc)#true positives\n",
    "    \n",
    "    for j in range(ny):\n",
    "        if (ytrue[j]==ypred[j]):\n",
    "            tp[ int(ytrue[j]-1) ]+=1\n",
    "        \n",
    "    return (sum(tp)/ny) #average precision\n",
    "    "
   ]
  },
  {
   "cell_type": "code",
   "execution_count": 27,
   "id": "0bcfc7d0",
   "metadata": {
    "ExecuteTime": {
     "end_time": "2021-11-30T16:50:48.106233Z",
     "start_time": "2021-11-30T16:50:02.046386Z"
    }
   },
   "outputs": [
    {
     "name": "stderr",
     "output_type": "stream",
     "text": [
      "C:\\Users\\dylan\\anaconda3\\lib\\site-packages\\sklearn\\svm\\_base.py:985: ConvergenceWarning: Liblinear failed to converge, increase the number of iterations.\n",
      "  warnings.warn(\"Liblinear failed to converge, increase \"\n",
      "C:\\Users\\dylan\\anaconda3\\lib\\site-packages\\sklearn\\svm\\_base.py:985: ConvergenceWarning: Liblinear failed to converge, increase the number of iterations.\n",
      "  warnings.warn(\"Liblinear failed to converge, increase \"\n",
      "C:\\Users\\dylan\\anaconda3\\lib\\site-packages\\sklearn\\svm\\_base.py:985: ConvergenceWarning: Liblinear failed to converge, increase the number of iterations.\n",
      "  warnings.warn(\"Liblinear failed to converge, increase \"\n",
      "C:\\Users\\dylan\\anaconda3\\lib\\site-packages\\sklearn\\svm\\_base.py:985: ConvergenceWarning: Liblinear failed to converge, increase the number of iterations.\n",
      "  warnings.warn(\"Liblinear failed to converge, increase \"\n",
      "C:\\Users\\dylan\\anaconda3\\lib\\site-packages\\sklearn\\svm\\_base.py:985: ConvergenceWarning: Liblinear failed to converge, increase the number of iterations.\n",
      "  warnings.warn(\"Liblinear failed to converge, increase \"\n",
      "C:\\Users\\dylan\\anaconda3\\lib\\site-packages\\sklearn\\svm\\_base.py:985: ConvergenceWarning: Liblinear failed to converge, increase the number of iterations.\n",
      "  warnings.warn(\"Liblinear failed to converge, increase \"\n",
      "C:\\Users\\dylan\\anaconda3\\lib\\site-packages\\sklearn\\svm\\_base.py:985: ConvergenceWarning: Liblinear failed to converge, increase the number of iterations.\n",
      "  warnings.warn(\"Liblinear failed to converge, increase \"\n",
      "C:\\Users\\dylan\\anaconda3\\lib\\site-packages\\sklearn\\svm\\_base.py:985: ConvergenceWarning: Liblinear failed to converge, increase the number of iterations.\n",
      "  warnings.warn(\"Liblinear failed to converge, increase \"\n",
      "C:\\Users\\dylan\\anaconda3\\lib\\site-packages\\sklearn\\svm\\_base.py:985: ConvergenceWarning: Liblinear failed to converge, increase the number of iterations.\n",
      "  warnings.warn(\"Liblinear failed to converge, increase \"\n",
      "C:\\Users\\dylan\\anaconda3\\lib\\site-packages\\sklearn\\svm\\_base.py:985: ConvergenceWarning: Liblinear failed to converge, increase the number of iterations.\n",
      "  warnings.warn(\"Liblinear failed to converge, increase \"\n"
     ]
    },
    {
     "data": {
      "image/png": "[encoded data removed]",
      "text/plain": [
       "<Figure size 432x288 with 1 Axes>"
      ]
     },
     "metadata": {
      "needs_background": "light"
     },
     "output_type": "display_data"
    }
   ],
   "source": [
    "from sklearn.svm import LinearSVC\n",
    "model = LinearSVC(C=c, max_iter=1E4)\n",
    "classes=np.array([1,2,3,4,5,6,7,8])\n",
    "\n",
    "################################\n",
    "\n",
    "#from sklearn.preprocessing import PolynomialFeatures\n",
    "q_poly = [1,2,3,4,5]\n",
    "Cs = [0.001,0.01,0.1, 1, 10,100,1000]\n",
    "#Cs = [0.01,0.1, 1, 10]\n",
    "q=3\n",
    "\n",
    "precision=[]\n",
    "precision_err=[]\n",
    "for c in Cs:\n",
    "    model = LinearSVC(C=c, max_iter=1E4)\n",
    "    #Xpoly = PolynomialFeatures(q, include_bias=False).fit_transform(X)\n",
    "    tmp=[]\n",
    "    #for train, test in kf.split(Xpoly):\n",
    "    for train, test in kf.split(X):\n",
    "        model.fit(X[train],Y[train])\n",
    "        ypred = model.predict(X[test])\n",
    "        #print(confusion_matrix(ypred,Y[test]))\n",
    "\n",
    "        #Average weighting on precision\n",
    "        tmp.append( my_precision(np.array(Y[test]), ypred, classes) )\n",
    "\n",
    "    precision.append( np.array(tmp).mean() )\n",
    "    precision_err.append( np.array(tmp).std() )\n",
    "\n",
    "\n",
    "plt.errorbar(Cs, precision, yerr=precision_err)\n",
    "plt.xscale(\"log\")\n",
    "plt.xlabel(\"C\")\n",
    "plt.ylabel(\"Precision\")\n",
    "plt.title(\"Precision for SVM w/ L2 penalty\")\n",
    "plt.show()"
   ]
  },
  {
   "cell_type": "code",
   "execution_count": 28,
   "id": "7f91a795",
   "metadata": {
    "ExecuteTime": {
     "end_time": "2021-11-30T16:52:04.619227Z",
     "start_time": "2021-11-30T16:51:11.601577Z"
    }
   },
   "outputs": [
    {
     "name": "stderr",
     "output_type": "stream",
     "text": [
      "C:\\Users\\dylan\\anaconda3\\lib\\site-packages\\sklearn\\svm\\_base.py:985: ConvergenceWarning: Liblinear failed to converge, increase the number of iterations.\n",
      "  warnings.warn(\"Liblinear failed to converge, increase \"\n",
      "C:\\Users\\dylan\\anaconda3\\lib\\site-packages\\sklearn\\svm\\_base.py:985: ConvergenceWarning: Liblinear failed to converge, increase the number of iterations.\n",
      "  warnings.warn(\"Liblinear failed to converge, increase \"\n",
      "C:\\Users\\dylan\\anaconda3\\lib\\site-packages\\sklearn\\svm\\_base.py:985: ConvergenceWarning: Liblinear failed to converge, increase the number of iterations.\n",
      "  warnings.warn(\"Liblinear failed to converge, increase \"\n",
      "C:\\Users\\dylan\\anaconda3\\lib\\site-packages\\sklearn\\svm\\_base.py:985: ConvergenceWarning: Liblinear failed to converge, increase the number of iterations.\n",
      "  warnings.warn(\"Liblinear failed to converge, increase \"\n",
      "C:\\Users\\dylan\\anaconda3\\lib\\site-packages\\sklearn\\svm\\_base.py:985: ConvergenceWarning: Liblinear failed to converge, increase the number of iterations.\n",
      "  warnings.warn(\"Liblinear failed to converge, increase \"\n",
      "C:\\Users\\dylan\\anaconda3\\lib\\site-packages\\sklearn\\svm\\_base.py:985: ConvergenceWarning: Liblinear failed to converge, increase the number of iterations.\n",
      "  warnings.warn(\"Liblinear failed to converge, increase \"\n",
      "C:\\Users\\dylan\\anaconda3\\lib\\site-packages\\sklearn\\svm\\_base.py:985: ConvergenceWarning: Liblinear failed to converge, increase the number of iterations.\n",
      "  warnings.warn(\"Liblinear failed to converge, increase \"\n",
      "C:\\Users\\dylan\\anaconda3\\lib\\site-packages\\sklearn\\svm\\_base.py:985: ConvergenceWarning: Liblinear failed to converge, increase the number of iterations.\n",
      "  warnings.warn(\"Liblinear failed to converge, increase \"\n",
      "C:\\Users\\dylan\\anaconda3\\lib\\site-packages\\sklearn\\svm\\_base.py:985: ConvergenceWarning: Liblinear failed to converge, increase the number of iterations.\n",
      "  warnings.warn(\"Liblinear failed to converge, increase \"\n",
      "C:\\Users\\dylan\\anaconda3\\lib\\site-packages\\sklearn\\svm\\_base.py:985: ConvergenceWarning: Liblinear failed to converge, increase the number of iterations.\n",
      "  warnings.warn(\"Liblinear failed to converge, increase \"\n",
      "C:\\Users\\dylan\\anaconda3\\lib\\site-packages\\sklearn\\svm\\_base.py:985: ConvergenceWarning: Liblinear failed to converge, increase the number of iterations.\n",
      "  warnings.warn(\"Liblinear failed to converge, increase \"\n",
      "C:\\Users\\dylan\\anaconda3\\lib\\site-packages\\sklearn\\svm\\_base.py:985: ConvergenceWarning: Liblinear failed to converge, increase the number of iterations.\n",
      "  warnings.warn(\"Liblinear failed to converge, increase \"\n",
      "C:\\Users\\dylan\\anaconda3\\lib\\site-packages\\sklearn\\svm\\_base.py:985: ConvergenceWarning: Liblinear failed to converge, increase the number of iterations.\n",
      "  warnings.warn(\"Liblinear failed to converge, increase \"\n",
      "C:\\Users\\dylan\\anaconda3\\lib\\site-packages\\sklearn\\svm\\_base.py:985: ConvergenceWarning: Liblinear failed to converge, increase the number of iterations.\n",
      "  warnings.warn(\"Liblinear failed to converge, increase \"\n",
      "C:\\Users\\dylan\\anaconda3\\lib\\site-packages\\sklearn\\svm\\_base.py:985: ConvergenceWarning: Liblinear failed to converge, increase the number of iterations.\n",
      "  warnings.warn(\"Liblinear failed to converge, increase \"\n"
     ]
    },
    {
     "data": {
      "image/png": "[encoded data removed]",
      "text/plain": [
       "<Figure size 432x288 with 1 Axes>"
      ]
     },
     "metadata": {
      "needs_background": "light"
     },
     "output_type": "display_data"
    }
   ],
   "source": [
    "from sklearn.svm import LinearSVC\n",
    "#model = LinearSVC(C=c, max_iter=1E3)\n",
    "\n",
    "\n",
    "###################################\n",
    "\n",
    "\n",
    "q_poly = [1,2,3,4,5]\n",
    "Cs = [0.001,0.01,0.1, 1, 10,100,1000]\n",
    "#Cs = [0.01,0.1, 1, 10]\n",
    "q=3\n",
    "\n",
    "precision=[]\n",
    "precision_err=[]\n",
    "for c in Cs:\n",
    "    model = LinearSVC(C=c, max_iter=1E3)\n",
    "    Xpoly = PolynomialFeatures(q, include_bias=False).fit_transform(X)\n",
    "    tmp=[]\n",
    "    #for train, test in kf.split(Xpoly):\n",
    "    for train, test in kf.split(Xpoly):\n",
    "        model.fit(Xpoly[train],Y[train])\n",
    "        ypred = model.predict(Xpoly[test])\n",
    "        #print(confusion_matrix(ypred,Y[test]))\n",
    "\n",
    "        #Average weighting on precision\n",
    "        tmp.append( my_precision(np.array(Y[test]), ypred, classes) )\n",
    "\n",
    "    precision.append( np.array(tmp).mean() )\n",
    "    precision_err.append( np.array(tmp).std() )\n",
    "\n",
    "\n",
    "plt.errorbar(Cs, precision, yerr=precision_err)\n",
    "plt.xscale(\"log\")\n",
    "plt.xlabel(\"C\")\n",
    "plt.ylabel(\"Precision\")\n",
    "plt.title(\"Precision for SVM w/ L2 penalty\")\n",
    "plt.show()"
   ]
  },
  {
   "cell_type": "code",
   "execution_count": 31,
   "id": "f3bb41d3",
   "metadata": {
    "ExecuteTime": {
     "end_time": "2021-11-30T16:53:15.042867Z",
     "start_time": "2021-11-30T16:53:14.395787Z"
    }
   },
   "outputs": [
    {
     "data": {
      "image/png": "[encoded data removed]",
      "text/plain": [
       "<Figure size 432x288 with 1 Axes>"
      ]
     },
     "metadata": {
      "needs_background": "light"
     },
     "output_type": "display_data"
    }
   ],
   "source": [
    "#from sklearn.linear_model import Lasso\n",
    "from sklearn.linear_model import RidgeClassifier\n",
    "\n",
    "################################\n",
    "\n",
    "#from sklearn.preprocessing import PolynomialFeatures\n",
    "q_poly = [1,2,3,4,5]\n",
    "Cs = [0.001,0.01,0.1, 1, 10,100,1000]\n",
    "q=3\n",
    "\n",
    "precision=[]\n",
    "precision_err=[]\n",
    "for c in Cs:\n",
    "    model = RidgeClassifier(alpha = 1/c )\n",
    "    Xpoly = PolynomialFeatures(q, include_bias=False).fit_transform(X)\n",
    "    tmp=[]\n",
    "    #for train, test in kf.split(Xpoly):\n",
    "    for train, test in kf.split(X):\n",
    "        model.fit(X[train],Y[train])\n",
    "        ypred = model.predict(X[test])\n",
    "        #print(confusion_matrix(ypred,Y[test]))\n",
    "\n",
    "        #Average weighting on precision\n",
    "        tmp.append( my_precision(np.array(Y[test]), ypred, classes) )\n",
    "\n",
    "    precision.append( np.array(tmp).mean() )\n",
    "    precision_err.append( np.array(tmp).std() )\n",
    "\n",
    "\n",
    "plt.errorbar(Cs, precision, yerr=precision_err)\n",
    "plt.xscale(\"log\")\n",
    "plt.xlabel(\"C\")\n",
    "plt.ylabel(\"Precision\")\n",
    "plt.title(\"Precision for Ridge\")\n",
    "plt.show()"
   ]
  },
  {
   "cell_type": "code",
   "execution_count": null,
   "id": "a5f244d2",
   "metadata": {},
   "outputs": [],
   "source": []
  }
 ],
 "metadata": {
  "kernelspec": {
   "display_name": "Python 3",
   "language": "python",
   "name": "python3"
  },
  "language_info": {
   "codemirror_mode": {
    "name": "ipython",
    "version": 3
   },
   "file_extension": ".py",
   "mimetype": "text/x-python",
   "name": "python",
   "nbconvert_exporter": "python",
   "pygments_lexer": "ipython3",
   "version": "3.8.8"
  },
  "varInspector": {
   "cols": {
    "lenName": 16,
    "lenType": 16,
    "lenVar": 40
   },
   "kernels_config": {
    "python": {
     "delete_cmd_postfix": "",
     "delete_cmd_prefix": "del ",
     "library": "var_list.py",
     "varRefreshCmd": "print(var_dic_list())"
    },
    "r": {
     "delete_cmd_postfix": ") ",
     "delete_cmd_prefix": "rm(",
     "library": "var_list.r",
     "varRefreshCmd": "cat(var_dic_list()) "
    }
   },
   "types_to_exclude": [
    "module",
    "function",
    "builtin_function_or_method",
    "instance",
    "_Feature"
   ],
   "window_display": false
  }
 },
 "nbformat": 4,
 "nbformat_minor": 5
}
