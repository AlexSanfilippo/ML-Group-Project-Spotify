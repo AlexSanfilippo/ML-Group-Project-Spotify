{
 "cells": [
  {
   "cell_type": "markdown",
   "id": "a7deebe2",
   "metadata": {},
   "source": [
    "# Version 1.0\n",
    "# 30/11/21\n",
    "Machine Learning Group Project\n",
    "\n",
    "\n",
    "Adapted from file \"ImportingDataV0.1.py\""
   ]
  },
  {
   "cell_type": "code",
   "execution_count": 1,
   "id": "6ceef4ac",
   "metadata": {
    "ExecuteTime": {
     "end_time": "2021-12-04T10:12:28.112339Z",
     "start_time": "2021-12-04T10:12:26.701981Z"
    }
   },
   "outputs": [],
   "source": [
    "import pandas as pd\n",
    "import numpy as np\n",
    "import matplotlib.pyplot as plt\n",
    "\n",
    "plt.rc(\"font\", size=14)"
   ]
  },
  {
   "cell_type": "markdown",
   "id": "b02ddab5",
   "metadata": {},
   "source": [
    "# Checking csv and titles by importing first row of a file"
   ]
  },
  {
   "cell_type": "code",
   "execution_count": 2,
   "id": "38dfec4b",
   "metadata": {
    "ExecuteTime": {
     "end_time": "2021-12-04T10:12:28.287936Z",
     "start_time": "2021-12-04T10:12:28.196332Z"
    }
   },
   "outputs": [
    {
     "data": {
      "text/html": [
       "<div>\n",
       "<style scoped>\n",
       "    .dataframe tbody tr th:only-of-type {\n",
       "        vertical-align: middle;\n",
       "    }\n",
       "\n",
       "    .dataframe tbody tr th {\n",
       "        vertical-align: top;\n",
       "    }\n",
       "\n",
       "    .dataframe thead th {\n",
       "        text-align: right;\n",
       "    }\n",
       "</style>\n",
       "<table border=\"1\" class=\"dataframe\">\n",
       "  <thead>\n",
       "    <tr style=\"text-align: right;\">\n",
       "      <th></th>\n",
       "      <th>danceability</th>\n",
       "      <th>energy</th>\n",
       "      <th>key</th>\n",
       "      <th>loudness</th>\n",
       "      <th>mode</th>\n",
       "      <th>speechiness</th>\n",
       "      <th>acousticness</th>\n",
       "      <th>instrumentalness</th>\n",
       "      <th>liveness</th>\n",
       "      <th>valence</th>\n",
       "      <th>tempo</th>\n",
       "      <th>type</th>\n",
       "      <th>id</th>\n",
       "      <th>uri</th>\n",
       "      <th>track_href</th>\n",
       "      <th>analysis_url</th>\n",
       "      <th>duration_ms</th>\n",
       "      <th>time_signature</th>\n",
       "      <th>track_name</th>\n",
       "    </tr>\n",
       "  </thead>\n",
       "  <tbody>\n",
       "    <tr>\n",
       "      <th>0</th>\n",
       "      <td>0.31</td>\n",
       "      <td>0.7</td>\n",
       "      <td>9</td>\n",
       "      <td>-5.678</td>\n",
       "      <td>1</td>\n",
       "      <td>0.047</td>\n",
       "      <td>0.011</td>\n",
       "      <td>0.00965</td>\n",
       "      <td>0.0828</td>\n",
       "      <td>0.763</td>\n",
       "      <td>188.386</td>\n",
       "      <td>audio_features</td>\n",
       "      <td>08mG3Y1vljYA6bvDt4Wqkj</td>\n",
       "      <td>spotify:track:08mG3Y1vljYA6bvDt4Wqkj</td>\n",
       "      <td>https://api.spotify.com/v1/tracks/08mG3Y1vljYA...</td>\n",
       "      <td>https://api.spotify.com/v1/audio-analysis/08mG...</td>\n",
       "      <td>255493</td>\n",
       "      <td>4</td>\n",
       "      <td>Back In Black</td>\n",
       "    </tr>\n",
       "  </tbody>\n",
       "</table>\n",
       "</div>"
      ],
      "text/plain": [
       "   danceability  energy  key  loudness  mode  speechiness  acousticness  \\\n",
       "0          0.31     0.7    9    -5.678     1        0.047         0.011   \n",
       "\n",
       "   instrumentalness  liveness  valence    tempo            type  \\\n",
       "0           0.00965    0.0828    0.763  188.386  audio_features   \n",
       "\n",
       "                       id                                   uri  \\\n",
       "0  08mG3Y1vljYA6bvDt4Wqkj  spotify:track:08mG3Y1vljYA6bvDt4Wqkj   \n",
       "\n",
       "                                          track_href  \\\n",
       "0  https://api.spotify.com/v1/tracks/08mG3Y1vljYA...   \n",
       "\n",
       "                                        analysis_url  duration_ms  \\\n",
       "0  https://api.spotify.com/v1/audio-analysis/08mG...       255493   \n",
       "\n",
       "   time_signature     track_name  \n",
       "0               4  Back In Black  "
      ]
     },
     "metadata": {},
     "output_type": "display_data"
    }
   ],
   "source": [
    "file_dir=\"../SpotifyData/\"\n",
    "file_name=\"ClassicRock_3Ho3iO0iJykgEQNbjB2sic.csv\"\n",
    "\n",
    "test_csv = pd.read_csv(file_dir+file_name, index_col=0, nrows=1) \n",
    "display(test_csv)"
   ]
  },
  {
   "cell_type": "markdown",
   "id": "11f02f24",
   "metadata": {},
   "source": [
    "# Compiling Data\n",
    "Next step is to make a single dataframe holding the data from all source files"
   ]
  },
  {
   "cell_type": "code",
   "execution_count": 5,
   "id": "5b6fa7fe",
   "metadata": {
    "ExecuteTime": {
     "end_time": "2021-12-04T10:13:23.306842Z",
     "start_time": "2021-12-04T10:13:23.067189Z"
    }
   },
   "outputs": [
    {
     "name": "stdout",
     "output_type": "stream",
     "text": [
      "Removing n duplicates =  24\n"
     ]
    },
    {
     "data": {
      "text/html": [
       "<div>\n",
       "<style scoped>\n",
       "    .dataframe tbody tr th:only-of-type {\n",
       "        vertical-align: middle;\n",
       "    }\n",
       "\n",
       "    .dataframe tbody tr th {\n",
       "        vertical-align: top;\n",
       "    }\n",
       "\n",
       "    .dataframe thead th {\n",
       "        text-align: right;\n",
       "    }\n",
       "</style>\n",
       "<table border=\"1\" class=\"dataframe\">\n",
       "  <thead>\n",
       "    <tr style=\"text-align: right;\">\n",
       "      <th></th>\n",
       "      <th>danceability</th>\n",
       "      <th>energy</th>\n",
       "      <th>mode</th>\n",
       "      <th>speechiness</th>\n",
       "      <th>acousticness</th>\n",
       "      <th>instrumentalness</th>\n",
       "      <th>liveness</th>\n",
       "      <th>valence</th>\n",
       "      <th>tempo</th>\n",
       "      <th>playlist_number</th>\n",
       "    </tr>\n",
       "  </thead>\n",
       "  <tbody>\n",
       "    <tr>\n",
       "      <th>0</th>\n",
       "      <td>0.639</td>\n",
       "      <td>0.2690</td>\n",
       "      <td>1</td>\n",
       "      <td>0.0698</td>\n",
       "      <td>0.982</td>\n",
       "      <td>0.120000</td>\n",
       "      <td>0.141</td>\n",
       "      <td>0.539</td>\n",
       "      <td>124.866</td>\n",
       "      <td>1.0</td>\n",
       "    </tr>\n",
       "    <tr>\n",
       "      <th>1</th>\n",
       "      <td>0.419</td>\n",
       "      <td>0.0284</td>\n",
       "      <td>1</td>\n",
       "      <td>0.0357</td>\n",
       "      <td>0.987</td>\n",
       "      <td>0.586000</td>\n",
       "      <td>0.105</td>\n",
       "      <td>0.121</td>\n",
       "      <td>71.502</td>\n",
       "      <td>1.0</td>\n",
       "    </tr>\n",
       "    <tr>\n",
       "      <th>2</th>\n",
       "      <td>0.573</td>\n",
       "      <td>0.2470</td>\n",
       "      <td>0</td>\n",
       "      <td>0.0627</td>\n",
       "      <td>0.713</td>\n",
       "      <td>0.000056</td>\n",
       "      <td>0.103</td>\n",
       "      <td>0.604</td>\n",
       "      <td>138.234</td>\n",
       "      <td>1.0</td>\n",
       "    </tr>\n",
       "    <tr>\n",
       "      <th>3</th>\n",
       "      <td>0.593</td>\n",
       "      <td>0.1030</td>\n",
       "      <td>1</td>\n",
       "      <td>0.0810</td>\n",
       "      <td>0.986</td>\n",
       "      <td>0.600000</td>\n",
       "      <td>0.120</td>\n",
       "      <td>0.443</td>\n",
       "      <td>66.283</td>\n",
       "      <td>1.0</td>\n",
       "    </tr>\n",
       "    <tr>\n",
       "      <th>4</th>\n",
       "      <td>0.450</td>\n",
       "      <td>0.0288</td>\n",
       "      <td>1</td>\n",
       "      <td>0.0467</td>\n",
       "      <td>0.994</td>\n",
       "      <td>0.895000</td>\n",
       "      <td>0.118</td>\n",
       "      <td>0.358</td>\n",
       "      <td>130.838</td>\n",
       "      <td>1.0</td>\n",
       "    </tr>\n",
       "  </tbody>\n",
       "</table>\n",
       "</div>"
      ],
      "text/plain": [
       "   danceability  energy  mode  speechiness  acousticness  instrumentalness  \\\n",
       "0         0.639  0.2690     1       0.0698         0.982          0.120000   \n",
       "1         0.419  0.0284     1       0.0357         0.987          0.586000   \n",
       "2         0.573  0.2470     0       0.0627         0.713          0.000056   \n",
       "3         0.593  0.1030     1       0.0810         0.986          0.600000   \n",
       "4         0.450  0.0288     1       0.0467         0.994          0.895000   \n",
       "\n",
       "   liveness  valence    tempo  playlist_number  \n",
       "0     0.141    0.539  124.866              1.0  \n",
       "1     0.105    0.121   71.502              1.0  \n",
       "2     0.103    0.604  138.234              1.0  \n",
       "3     0.120    0.443   66.283              1.0  \n",
       "4     0.118    0.358  130.838              1.0  "
      ]
     },
     "metadata": {},
     "output_type": "display_data"
    }
   ],
   "source": [
    "file_dir=\"../SpotifyData/\"\n",
    "\n",
    "file_names= [\"JazzClassic_37i9dQZF1DXbITWG1ZJKYt.csv\",\\\n",
    "             \"CountryHits_1mJhSx6aYQmINsZ8dG4gzU.csv\",\\\n",
    "             \"ClassicalStudy_6wObnEPQ63a4kei1sEcMdH.csv\",\\\n",
    "             \"HipHopClassics_5CRJExGSQFYXem2hT5GFkd.csv\",\\\n",
    "            \"ClassicRock_3Ho3iO0iJykgEQNbjB2sic.csv\",\\\n",
    "             \"KpopClassics_0jB4ANR4ox65etDMnxvGLp.csv\",\\\n",
    "             \"HeavyMetalClassics_27gN69ebwiJRtXEboL12Ih.csv\",\\\n",
    "             \"DanceHits_5oKz4DsTP8zbL97UIPbqp4.csv\"]\n",
    "\n",
    "#file_nrows=[ 200, 205, 227,229, 299, 322, 385, 434]\n",
    "\n",
    "#Sticking with just the basic parameters for now\n",
    "parameter_columns = [1,2,5,6,7,8,9,10]\n",
    "# tempo_column=11\n",
    "# mode 5\n",
    "parameter_columns = [1,2,5,6,7,8,9,10,11]\n",
    "\n",
    "\n",
    "\n",
    "## Most convenient to set up dataframe with initial file, then systematically loop through the others\n",
    "## 1 indexing here more natural\n",
    "playlist_number=1\n",
    "data = pd.read_csv(file_dir+file_names[playlist_number-1], usecols=parameter_columns)#, nrows=file_nrows[0])\n",
    "\n",
    "playlist_numbers = playlist_number*np.ones(len(data))\n",
    "data[\"playlist_number\"]=playlist_numbers #Now has extra playlist column\n",
    "\n",
    "\n",
    "\n",
    "# Now looping through the remaining filenames\n",
    "for playlist_number in range(2,len(file_names)+1):\n",
    "    ## dtmp := Temporary dataframe, will append to df.data once data filtered and prepped\n",
    "    dtmp= pd.read_csv(file_dir+file_names[playlist_number-1], usecols=parameter_columns)\n",
    "    \n",
    "    ## Incase we want to use const number of songs per playlist\n",
    "    #dtmp= pd.read_csv(file_dir+file_names[playlist_number-1], usecols=parameter_columns), \\\n",
    "    #                  nrows=200)\n",
    "\n",
    "    playlist_numbers = playlist_number*np.ones(len(dtmp)) # array of playlist_number\n",
    "    dtmp[\"playlist_number\"]=playlist_numbers #Now has extra playlist column\n",
    "    data=data.append(dtmp, ignore_index=True) #Append back to main df.data\n",
    "    \n",
    "\n",
    "    \n",
    "## Removing duplicates\n",
    "print(\"Removing n duplicates = \", data.duplicated().sum()) #prints number of duplicates\n",
    "data = data.drop_duplicates() \n",
    "display(data.head())\n",
    "\n",
    "\n",
    "X = data.loc[:,\"danceability\":\"tempo\"]#.values\n",
    "#X = data.loc[:,\"danceability\":\"tempo\"]\n",
    "Y = data.loc[:,\"playlist_number\"]\n",
    "\n",
    "## Reset indexing after dropring duplicates\n",
    "X.reset_index(drop=True, inplace=True)\n",
    "Y.reset_index(drop=True, inplace=True)\n",
    "X=np.array(X);Y=np.array(Y)\n",
    "classes=np.array([1,2,3,4,5,6,7,8])"
   ]
  },
  {
   "cell_type": "code",
   "execution_count": 6,
   "id": "9212551a",
   "metadata": {
    "ExecuteTime": {
     "end_time": "2021-12-04T10:13:24.866606Z",
     "start_time": "2021-12-04T10:13:24.843140Z"
    }
   },
   "outputs": [
    {
     "name": "stdout",
     "output_type": "stream",
     "text": [
      "[[6.39000e-01 2.69000e-01 1.00000e+00 ... 1.41000e-01 5.39000e-01\n",
      "  1.24866e+02]\n",
      " [4.19000e-01 2.84000e-02 1.00000e+00 ... 1.05000e-01 1.21000e-01\n",
      "  7.15020e+01]\n",
      " [5.73000e-01 2.47000e-01 0.00000e+00 ... 1.03000e-01 6.04000e-01\n",
      "  1.38234e+02]\n",
      " ...\n",
      " [5.28000e-01 9.65000e-01 0.00000e+00 ... 7.97000e-02 5.87000e-01\n",
      "  1.36065e+02]\n",
      " [4.58000e-01 6.96000e-01 1.00000e+00 ... 1.23000e-01 4.18000e-01\n",
      "  1.74141e+02]\n",
      " [3.11000e-01 8.57000e-01 0.00000e+00 ... 3.07000e-01 3.58000e-01\n",
      "  1.19960e+02]]\n",
      "(2282, 9)\n",
      "[6.39000e-01 2.69000e-01 1.00000e+00 6.98000e-02 9.82000e-01 1.20000e-01\n",
      " 1.41000e-01 5.39000e-01 1.24866e+02]\n"
     ]
    }
   ],
   "source": [
    "## Sanity checks\n",
    "print(X)\n",
    "print(X.shape)\n",
    "print(np.array(X)[0])"
   ]
  },
  {
   "cell_type": "markdown",
   "id": "054cfc26",
   "metadata": {},
   "source": [
    "# kNN Model"
   ]
  },
  {
   "cell_type": "code",
   "execution_count": 7,
   "id": "69de5be4",
   "metadata": {
    "ExecuteTime": {
     "end_time": "2021-12-04T10:13:33.514813Z",
     "start_time": "2021-12-04T10:13:29.985213Z"
    }
   },
   "outputs": [
    {
     "name": "stdout",
     "output_type": "stream",
     "text": [
      "[[155  10  14   2  10   2   6   3]\n",
      " [  3 143   1  13  49  43  40  30]\n",
      " [ 32   0 212   0   1   1   0   0]\n",
      " [  3   2   1 192  18  19  16  17]\n",
      " [  6  10   0   3 176  30  47  34]\n",
      " [  1   5   0  10  11 184  20  51]\n",
      " [  0   3   0   0  20   4 245   5]\n",
      " [  0  15   0   6  14  39  12 293]]\n"
     ]
    }
   ],
   "source": [
    "from sklearn.neighbors import KNeighborsClassifier\n",
    "\n",
    "## Just training on all data\n",
    "model = KNeighborsClassifier(n_neighbors=3, weights=\"uniform\").fit(X,Y)\n",
    "ypred = model.predict(X)\n",
    "\n",
    "\n",
    "from sklearn.metrics import confusion_matrix\n",
    "print(confusion_matrix(ypred,Y))\n",
    "\n",
    "## Rows are true values\n",
    "## Columns are predicted values\n",
    "## e.g. C_(6,8) = 42 -> 42 songs in Playlist 6, predicted to be in Playlist 8"
   ]
  },
  {
   "cell_type": "markdown",
   "id": "cb3364d7",
   "metadata": {},
   "source": [
    "# Precision for kNN weighted by distance"
   ]
  },
  {
   "cell_type": "code",
   "execution_count": 8,
   "id": "bf61a0bc",
   "metadata": {
    "ExecuteTime": {
     "end_time": "2021-12-04T10:13:43.947492Z",
     "start_time": "2021-12-04T10:13:43.138834Z"
    }
   },
   "outputs": [
    {
     "name": "stdout",
     "output_type": "stream",
     "text": [
      "[ 3  5  7  9 11 13 15 17]\n",
      "[0.4548667895120734, 0.4443390341279896, 0.4421468514466326, 0.4357945602518331, 0.43496161081039575, 0.431119556732824, 0.4281902787603582, 0.42549654017428695]\n",
      "[0.008840529337722482, 0.019848641756584736, 0.017716952386486032, 0.01908839319878641, 0.019546166061105503, 0.0205148633687723, 0.020709276863830423, 0.023105258502247226]\n"
     ]
    },
    {
     "data": {
      "image/png": "[encoded data removed]",
      "text/plain": [
       "<Figure size 432x288 with 1 Axes>"
      ]
     },
     "metadata": {
      "needs_background": "light"
     },
     "output_type": "display_data"
    }
   ],
   "source": [
    "n_splits = 5\n",
    "ks = np.arange(3,18,2)\n",
    "print(ks)\n",
    "\n",
    "from sklearn.model_selection import KFold    \n",
    "from sklearn.metrics import precision_score, accuracy_score\n",
    "kf = KFold(n_splits=n_splits, shuffle=True) #important to shuffle for our ordered data\n",
    "\n",
    "tmp=[] ## Holds accuracy at each ksplit\n",
    "accuracy=[]\n",
    "accuracy_err=[]\n",
    "for k in ks:\n",
    "    model = KNeighborsClassifier(n_neighbors=k, weights=\"distance\")\n",
    "    for train, test in kf.split(X):\n",
    "        model.fit(X[train],Y[train])\n",
    "        ypred = model.predict(X[test])\n",
    "        #print(confusion_matrix(ypred,Y[test]))\n",
    "\n",
    "        #tmp.append( precision_score(Y[test], ypred, average=\"weighted\") )\n",
    "        tmp.append( accuracy_score(Y[test], ypred) )\n",
    "        ## average = {‘micro’, ‘macro’, ‘samples’, ‘weighted’, ‘binary’}\n",
    "\n",
    "    accuracy.append( np.array(tmp).mean() )\n",
    "    accuracy_err.append( np.array(tmp).std() )\n",
    "\n",
    "print(accuracy)\n",
    "print(accuracy_err)\n",
    "\n",
    "plt.errorbar(ks, accuracy, yerr=accuracy_err)\n",
    "plt.xlabel(\"k\")\n",
    "plt.ylabel(\"Accuracy\")\n",
    "plt.xticks(ks)\n",
    "plt.title(\"Accuracu with average weighting, kNN distance weighting\")\n",
    "plt.show()"
   ]
  },
  {
   "cell_type": "markdown",
   "id": "bf2808a0",
   "metadata": {},
   "source": [
    "# Accuracy for distance kNN weights"
   ]
  },
  {
   "cell_type": "code",
   "execution_count": 9,
   "id": "ed3910d5",
   "metadata": {
    "ExecuteTime": {
     "end_time": "2021-12-04T10:14:09.844401Z",
     "start_time": "2021-12-04T10:14:09.141363Z"
    }
   },
   "outputs": [
    {
     "name": "stdout",
     "output_type": "stream",
     "text": [
      "[0.441715612883412, 0.432080886022496, 0.4307737341164728, 0.4291277976121924, 0.4263891128258282, 0.4236072721921507, 0.4210612691466083, 0.4199761747092019]\n",
      "[0.014899677332448388, 0.0175528344492145, 0.020663989761310987, 0.018679706927879923, 0.0188325746688981, 0.02219303202133305, 0.022297636644144078, 0.02299289390889852]\n"
     ]
    },
    {
     "data": {
      "image/png": "[encoded data removed]",
      "text/plain": [
       "<Figure size 432x288 with 1 Axes>"
      ]
     },
     "metadata": {
      "needs_background": "light"
     },
     "output_type": "display_data"
    }
   ],
   "source": [
    "tmp=[]\n",
    "accuracy=[]\n",
    "accuracy_err=[]\n",
    "for k in ks:\n",
    "    model = KNeighborsClassifier(n_neighbors=k, weights=\"distance\")\n",
    "    \n",
    "    accuracy_tmp=[]\n",
    "    for train, test in kf.split(X):\n",
    "        model.fit(X[train],Y[train])\n",
    "        ypred = model.predict(X[test])\n",
    "        #print(confusion_matrix(ypred,Y[test]))\n",
    "        tmp.append( accuracy_score(Y[test], ypred) )\n",
    "        \n",
    "    accuracy.append(np.array(tmp).mean())\n",
    "    accuracy_err.append(np.array(tmp).std())\n",
    "    \n",
    "print(accuracy)\n",
    "print(accuracy_err)\n",
    "\n",
    "plt.errorbar(ks, accuracy, yerr=accuracy_err)\n",
    "plt.xticks(ks)\n",
    "plt.xlabel(\"k\")\n",
    "plt.ylabel(\"Accuracy\")\n",
    "plt.title(\"Accuracy kNN (weighted by distance)\")\n",
    "plt.show()"
   ]
  },
  {
   "cell_type": "markdown",
   "id": "6e62c759",
   "metadata": {
    "ExecuteTime": {
     "end_time": "2021-11-30T13:04:47.539852Z",
     "start_time": "2021-11-30T13:04:47.127746Z"
    }
   },
   "source": [
    "#Skeane77 — Today at 11:35\n",
    "\n",
    "file_names= [\"ClassicRock_3Ho3iO0iJykgEQNbjB2sic.csv\",\\\n",
    "             \"ClassicalStudy_6wObnEPQ63a4kei1sEcMdH.csv\",\\\n",
    "             \"CountryHits_1mJhSx6aYQmINsZ8dG4gzU.csv\",\\\n",
    "             \"DanceHits_5oKz4DsTP8zbL97UIPbqp4.csv\",\\\n",
    "             \"HeavyMetalClassics_27gN69ebwiJRtXEboL12Ih.csv\",\\\n",
    "             \"HipHopClassics_5CRJExGSQFYXem2hT5GFkd.csv\",\\\n",
    "             \"JazzClassic_37i9dQZF1DXbITWG1ZJKYt.csv\",\\\n",
    "             \"KpopClassics_0jB4ANR4ox65etDMnxvGLp.csv\"]\n",
    "\n",
    "\n",
    "# Most convenient to set up dataframe with initial file, then systematically loop through the others\n",
    "#Sticking with just the basic parameters for now\n",
    "parameter_columns = [1,2,5,6,7,8,9, 19]#19 for songnames\n",
    "nrows=200\n",
    "\n",
    "\n",
    "\n",
    "#1 indexing here more natural\n",
    "playlist_number=1\n",
    "data = pd.read_csv(file_dir+file_names[playlist_number-1], usecols=parameter_columns, nrows=nrows)\n",
    "\n",
    "playlist_numbers = playlist_number*np.ones(len(data))\n",
    "data[\"playlist_number\"]=playlist_numbers #Now has extra playlist column\n",
    "\n",
    "\n",
    "\n",
    "# Now looping through the remaining filenames\n",
    "for playlist_number in range(2,len(file_names)+1):\n",
    "    # dtmp := Temporary dataframe, will append to df.data once data filtered and prepped\n",
    "    dtmp= pd.read_csv(file_dir+file_names[playlist_number-1], usecols=parameter_columns, nrows=nrows)\n",
    "\n",
    "    playlist_numbers = playlist_number*np.ones(len(dtmp)) # array of playlist_number\n",
    "    dtmp[\"playlist_number\"]=playlist_numbers #Now has extra playlist column\n",
    "    data=data.append(dtmp, ignore_index=True) #Append back to main df.data\n",
    "    \n",
    "display(data)\n",
    "print(data.duplicated().sum()) #prints number of duplicates\n",
    "print(data.loc[data.duplicated(),:]) #prints rowof duplicate"
   ]
  },
  {
   "cell_type": "markdown",
   "id": "c3572569",
   "metadata": {},
   "source": [
    "# Polynomial Features\n"
   ]
  },
  {
   "cell_type": "code",
   "execution_count": 10,
   "id": "988adf41",
   "metadata": {
    "ExecuteTime": {
     "end_time": "2021-12-04T10:14:31.857970Z",
     "start_time": "2021-12-04T10:14:19.980178Z"
    },
    "scrolled": false
   },
   "outputs": [
    {
     "name": "stdout",
     "output_type": "stream",
     "text": [
      "0.4222253349724737\n",
      "0.39197380704618257\n",
      "0.38079982742744983\n",
      "0.3704341887514272\n",
      "0.3558879301128248\n"
     ]
    },
    {
     "data": {
      "image/png": "[encoded data removed]",
      "text/plain": [
       "<Figure size 576x432 with 1 Axes>"
      ]
     },
     "metadata": {
      "needs_background": "light"
     },
     "output_type": "display_data"
    }
   ],
   "source": [
    "from sklearn.preprocessing import PolynomialFeatures\n",
    "q_poly = [1,2,3,4,5]      \n",
    "\n",
    "plt.figure(figsize=(8,6))\n",
    "for q in q_poly:\n",
    "    Xpoly = PolynomialFeatures(q, include_bias=False).fit_transform(X)\n",
    "    tmp=[]\n",
    "    accuracy=np.array([])\n",
    "    accuracy_err=np.array([])\n",
    "    for k in ks:\n",
    "        model = KNeighborsClassifier(n_neighbors=k, weights=\"distance\")\n",
    "        for train, test in kf.split(Xpoly):\n",
    "            model.fit(Xpoly[train],Y[train])\n",
    "            ypred = model.predict(Xpoly[test])\n",
    "            #print(confusion_matrix(ypred,Y[test]))\n",
    "\n",
    "            tmp.append( accuracy_score(Y[test], ypred))#, average=\"weighted\") )\n",
    "            ## average = {‘micro’, ‘macro’, ‘samples’, ‘weighted’, ‘binary’}\n",
    "\n",
    "        accuracy=np.append( accuracy, np.array(tmp).mean() )\n",
    "        accuracy_err= np.append( accuracy_err, np.array(tmp).std() )\n",
    "\n",
    "    print(max(accuracy-accuracy_err))\n",
    "    #print(accuracy_err)\n",
    "\n",
    "    \"\"\"\n",
    "    plt.errorbar(ks, accuracy, yerr=accuracy_err)\n",
    "    plt.xlabel(\"k\")\n",
    "    plt.ylabel(\"accuracy\")\n",
    "    plt.title(\"Accuracy with average weighting, kNN distance weighting. Q=\"+ str(q))\n",
    "    plt.show()\n",
    "    \"\"\"\n",
    "    plt.plot(ks, accuracy, label=\"q=\"+str(q))\n",
    "    #plt.errorbar(ks, accuracy, yerr=accuracy_err, label=\"q=\"+str(q), capsize=3)\n",
    "\n",
    "plt.xticks(ks)\n",
    "plt.xlabel(\"k\")\n",
    "plt.ylabel(\"Accuracy\")\n",
    "plt.legend()\n",
    "plt.title(\"kNN Accuracy with Polynomial Features up to order q\")\n",
    "plt.show()"
   ]
  },
  {
   "cell_type": "code",
   "execution_count": null,
   "id": "c002b097",
   "metadata": {},
   "outputs": [],
   "source": []
  },
  {
   "cell_type": "markdown",
   "id": "dfc5de31",
   "metadata": {},
   "source": [
    "# Logistic Regression"
   ]
  },
  {
   "cell_type": "code",
   "execution_count": 11,
   "id": "92de7899",
   "metadata": {
    "ExecuteTime": {
     "end_time": "2021-12-04T10:16:54.638430Z",
     "start_time": "2021-12-04T10:14:40.670136Z"
    },
    "scrolled": false
   },
   "outputs": [
    {
     "name": "stderr",
     "output_type": "stream",
     "text": [
      "C:\\Users\\dylan\\anaconda3\\lib\\site-packages\\sklearn\\linear_model\\_logistic.py:763: ConvergenceWarning: lbfgs failed to converge (status=1):\n",
      "STOP: TOTAL NO. of ITERATIONS REACHED LIMIT.\n",
      "\n",
      "Increase the number of iterations (max_iter) or scale the data as shown in:\n",
      "    https://scikit-learn.org/stable/modules/preprocessing.html\n",
      "Please also refer to the documentation for alternative solver options:\n",
      "    https://scikit-learn.org/stable/modules/linear_model.html#logistic-regression\n",
      "  n_iter_i = _check_optimize_result(\n",
      "C:\\Users\\dylan\\anaconda3\\lib\\site-packages\\sklearn\\linear_model\\_logistic.py:763: ConvergenceWarning: lbfgs failed to converge (status=1):\n",
      "STOP: TOTAL NO. of ITERATIONS REACHED LIMIT.\n",
      "\n",
      "Increase the number of iterations (max_iter) or scale the data as shown in:\n",
      "    https://scikit-learn.org/stable/modules/preprocessing.html\n",
      "Please also refer to the documentation for alternative solver options:\n",
      "    https://scikit-learn.org/stable/modules/linear_model.html#logistic-regression\n",
      "  n_iter_i = _check_optimize_result(\n",
      "C:\\Users\\dylan\\anaconda3\\lib\\site-packages\\sklearn\\linear_model\\_logistic.py:763: ConvergenceWarning: lbfgs failed to converge (status=1):\n",
      "STOP: TOTAL NO. of ITERATIONS REACHED LIMIT.\n",
      "\n",
      "Increase the number of iterations (max_iter) or scale the data as shown in:\n",
      "    https://scikit-learn.org/stable/modules/preprocessing.html\n",
      "Please also refer to the documentation for alternative solver options:\n",
      "    https://scikit-learn.org/stable/modules/linear_model.html#logistic-regression\n",
      "  n_iter_i = _check_optimize_result(\n",
      "C:\\Users\\dylan\\anaconda3\\lib\\site-packages\\sklearn\\linear_model\\_logistic.py:763: ConvergenceWarning: lbfgs failed to converge (status=1):\n",
      "STOP: TOTAL NO. of ITERATIONS REACHED LIMIT.\n",
      "\n",
      "Increase the number of iterations (max_iter) or scale the data as shown in:\n",
      "    https://scikit-learn.org/stable/modules/preprocessing.html\n",
      "Please also refer to the documentation for alternative solver options:\n",
      "    https://scikit-learn.org/stable/modules/linear_model.html#logistic-regression\n",
      "  n_iter_i = _check_optimize_result(\n",
      "C:\\Users\\dylan\\anaconda3\\lib\\site-packages\\sklearn\\linear_model\\_logistic.py:763: ConvergenceWarning: lbfgs failed to converge (status=1):\n",
      "STOP: TOTAL NO. of ITERATIONS REACHED LIMIT.\n",
      "\n",
      "Increase the number of iterations (max_iter) or scale the data as shown in:\n",
      "    https://scikit-learn.org/stable/modules/preprocessing.html\n",
      "Please also refer to the documentation for alternative solver options:\n",
      "    https://scikit-learn.org/stable/modules/linear_model.html#logistic-regression\n",
      "  n_iter_i = _check_optimize_result(\n",
      "C:\\Users\\dylan\\anaconda3\\lib\\site-packages\\sklearn\\linear_model\\_logistic.py:763: ConvergenceWarning: lbfgs failed to converge (status=1):\n",
      "STOP: TOTAL NO. of ITERATIONS REACHED LIMIT.\n",
      "\n",
      "Increase the number of iterations (max_iter) or scale the data as shown in:\n",
      "    https://scikit-learn.org/stable/modules/preprocessing.html\n",
      "Please also refer to the documentation for alternative solver options:\n",
      "    https://scikit-learn.org/stable/modules/linear_model.html#logistic-regression\n",
      "  n_iter_i = _check_optimize_result(\n",
      "C:\\Users\\dylan\\anaconda3\\lib\\site-packages\\sklearn\\linear_model\\_logistic.py:763: ConvergenceWarning: lbfgs failed to converge (status=1):\n",
      "STOP: TOTAL NO. of ITERATIONS REACHED LIMIT.\n",
      "\n",
      "Increase the number of iterations (max_iter) or scale the data as shown in:\n",
      "    https://scikit-learn.org/stable/modules/preprocessing.html\n",
      "Please also refer to the documentation for alternative solver options:\n",
      "    https://scikit-learn.org/stable/modules/linear_model.html#logistic-regression\n",
      "  n_iter_i = _check_optimize_result(\n",
      "C:\\Users\\dylan\\anaconda3\\lib\\site-packages\\sklearn\\linear_model\\_logistic.py:763: ConvergenceWarning: lbfgs failed to converge (status=1):\n",
      "STOP: TOTAL NO. of ITERATIONS REACHED LIMIT.\n",
      "\n",
      "Increase the number of iterations (max_iter) or scale the data as shown in:\n",
      "    https://scikit-learn.org/stable/modules/preprocessing.html\n",
      "Please also refer to the documentation for alternative solver options:\n",
      "    https://scikit-learn.org/stable/modules/linear_model.html#logistic-regression\n",
      "  n_iter_i = _check_optimize_result(\n",
      "C:\\Users\\dylan\\anaconda3\\lib\\site-packages\\sklearn\\linear_model\\_logistic.py:763: ConvergenceWarning: lbfgs failed to converge (status=1):\n",
      "STOP: TOTAL NO. of ITERATIONS REACHED LIMIT.\n",
      "\n",
      "Increase the number of iterations (max_iter) or scale the data as shown in:\n",
      "    https://scikit-learn.org/stable/modules/preprocessing.html\n",
      "Please also refer to the documentation for alternative solver options:\n",
      "    https://scikit-learn.org/stable/modules/linear_model.html#logistic-regression\n",
      "  n_iter_i = _check_optimize_result(\n",
      "C:\\Users\\dylan\\anaconda3\\lib\\site-packages\\sklearn\\linear_model\\_logistic.py:763: ConvergenceWarning: lbfgs failed to converge (status=1):\n",
      "STOP: TOTAL NO. of ITERATIONS REACHED LIMIT.\n",
      "\n",
      "Increase the number of iterations (max_iter) or scale the data as shown in:\n",
      "    https://scikit-learn.org/stable/modules/preprocessing.html\n",
      "Please also refer to the documentation for alternative solver options:\n",
      "    https://scikit-learn.org/stable/modules/linear_model.html#logistic-regression\n",
      "  n_iter_i = _check_optimize_result(\n",
      "C:\\Users\\dylan\\anaconda3\\lib\\site-packages\\sklearn\\linear_model\\_logistic.py:763: ConvergenceWarning: lbfgs failed to converge (status=1):\n",
      "STOP: TOTAL NO. of ITERATIONS REACHED LIMIT.\n",
      "\n",
      "Increase the number of iterations (max_iter) or scale the data as shown in:\n",
      "    https://scikit-learn.org/stable/modules/preprocessing.html\n",
      "Please also refer to the documentation for alternative solver options:\n",
      "    https://scikit-learn.org/stable/modules/linear_model.html#logistic-regression\n",
      "  n_iter_i = _check_optimize_result(\n",
      "C:\\Users\\dylan\\anaconda3\\lib\\site-packages\\sklearn\\linear_model\\_logistic.py:763: ConvergenceWarning: lbfgs failed to converge (status=1):\n",
      "STOP: TOTAL NO. of ITERATIONS REACHED LIMIT.\n",
      "\n",
      "Increase the number of iterations (max_iter) or scale the data as shown in:\n",
      "    https://scikit-learn.org/stable/modules/preprocessing.html\n",
      "Please also refer to the documentation for alternative solver options:\n",
      "    https://scikit-learn.org/stable/modules/linear_model.html#logistic-regression\n",
      "  n_iter_i = _check_optimize_result(\n",
      "C:\\Users\\dylan\\anaconda3\\lib\\site-packages\\sklearn\\linear_model\\_logistic.py:763: ConvergenceWarning: lbfgs failed to converge (status=1):\n",
      "STOP: TOTAL NO. of ITERATIONS REACHED LIMIT.\n",
      "\n",
      "Increase the number of iterations (max_iter) or scale the data as shown in:\n",
      "    https://scikit-learn.org/stable/modules/preprocessing.html\n",
      "Please also refer to the documentation for alternative solver options:\n",
      "    https://scikit-learn.org/stable/modules/linear_model.html#logistic-regression\n",
      "  n_iter_i = _check_optimize_result(\n",
      "C:\\Users\\dylan\\anaconda3\\lib\\site-packages\\sklearn\\linear_model\\_logistic.py:763: ConvergenceWarning: lbfgs failed to converge (status=1):\n",
      "STOP: TOTAL NO. of ITERATIONS REACHED LIMIT.\n",
      "\n",
      "Increase the number of iterations (max_iter) or scale the data as shown in:\n",
      "    https://scikit-learn.org/stable/modules/preprocessing.html\n",
      "Please also refer to the documentation for alternative solver options:\n",
      "    https://scikit-learn.org/stable/modules/linear_model.html#logistic-regression\n",
      "  n_iter_i = _check_optimize_result(\n",
      "C:\\Users\\dylan\\anaconda3\\lib\\site-packages\\sklearn\\linear_model\\_logistic.py:763: ConvergenceWarning: lbfgs failed to converge (status=1):\n",
      "STOP: TOTAL NO. of ITERATIONS REACHED LIMIT.\n",
      "\n",
      "Increase the number of iterations (max_iter) or scale the data as shown in:\n",
      "    https://scikit-learn.org/stable/modules/preprocessing.html\n",
      "Please also refer to the documentation for alternative solver options:\n",
      "    https://scikit-learn.org/stable/modules/linear_model.html#logistic-regression\n",
      "  n_iter_i = _check_optimize_result(\n",
      "C:\\Users\\dylan\\anaconda3\\lib\\site-packages\\sklearn\\linear_model\\_logistic.py:763: ConvergenceWarning: lbfgs failed to converge (status=1):\n",
      "STOP: TOTAL NO. of ITERATIONS REACHED LIMIT.\n",
      "\n",
      "Increase the number of iterations (max_iter) or scale the data as shown in:\n",
      "    https://scikit-learn.org/stable/modules/preprocessing.html\n",
      "Please also refer to the documentation for alternative solver options:\n",
      "    https://scikit-learn.org/stable/modules/linear_model.html#logistic-regression\n",
      "  n_iter_i = _check_optimize_result(\n"
     ]
    },
    {
     "name": "stderr",
     "output_type": "stream",
     "text": [
      "C:\\Users\\dylan\\anaconda3\\lib\\site-packages\\sklearn\\linear_model\\_logistic.py:763: ConvergenceWarning: lbfgs failed to converge (status=1):\n",
      "STOP: TOTAL NO. of ITERATIONS REACHED LIMIT.\n",
      "\n",
      "Increase the number of iterations (max_iter) or scale the data as shown in:\n",
      "    https://scikit-learn.org/stable/modules/preprocessing.html\n",
      "Please also refer to the documentation for alternative solver options:\n",
      "    https://scikit-learn.org/stable/modules/linear_model.html#logistic-regression\n",
      "  n_iter_i = _check_optimize_result(\n",
      "C:\\Users\\dylan\\anaconda3\\lib\\site-packages\\sklearn\\linear_model\\_logistic.py:763: ConvergenceWarning: lbfgs failed to converge (status=1):\n",
      "STOP: TOTAL NO. of ITERATIONS REACHED LIMIT.\n",
      "\n",
      "Increase the number of iterations (max_iter) or scale the data as shown in:\n",
      "    https://scikit-learn.org/stable/modules/preprocessing.html\n",
      "Please also refer to the documentation for alternative solver options:\n",
      "    https://scikit-learn.org/stable/modules/linear_model.html#logistic-regression\n",
      "  n_iter_i = _check_optimize_result(\n",
      "C:\\Users\\dylan\\anaconda3\\lib\\site-packages\\sklearn\\linear_model\\_logistic.py:763: ConvergenceWarning: lbfgs failed to converge (status=1):\n",
      "STOP: TOTAL NO. of ITERATIONS REACHED LIMIT.\n",
      "\n",
      "Increase the number of iterations (max_iter) or scale the data as shown in:\n",
      "    https://scikit-learn.org/stable/modules/preprocessing.html\n",
      "Please also refer to the documentation for alternative solver options:\n",
      "    https://scikit-learn.org/stable/modules/linear_model.html#logistic-regression\n",
      "  n_iter_i = _check_optimize_result(\n",
      "C:\\Users\\dylan\\anaconda3\\lib\\site-packages\\sklearn\\linear_model\\_logistic.py:763: ConvergenceWarning: lbfgs failed to converge (status=1):\n",
      "STOP: TOTAL NO. of ITERATIONS REACHED LIMIT.\n",
      "\n",
      "Increase the number of iterations (max_iter) or scale the data as shown in:\n",
      "    https://scikit-learn.org/stable/modules/preprocessing.html\n",
      "Please also refer to the documentation for alternative solver options:\n",
      "    https://scikit-learn.org/stable/modules/linear_model.html#logistic-regression\n",
      "  n_iter_i = _check_optimize_result(\n"
     ]
    },
    {
     "name": "stdout",
     "output_type": "stream",
     "text": [
      "[0.6529290951668011, 0.6603852355176782, 0.6122029636454375, 0.579324542208914, 0.5854514568697455]\n",
      "[0.010183132075324664, 0.014480266704086999, 0.020710917625739712, 0.022926476652552034, 0.005591593848190394]\n"
     ]
    },
    {
     "data": {
      "image/png": "[encoded data removed]",
      "text/plain": [
       "<Figure size 432x288 with 1 Axes>"
      ]
     },
     "metadata": {
      "needs_background": "light"
     },
     "output_type": "display_data"
    }
   ],
   "source": [
    "from sklearn.linear_model import LogisticRegression\n",
    "from sklearn.pipeline import make_pipeline #Pipelining outputs->inputs \n",
    "from sklearn.preprocessing import StandardScaler #Rescale data\n",
    "\n",
    "pipe = make_pipeline(StandardScaler(), \\\n",
    "                     LogisticRegression(penalty=\"none\", max_iter=1e3))\n",
    "################################\n",
    "\n",
    "#from sklearn.preprocessing import PolynomialFeatures\n",
    "q_poly = [1,2,3,4,5]      \n",
    "\n",
    "\n",
    "accuracy=[]\n",
    "accuracy_err=[]\n",
    "for q in q_poly:\n",
    "    Xpoly = PolynomialFeatures(q, include_bias=False).fit_transform(X)\n",
    "    tmp=[]\n",
    "    for train, test in kf.split(Xpoly):\n",
    "        \n",
    "        pipe.fit(Xpoly[train],Y[train])\n",
    "        tmp.append( pipe.score(Xpoly[test], Y[test]))\n",
    "        #ypred = pipe.predict(Xpoly[test])\n",
    "        #print(confusion_matrix(ypred,Y[test]))\n",
    "\n",
    "    accuracy.append( np.array(tmp).mean() )\n",
    "    accuracy_err.append( np.array(tmp).std() )\n",
    "\n",
    "print(accuracy)\n",
    "print(accuracy_err)\n",
    "\n",
    "plt.errorbar(q_poly, accuracy, yerr=accuracy_err)\n",
    "plt.xticks(q_poly)\n",
    "plt.xlabel(\"q\")\n",
    "plt.ylabel(\"Accuracy\")\n",
    "plt.title(\"Accuracy with LinReg, no penalty\")\n",
    "plt.show()\n",
    "\n",
    "#Saving for tuning C next\n",
    "accuracy_q2 = [accuracy[1], accuracy_err[1]]"
   ]
  },
  {
   "cell_type": "code",
   "execution_count": 19,
   "id": "eedea819",
   "metadata": {
    "ExecuteTime": {
     "end_time": "2021-12-04T10:23:42.310199Z",
     "start_time": "2021-12-04T10:23:13.326475Z"
    },
    "scrolled": false
   },
   "outputs": [
    {
     "name": "stderr",
     "output_type": "stream",
     "text": [
      "C:\\Users\\dylan\\anaconda3\\lib\\site-packages\\sklearn\\linear_model\\_logistic.py:763: ConvergenceWarning: lbfgs failed to converge (status=1):\n",
      "STOP: TOTAL NO. of ITERATIONS REACHED LIMIT.\n",
      "\n",
      "Increase the number of iterations (max_iter) or scale the data as shown in:\n",
      "    https://scikit-learn.org/stable/modules/preprocessing.html\n",
      "Please also refer to the documentation for alternative solver options:\n",
      "    https://scikit-learn.org/stable/modules/linear_model.html#logistic-regression\n",
      "  n_iter_i = _check_optimize_result(\n",
      "C:\\Users\\dylan\\anaconda3\\lib\\site-packages\\sklearn\\linear_model\\_logistic.py:763: ConvergenceWarning: lbfgs failed to converge (status=1):\n",
      "STOP: TOTAL NO. of ITERATIONS REACHED LIMIT.\n",
      "\n",
      "Increase the number of iterations (max_iter) or scale the data as shown in:\n",
      "    https://scikit-learn.org/stable/modules/preprocessing.html\n",
      "Please also refer to the documentation for alternative solver options:\n",
      "    https://scikit-learn.org/stable/modules/linear_model.html#logistic-regression\n",
      "  n_iter_i = _check_optimize_result(\n",
      "C:\\Users\\dylan\\anaconda3\\lib\\site-packages\\sklearn\\linear_model\\_logistic.py:763: ConvergenceWarning: lbfgs failed to converge (status=1):\n",
      "STOP: TOTAL NO. of ITERATIONS REACHED LIMIT.\n",
      "\n",
      "Increase the number of iterations (max_iter) or scale the data as shown in:\n",
      "    https://scikit-learn.org/stable/modules/preprocessing.html\n",
      "Please also refer to the documentation for alternative solver options:\n",
      "    https://scikit-learn.org/stable/modules/linear_model.html#logistic-regression\n",
      "  n_iter_i = _check_optimize_result(\n",
      "C:\\Users\\dylan\\anaconda3\\lib\\site-packages\\sklearn\\linear_model\\_logistic.py:763: ConvergenceWarning: lbfgs failed to converge (status=1):\n",
      "STOP: TOTAL NO. of ITERATIONS REACHED LIMIT.\n",
      "\n",
      "Increase the number of iterations (max_iter) or scale the data as shown in:\n",
      "    https://scikit-learn.org/stable/modules/preprocessing.html\n",
      "Please also refer to the documentation for alternative solver options:\n",
      "    https://scikit-learn.org/stable/modules/linear_model.html#logistic-regression\n",
      "  n_iter_i = _check_optimize_result(\n",
      "C:\\Users\\dylan\\anaconda3\\lib\\site-packages\\sklearn\\linear_model\\_logistic.py:763: ConvergenceWarning: lbfgs failed to converge (status=1):\n",
      "STOP: TOTAL NO. of ITERATIONS REACHED LIMIT.\n",
      "\n",
      "Increase the number of iterations (max_iter) or scale the data as shown in:\n",
      "    https://scikit-learn.org/stable/modules/preprocessing.html\n",
      "Please also refer to the documentation for alternative solver options:\n",
      "    https://scikit-learn.org/stable/modules/linear_model.html#logistic-regression\n",
      "  n_iter_i = _check_optimize_result(\n",
      "C:\\Users\\dylan\\anaconda3\\lib\\site-packages\\sklearn\\linear_model\\_logistic.py:763: ConvergenceWarning: lbfgs failed to converge (status=1):\n",
      "STOP: TOTAL NO. of ITERATIONS REACHED LIMIT.\n",
      "\n",
      "Increase the number of iterations (max_iter) or scale the data as shown in:\n",
      "    https://scikit-learn.org/stable/modules/preprocessing.html\n",
      "Please also refer to the documentation for alternative solver options:\n",
      "    https://scikit-learn.org/stable/modules/linear_model.html#logistic-regression\n",
      "  n_iter_i = _check_optimize_result(\n",
      "C:\\Users\\dylan\\anaconda3\\lib\\site-packages\\sklearn\\linear_model\\_logistic.py:763: ConvergenceWarning: lbfgs failed to converge (status=1):\n",
      "STOP: TOTAL NO. of ITERATIONS REACHED LIMIT.\n",
      "\n",
      "Increase the number of iterations (max_iter) or scale the data as shown in:\n",
      "    https://scikit-learn.org/stable/modules/preprocessing.html\n",
      "Please also refer to the documentation for alternative solver options:\n",
      "    https://scikit-learn.org/stable/modules/linear_model.html#logistic-regression\n",
      "  n_iter_i = _check_optimize_result(\n",
      "C:\\Users\\dylan\\anaconda3\\lib\\site-packages\\sklearn\\linear_model\\_logistic.py:763: ConvergenceWarning: lbfgs failed to converge (status=1):\n",
      "STOP: TOTAL NO. of ITERATIONS REACHED LIMIT.\n",
      "\n",
      "Increase the number of iterations (max_iter) or scale the data as shown in:\n",
      "    https://scikit-learn.org/stable/modules/preprocessing.html\n",
      "Please also refer to the documentation for alternative solver options:\n",
      "    https://scikit-learn.org/stable/modules/linear_model.html#logistic-regression\n",
      "  n_iter_i = _check_optimize_result(\n",
      "C:\\Users\\dylan\\anaconda3\\lib\\site-packages\\sklearn\\linear_model\\_logistic.py:763: ConvergenceWarning: lbfgs failed to converge (status=1):\n",
      "STOP: TOTAL NO. of ITERATIONS REACHED LIMIT.\n",
      "\n",
      "Increase the number of iterations (max_iter) or scale the data as shown in:\n",
      "    https://scikit-learn.org/stable/modules/preprocessing.html\n",
      "Please also refer to the documentation for alternative solver options:\n",
      "    https://scikit-learn.org/stable/modules/linear_model.html#logistic-regression\n",
      "  n_iter_i = _check_optimize_result(\n",
      "C:\\Users\\dylan\\anaconda3\\lib\\site-packages\\sklearn\\linear_model\\_logistic.py:763: ConvergenceWarning: lbfgs failed to converge (status=1):\n",
      "STOP: TOTAL NO. of ITERATIONS REACHED LIMIT.\n",
      "\n",
      "Increase the number of iterations (max_iter) or scale the data as shown in:\n",
      "    https://scikit-learn.org/stable/modules/preprocessing.html\n",
      "Please also refer to the documentation for alternative solver options:\n",
      "    https://scikit-learn.org/stable/modules/linear_model.html#logistic-regression\n",
      "  n_iter_i = _check_optimize_result(\n",
      "C:\\Users\\dylan\\anaconda3\\lib\\site-packages\\sklearn\\linear_model\\_logistic.py:763: ConvergenceWarning: lbfgs failed to converge (status=1):\n",
      "STOP: TOTAL NO. of ITERATIONS REACHED LIMIT.\n",
      "\n",
      "Increase the number of iterations (max_iter) or scale the data as shown in:\n",
      "    https://scikit-learn.org/stable/modules/preprocessing.html\n",
      "Please also refer to the documentation for alternative solver options:\n",
      "    https://scikit-learn.org/stable/modules/linear_model.html#logistic-regression\n",
      "  n_iter_i = _check_optimize_result(\n"
     ]
    },
    {
     "name": "stdout",
     "output_type": "stream",
     "text": [
      "[0.5753666167607202, 0.635429383085723, 0.6551307151906023, 0.6595185995623634, 0.6678432953280357, 0.658202810088679, 0.6533715305769895] \n",
      " [0.03255204286879834, 0.030927041314368152, 0.012779002047295995, 0.014879390828160045, 0.023742474972736814, 0.017525608570449193, 0.011368538824448857]\n"
     ]
    },
    {
     "name": "stderr",
     "output_type": "stream",
     "text": [
      "C:\\Users\\dylan\\anaconda3\\lib\\site-packages\\sklearn\\linear_model\\_logistic.py:763: ConvergenceWarning: lbfgs failed to converge (status=1):\n",
      "STOP: TOTAL NO. of ITERATIONS REACHED LIMIT.\n",
      "\n",
      "Increase the number of iterations (max_iter) or scale the data as shown in:\n",
      "    https://scikit-learn.org/stable/modules/preprocessing.html\n",
      "Please also refer to the documentation for alternative solver options:\n",
      "    https://scikit-learn.org/stable/modules/linear_model.html#logistic-regression\n",
      "  n_iter_i = _check_optimize_result(\n"
     ]
    }
   ],
   "source": [
    "from sklearn.linear_model import LogisticRegression\n",
    "from sklearn.pipeline import make_pipeline #Pipelining outputs->inputs \n",
    "from sklearn.preprocessing import StandardScaler #Rescale data\n",
    "\n",
    "################################\n",
    "\n",
    "#from sklearn.preprocessing import PolynomialFeatures\n",
    "#q_poly = [1,2,3,4,5]\n",
    "#Cs = [0.01, 0.1, 1]\n",
    "Cs = [0.001,0.01,0.1, 1, 10,100,1000]\n",
    "q=2\n",
    "Xpoly = PolynomialFeatures(q, include_bias=False).fit_transform(X)\n",
    "\n",
    "accuracy=[]\n",
    "accuracy_err=[]\n",
    "for c in Cs:\n",
    "    \n",
    "    pipe = make_pipeline(StandardScaler(), \\\n",
    "                         LogisticRegression(penalty = \"l2\",C=c, solver=\"lbfgs\", max_iter=1e3))\n",
    "    \n",
    "    tmp=[]\n",
    "    for train, test in kf.split(Xpoly):\n",
    "        pipe.fit(Xpoly[train],Y[train])\n",
    "        tmp.append( pipe.score(Xpoly[test], Y[test]) )\n",
    "        \n",
    "    accuracy.append( np.array(tmp).mean() )\n",
    "    accuracy_err.append( np.array(tmp).std() )\n",
    "\n",
    "\n",
    "print(accuracy,\"\\n\", accuracy_err)"
   ]
  },
  {
   "cell_type": "code",
   "execution_count": 20,
   "id": "2cf0fd6d",
   "metadata": {
    "ExecuteTime": {
     "end_time": "2021-12-04T10:23:42.994196Z",
     "start_time": "2021-12-04T10:23:42.519196Z"
    }
   },
   "outputs": [
    {
     "name": "stdout",
     "output_type": "stream",
     "text": [
      "[0.5753666167607202, 0.635429383085723, 0.6551307151906023, 0.6595185995623634, 0.6678432953280357, 0.658202810088679, 0.6533715305769895] \n",
      " [0.03255204286879834, 0.030927041314368152, 0.012779002047295995, 0.014879390828160045, 0.023742474972736814, 0.017525608570449193, 0.011368538824448857]\n"
     ]
    },
    {
     "data": {
      "image/png": "[encoded data removed]",
      "text/plain": [
       "<Figure size 432x288 with 1 Axes>"
      ]
     },
     "metadata": {
      "needs_background": "light"
     },
     "output_type": "display_data"
    }
   ],
   "source": [
    "print(accuracy,\"\\n\", accuracy_err)\n",
    "plt.hlines( accuracy_q2[0] + accuracy_q2[1], Cs[0], Cs[-1], linestyles=\"dashed\", color=\"red\")#, \"k--\")\n",
    "plt.hlines( accuracy_q2[0], Cs[0], Cs[-1], linestyles=\"dashed\", color=\"black\")#, \"k--\")\n",
    "plt.hlines( accuracy_q2[0] - accuracy_q2[1], Cs[0], Cs[-1], linestyles=\"dashed\", color=\"red\")#, \"k--\")\n",
    "plt.errorbar(Cs, accuracy, yerr=accuracy_err)\n",
    "plt.xscale(\"log\")\n",
    "plt.xlabel(\"C\")\n",
    "plt.ylabel(\"Accuracy\")\n",
    "plt.title(\"Accuracy with LinReg, L2 penalty\")\n",
    "plt.show()\n",
    "\n",
    "#Same accuracy but smaller variance around C=10"
   ]
  },
  {
   "cell_type": "markdown",
   "id": "b186c70c",
   "metadata": {},
   "source": [
    "# SVM Classification"
   ]
  },
  {
   "cell_type": "code",
   "execution_count": 26,
   "id": "0d341257",
   "metadata": {
    "ExecuteTime": {
     "end_time": "2021-11-30T16:50:01.421647Z",
     "start_time": "2021-11-30T16:50:01.404401Z"
    }
   },
   "outputs": [],
   "source": [
    "\n",
    "def my_precision( ytrue, ypred, classes): #classes = {1,2,...,n}\n",
    "    if (len(ytrue) != len(ypred) ):\n",
    "        print(\"Error. Not same dimensions\")\n",
    "        \n",
    "    ny = len(ypred) #number of predicitions\n",
    "    nc = len(classes)\n",
    "    tp = np.zeros(nc)#true positives\n",
    "    \n",
    "    for j in range(ny):\n",
    "        if (ytrue[j]==ypred[j]):\n",
    "            tp[ int(ytrue[j]-1) ]+=1\n",
    "        \n",
    "    return (sum(tp)/ny) #average precision\n",
    "    "
   ]
  },
  {
   "cell_type": "code",
   "execution_count": 22,
   "id": "0bcfc7d0",
   "metadata": {
    "ExecuteTime": {
     "end_time": "2021-12-04T10:26:25.968755Z",
     "start_time": "2021-12-04T10:26:16.363161Z"
    }
   },
   "outputs": [
    {
     "name": "stderr",
     "output_type": "stream",
     "text": [
      "C:\\Users\\dylan\\anaconda3\\lib\\site-packages\\sklearn\\svm\\_base.py:985: ConvergenceWarning: Liblinear failed to converge, increase the number of iterations.\n",
      "  warnings.warn(\"Liblinear failed to converge, increase \"\n",
      "C:\\Users\\dylan\\anaconda3\\lib\\site-packages\\sklearn\\svm\\_base.py:985: ConvergenceWarning: Liblinear failed to converge, increase the number of iterations.\n",
      "  warnings.warn(\"Liblinear failed to converge, increase \"\n",
      "C:\\Users\\dylan\\anaconda3\\lib\\site-packages\\sklearn\\svm\\_base.py:985: ConvergenceWarning: Liblinear failed to converge, increase the number of iterations.\n",
      "  warnings.warn(\"Liblinear failed to converge, increase \"\n",
      "C:\\Users\\dylan\\anaconda3\\lib\\site-packages\\sklearn\\svm\\_base.py:985: ConvergenceWarning: Liblinear failed to converge, increase the number of iterations.\n",
      "  warnings.warn(\"Liblinear failed to converge, increase \"\n",
      "C:\\Users\\dylan\\anaconda3\\lib\\site-packages\\sklearn\\svm\\_base.py:985: ConvergenceWarning: Liblinear failed to converge, increase the number of iterations.\n",
      "  warnings.warn(\"Liblinear failed to converge, increase \"\n",
      "C:\\Users\\dylan\\anaconda3\\lib\\site-packages\\sklearn\\svm\\_base.py:985: ConvergenceWarning: Liblinear failed to converge, increase the number of iterations.\n",
      "  warnings.warn(\"Liblinear failed to converge, increase \"\n",
      "C:\\Users\\dylan\\anaconda3\\lib\\site-packages\\sklearn\\svm\\_base.py:985: ConvergenceWarning: Liblinear failed to converge, increase the number of iterations.\n",
      "  warnings.warn(\"Liblinear failed to converge, increase \"\n",
      "C:\\Users\\dylan\\anaconda3\\lib\\site-packages\\sklearn\\svm\\_base.py:985: ConvergenceWarning: Liblinear failed to converge, increase the number of iterations.\n",
      "  warnings.warn(\"Liblinear failed to converge, increase \"\n",
      "C:\\Users\\dylan\\anaconda3\\lib\\site-packages\\sklearn\\svm\\_base.py:985: ConvergenceWarning: Liblinear failed to converge, increase the number of iterations.\n",
      "  warnings.warn(\"Liblinear failed to converge, increase \"\n",
      "C:\\Users\\dylan\\anaconda3\\lib\\site-packages\\sklearn\\svm\\_base.py:985: ConvergenceWarning: Liblinear failed to converge, increase the number of iterations.\n",
      "  warnings.warn(\"Liblinear failed to converge, increase \"\n",
      "C:\\Users\\dylan\\anaconda3\\lib\\site-packages\\sklearn\\svm\\_base.py:985: ConvergenceWarning: Liblinear failed to converge, increase the number of iterations.\n",
      "  warnings.warn(\"Liblinear failed to converge, increase \"\n",
      "C:\\Users\\dylan\\anaconda3\\lib\\site-packages\\sklearn\\svm\\_base.py:985: ConvergenceWarning: Liblinear failed to converge, increase the number of iterations.\n",
      "  warnings.warn(\"Liblinear failed to converge, increase \"\n",
      "C:\\Users\\dylan\\anaconda3\\lib\\site-packages\\sklearn\\svm\\_base.py:985: ConvergenceWarning: Liblinear failed to converge, increase the number of iterations.\n",
      "  warnings.warn(\"Liblinear failed to converge, increase \"\n",
      "C:\\Users\\dylan\\anaconda3\\lib\\site-packages\\sklearn\\svm\\_base.py:985: ConvergenceWarning: Liblinear failed to converge, increase the number of iterations.\n",
      "  warnings.warn(\"Liblinear failed to converge, increase \"\n",
      "C:\\Users\\dylan\\anaconda3\\lib\\site-packages\\sklearn\\svm\\_base.py:985: ConvergenceWarning: Liblinear failed to converge, increase the number of iterations.\n",
      "  warnings.warn(\"Liblinear failed to converge, increase \"\n",
      "C:\\Users\\dylan\\anaconda3\\lib\\site-packages\\sklearn\\svm\\_base.py:985: ConvergenceWarning: Liblinear failed to converge, increase the number of iterations.\n",
      "  warnings.warn(\"Liblinear failed to converge, increase \"\n",
      "C:\\Users\\dylan\\anaconda3\\lib\\site-packages\\sklearn\\svm\\_base.py:985: ConvergenceWarning: Liblinear failed to converge, increase the number of iterations.\n",
      "  warnings.warn(\"Liblinear failed to converge, increase \"\n",
      "C:\\Users\\dylan\\anaconda3\\lib\\site-packages\\sklearn\\svm\\_base.py:985: ConvergenceWarning: Liblinear failed to converge, increase the number of iterations.\n",
      "  warnings.warn(\"Liblinear failed to converge, increase \"\n"
     ]
    },
    {
     "data": {
      "image/png": "[encoded data removed]",
      "text/plain": [
       "<Figure size 432x288 with 1 Axes>"
      ]
     },
     "metadata": {
      "needs_background": "light"
     },
     "output_type": "display_data"
    }
   ],
   "source": [
    "from sklearn.svm import LinearSVC\n",
    "model = LinearSVC(C=c, max_iter=1E4)\n",
    "classes=np.array([1,2,3,4,5,6,7,8])\n",
    "\n",
    "################################\n",
    "\n",
    "#from sklearn.preprocessing import PolynomialFeatures\n",
    "q_poly = [1,2,3,4,5]\n",
    "Cs = [0.001,0.01,0.1, 1, 10,100,1000]\n",
    "\n",
    "\n",
    "pipe = make_pipeline(StandardScaler(), \\\n",
    "                     LinearSVC(C=c, max_iter=1e3))\n",
    "\n",
    "q=3\n",
    "\n",
    "accuracy=[]\n",
    "accuracy_err=[]\n",
    "for c in Cs:\n",
    "    pipe = make_pipeline(StandardScaler(), \\\n",
    "                         LinearSVC(C=c, max_iter=1e3))\n",
    "    #Xpoly = PolynomialFeatures(q, include_bias=False).fit_transform(X)\n",
    "    tmp=[]\n",
    "    #for train, test in kf.split(Xpoly):\n",
    "    for train, test in kf.split(X):\n",
    "        pipe.fit(X[train],Y[train])\n",
    "        #ypred = model.predict(X[test])\n",
    "        #print(confusion_matrix(ypred,Y[test]))\n",
    "\n",
    "        #Average weighting on accuracy\n",
    "        tmp.append( pipe.score(X[test], Y[test]) )\n",
    "\n",
    "    accuracy.append( np.array(tmp).mean() )\n",
    "    accuracy_err.append( np.array(tmp).std() )\n",
    "\n",
    "\n",
    "plt.errorbar(Cs, accuracy, yerr=accuracy_err)\n",
    "plt.xscale(\"log\")\n",
    "plt.xlabel(\"C\")\n",
    "plt.ylabel(\"accuracy\")\n",
    "plt.title(\"accuracy for SVM w/ L2 penalty\")\n",
    "plt.show()"
   ]
  },
  {
   "cell_type": "code",
   "execution_count": 24,
   "id": "7f91a795",
   "metadata": {
    "ExecuteTime": {
     "end_time": "2021-12-04T10:31:49.207854Z",
     "start_time": "2021-12-04T10:28:24.852913Z"
    }
   },
   "outputs": [
    {
     "name": "stderr",
     "output_type": "stream",
     "text": [
      "C:\\Users\\dylan\\anaconda3\\lib\\site-packages\\sklearn\\svm\\_base.py:985: ConvergenceWarning: Liblinear failed to converge, increase the number of iterations.\n",
      "  warnings.warn(\"Liblinear failed to converge, increase \"\n",
      "C:\\Users\\dylan\\anaconda3\\lib\\site-packages\\sklearn\\svm\\_base.py:985: ConvergenceWarning: Liblinear failed to converge, increase the number of iterations.\n",
      "  warnings.warn(\"Liblinear failed to converge, increase \"\n",
      "C:\\Users\\dylan\\anaconda3\\lib\\site-packages\\sklearn\\svm\\_base.py:985: ConvergenceWarning: Liblinear failed to converge, increase the number of iterations.\n",
      "  warnings.warn(\"Liblinear failed to converge, increase \"\n",
      "C:\\Users\\dylan\\anaconda3\\lib\\site-packages\\sklearn\\svm\\_base.py:985: ConvergenceWarning: Liblinear failed to converge, increase the number of iterations.\n",
      "  warnings.warn(\"Liblinear failed to converge, increase \"\n",
      "C:\\Users\\dylan\\anaconda3\\lib\\site-packages\\sklearn\\svm\\_base.py:985: ConvergenceWarning: Liblinear failed to converge, increase the number of iterations.\n",
      "  warnings.warn(\"Liblinear failed to converge, increase \"\n",
      "C:\\Users\\dylan\\anaconda3\\lib\\site-packages\\sklearn\\svm\\_base.py:985: ConvergenceWarning: Liblinear failed to converge, increase the number of iterations.\n",
      "  warnings.warn(\"Liblinear failed to converge, increase \"\n",
      "C:\\Users\\dylan\\anaconda3\\lib\\site-packages\\sklearn\\svm\\_base.py:985: ConvergenceWarning: Liblinear failed to converge, increase the number of iterations.\n",
      "  warnings.warn(\"Liblinear failed to converge, increase \"\n",
      "C:\\Users\\dylan\\anaconda3\\lib\\site-packages\\sklearn\\svm\\_base.py:985: ConvergenceWarning: Liblinear failed to converge, increase the number of iterations.\n",
      "  warnings.warn(\"Liblinear failed to converge, increase \"\n",
      "C:\\Users\\dylan\\anaconda3\\lib\\site-packages\\sklearn\\svm\\_base.py:985: ConvergenceWarning: Liblinear failed to converge, increase the number of iterations.\n",
      "  warnings.warn(\"Liblinear failed to converge, increase \"\n",
      "C:\\Users\\dylan\\anaconda3\\lib\\site-packages\\sklearn\\svm\\_base.py:985: ConvergenceWarning: Liblinear failed to converge, increase the number of iterations.\n",
      "  warnings.warn(\"Liblinear failed to converge, increase \"\n",
      "C:\\Users\\dylan\\anaconda3\\lib\\site-packages\\sklearn\\svm\\_base.py:985: ConvergenceWarning: Liblinear failed to converge, increase the number of iterations.\n",
      "  warnings.warn(\"Liblinear failed to converge, increase \"\n",
      "C:\\Users\\dylan\\anaconda3\\lib\\site-packages\\sklearn\\svm\\_base.py:985: ConvergenceWarning: Liblinear failed to converge, increase the number of iterations.\n",
      "  warnings.warn(\"Liblinear failed to converge, increase \"\n",
      "C:\\Users\\dylan\\anaconda3\\lib\\site-packages\\sklearn\\svm\\_base.py:985: ConvergenceWarning: Liblinear failed to converge, increase the number of iterations.\n",
      "  warnings.warn(\"Liblinear failed to converge, increase \"\n",
      "C:\\Users\\dylan\\anaconda3\\lib\\site-packages\\sklearn\\svm\\_base.py:985: ConvergenceWarning: Liblinear failed to converge, increase the number of iterations.\n",
      "  warnings.warn(\"Liblinear failed to converge, increase \"\n",
      "C:\\Users\\dylan\\anaconda3\\lib\\site-packages\\sklearn\\svm\\_base.py:985: ConvergenceWarning: Liblinear failed to converge, increase the number of iterations.\n",
      "  warnings.warn(\"Liblinear failed to converge, increase \"\n",
      "C:\\Users\\dylan\\anaconda3\\lib\\site-packages\\sklearn\\svm\\_base.py:985: ConvergenceWarning: Liblinear failed to converge, increase the number of iterations.\n",
      "  warnings.warn(\"Liblinear failed to converge, increase \"\n",
      "C:\\Users\\dylan\\anaconda3\\lib\\site-packages\\sklearn\\svm\\_base.py:985: ConvergenceWarning: Liblinear failed to converge, increase the number of iterations.\n",
      "  warnings.warn(\"Liblinear failed to converge, increase \"\n",
      "C:\\Users\\dylan\\anaconda3\\lib\\site-packages\\sklearn\\svm\\_base.py:985: ConvergenceWarning: Liblinear failed to converge, increase the number of iterations.\n",
      "  warnings.warn(\"Liblinear failed to converge, increase \"\n",
      "C:\\Users\\dylan\\anaconda3\\lib\\site-packages\\sklearn\\svm\\_base.py:985: ConvergenceWarning: Liblinear failed to converge, increase the number of iterations.\n",
      "  warnings.warn(\"Liblinear failed to converge, increase \"\n",
      "C:\\Users\\dylan\\anaconda3\\lib\\site-packages\\sklearn\\svm\\_base.py:985: ConvergenceWarning: Liblinear failed to converge, increase the number of iterations.\n",
      "  warnings.warn(\"Liblinear failed to converge, increase \"\n",
      "C:\\Users\\dylan\\anaconda3\\lib\\site-packages\\sklearn\\svm\\_base.py:985: ConvergenceWarning: Liblinear failed to converge, increase the number of iterations.\n",
      "  warnings.warn(\"Liblinear failed to converge, increase \"\n",
      "C:\\Users\\dylan\\anaconda3\\lib\\site-packages\\sklearn\\svm\\_base.py:985: ConvergenceWarning: Liblinear failed to converge, increase the number of iterations.\n",
      "  warnings.warn(\"Liblinear failed to converge, increase \"\n",
      "C:\\Users\\dylan\\anaconda3\\lib\\site-packages\\sklearn\\svm\\_base.py:985: ConvergenceWarning: Liblinear failed to converge, increase the number of iterations.\n",
      "  warnings.warn(\"Liblinear failed to converge, increase \"\n",
      "C:\\Users\\dylan\\anaconda3\\lib\\site-packages\\sklearn\\svm\\_base.py:985: ConvergenceWarning: Liblinear failed to converge, increase the number of iterations.\n",
      "  warnings.warn(\"Liblinear failed to converge, increase \"\n",
      "C:\\Users\\dylan\\anaconda3\\lib\\site-packages\\sklearn\\svm\\_base.py:985: ConvergenceWarning: Liblinear failed to converge, increase the number of iterations.\n",
      "  warnings.warn(\"Liblinear failed to converge, increase \"\n",
      "C:\\Users\\dylan\\anaconda3\\lib\\site-packages\\sklearn\\svm\\_base.py:985: ConvergenceWarning: Liblinear failed to converge, increase the number of iterations.\n",
      "  warnings.warn(\"Liblinear failed to converge, increase \"\n",
      "C:\\Users\\dylan\\anaconda3\\lib\\site-packages\\sklearn\\svm\\_base.py:985: ConvergenceWarning: Liblinear failed to converge, increase the number of iterations.\n",
      "  warnings.warn(\"Liblinear failed to converge, increase \"\n",
      "C:\\Users\\dylan\\anaconda3\\lib\\site-packages\\sklearn\\svm\\_base.py:985: ConvergenceWarning: Liblinear failed to converge, increase the number of iterations.\n",
      "  warnings.warn(\"Liblinear failed to converge, increase \"\n",
      "C:\\Users\\dylan\\anaconda3\\lib\\site-packages\\sklearn\\svm\\_base.py:985: ConvergenceWarning: Liblinear failed to converge, increase the number of iterations.\n",
      "  warnings.warn(\"Liblinear failed to converge, increase \"\n",
      "C:\\Users\\dylan\\anaconda3\\lib\\site-packages\\sklearn\\svm\\_base.py:985: ConvergenceWarning: Liblinear failed to converge, increase the number of iterations.\n",
      "  warnings.warn(\"Liblinear failed to converge, increase \"\n",
      "C:\\Users\\dylan\\anaconda3\\lib\\site-packages\\sklearn\\svm\\_base.py:985: ConvergenceWarning: Liblinear failed to converge, increase the number of iterations.\n",
      "  warnings.warn(\"Liblinear failed to converge, increase \"\n",
      "C:\\Users\\dylan\\anaconda3\\lib\\site-packages\\sklearn\\svm\\_base.py:985: ConvergenceWarning: Liblinear failed to converge, increase the number of iterations.\n",
      "  warnings.warn(\"Liblinear failed to converge, increase \"\n",
      "C:\\Users\\dylan\\anaconda3\\lib\\site-packages\\sklearn\\svm\\_base.py:985: ConvergenceWarning: Liblinear failed to converge, increase the number of iterations.\n",
      "  warnings.warn(\"Liblinear failed to converge, increase \"\n",
      "C:\\Users\\dylan\\anaconda3\\lib\\site-packages\\sklearn\\svm\\_base.py:985: ConvergenceWarning: Liblinear failed to converge, increase the number of iterations.\n",
      "  warnings.warn(\"Liblinear failed to converge, increase \"\n",
      "C:\\Users\\dylan\\anaconda3\\lib\\site-packages\\sklearn\\svm\\_base.py:985: ConvergenceWarning: Liblinear failed to converge, increase the number of iterations.\n",
      "  warnings.warn(\"Liblinear failed to converge, increase \"\n"
     ]
    },
    {
     "data": {
      "image/png": "[encoded data removed]",
      "text/plain": [
       "<Figure size 432x288 with 1 Axes>"
      ]
     },
     "metadata": {
      "needs_background": "light"
     },
     "output_type": "display_data"
    }
   ],
   "source": [
    "from sklearn.svm import LinearSVC\n",
    "#model = LinearSVC(C=c, max_iter=1E3)\n",
    "\n",
    "\n",
    "###################################\n",
    "\n",
    "\n",
    "q_poly = [1,2,3,4,5]\n",
    "Cs = [0.001,0.01,0.1, 1, 10,100,1000]\n",
    "#Cs = [0.01,0.1, 1, 10]\n",
    "q=3\n",
    "\n",
    "accuracy=[]\n",
    "accuracy_err=[]\n",
    "for c in Cs:\n",
    "    pipe = make_pipeline(StandardScaler(), \\\n",
    "                         LinearSVC(C=c, max_iter=1e3))\n",
    "    Xpoly = PolynomialFeatures(q, include_bias=False).fit_transform(X)\n",
    "    tmp=[]\n",
    "    #for train, test in kf.split(Xpoly):\n",
    "    for train, test in kf.split(Xpoly):\n",
    "        model.fit(Xpoly[train],Y[train])\n",
    "        ypred = model.predict(Xpoly[test])\n",
    "\n",
    "        #Average weighting on accuracy\n",
    "        tmp.append( pipe.score(X[test], Y[test]) )\n",
    "\n",
    "    accuracy.append( np.array(tmp).mean() )\n",
    "    accuracy_err.append( np.array(tmp).std() )\n",
    "\n",
    "\n",
    "plt.errorbar(Cs, accuracy, yerr=accuracy_err)\n",
    "plt.xscale(\"log\")\n",
    "plt.xlabel(\"C\")\n",
    "plt.ylabel(\"accuracy\")\n",
    "plt.title(\"Accuracy for SVM w/ L2 penalty for Q3 Polyfeatures\")\n",
    "plt.show()"
   ]
  },
  {
   "cell_type": "code",
   "execution_count": 32,
   "id": "16561194",
   "metadata": {
    "ExecuteTime": {
     "end_time": "2021-12-04T10:47:10.819050Z",
     "start_time": "2021-12-04T10:41:26.235671Z"
    }
   },
   "outputs": [
    {
     "name": "stderr",
     "output_type": "stream",
     "text": [
      "C:\\Users\\dylan\\anaconda3\\lib\\site-packages\\sklearn\\svm\\_base.py:985: ConvergenceWarning: Liblinear failed to converge, increase the number of iterations.\n",
      "  warnings.warn(\"Liblinear failed to converge, increase \"\n",
      "C:\\Users\\dylan\\anaconda3\\lib\\site-packages\\sklearn\\svm\\_base.py:985: ConvergenceWarning: Liblinear failed to converge, increase the number of iterations.\n",
      "  warnings.warn(\"Liblinear failed to converge, increase \"\n",
      "C:\\Users\\dylan\\anaconda3\\lib\\site-packages\\sklearn\\svm\\_base.py:985: ConvergenceWarning: Liblinear failed to converge, increase the number of iterations.\n",
      "  warnings.warn(\"Liblinear failed to converge, increase \"\n",
      "C:\\Users\\dylan\\anaconda3\\lib\\site-packages\\sklearn\\svm\\_base.py:985: ConvergenceWarning: Liblinear failed to converge, increase the number of iterations.\n",
      "  warnings.warn(\"Liblinear failed to converge, increase \"\n",
      "C:\\Users\\dylan\\anaconda3\\lib\\site-packages\\sklearn\\svm\\_base.py:985: ConvergenceWarning: Liblinear failed to converge, increase the number of iterations.\n",
      "  warnings.warn(\"Liblinear failed to converge, increase \"\n",
      "C:\\Users\\dylan\\anaconda3\\lib\\site-packages\\sklearn\\svm\\_base.py:985: ConvergenceWarning: Liblinear failed to converge, increase the number of iterations.\n",
      "  warnings.warn(\"Liblinear failed to converge, increase \"\n",
      "C:\\Users\\dylan\\anaconda3\\lib\\site-packages\\sklearn\\svm\\_base.py:985: ConvergenceWarning: Liblinear failed to converge, increase the number of iterations.\n",
      "  warnings.warn(\"Liblinear failed to converge, increase \"\n",
      "C:\\Users\\dylan\\anaconda3\\lib\\site-packages\\sklearn\\svm\\_base.py:985: ConvergenceWarning: Liblinear failed to converge, increase the number of iterations.\n",
      "  warnings.warn(\"Liblinear failed to converge, increase \"\n",
      "C:\\Users\\dylan\\anaconda3\\lib\\site-packages\\sklearn\\svm\\_base.py:985: ConvergenceWarning: Liblinear failed to converge, increase the number of iterations.\n",
      "  warnings.warn(\"Liblinear failed to converge, increase \"\n",
      "C:\\Users\\dylan\\anaconda3\\lib\\site-packages\\sklearn\\svm\\_base.py:985: ConvergenceWarning: Liblinear failed to converge, increase the number of iterations.\n",
      "  warnings.warn(\"Liblinear failed to converge, increase \"\n",
      "C:\\Users\\dylan\\anaconda3\\lib\\site-packages\\sklearn\\svm\\_base.py:985: ConvergenceWarning: Liblinear failed to converge, increase the number of iterations.\n",
      "  warnings.warn(\"Liblinear failed to converge, increase \"\n",
      "C:\\Users\\dylan\\anaconda3\\lib\\site-packages\\sklearn\\svm\\_base.py:985: ConvergenceWarning: Liblinear failed to converge, increase the number of iterations.\n",
      "  warnings.warn(\"Liblinear failed to converge, increase \"\n",
      "C:\\Users\\dylan\\anaconda3\\lib\\site-packages\\sklearn\\svm\\_base.py:985: ConvergenceWarning: Liblinear failed to converge, increase the number of iterations.\n",
      "  warnings.warn(\"Liblinear failed to converge, increase \"\n",
      "C:\\Users\\dylan\\anaconda3\\lib\\site-packages\\sklearn\\svm\\_base.py:985: ConvergenceWarning: Liblinear failed to converge, increase the number of iterations.\n",
      "  warnings.warn(\"Liblinear failed to converge, increase \"\n",
      "C:\\Users\\dylan\\anaconda3\\lib\\site-packages\\sklearn\\svm\\_base.py:985: ConvergenceWarning: Liblinear failed to converge, increase the number of iterations.\n",
      "  warnings.warn(\"Liblinear failed to converge, increase \"\n",
      "C:\\Users\\dylan\\anaconda3\\lib\\site-packages\\sklearn\\svm\\_base.py:985: ConvergenceWarning: Liblinear failed to converge, increase the number of iterations.\n",
      "  warnings.warn(\"Liblinear failed to converge, increase \"\n",
      "C:\\Users\\dylan\\anaconda3\\lib\\site-packages\\sklearn\\svm\\_base.py:985: ConvergenceWarning: Liblinear failed to converge, increase the number of iterations.\n",
      "  warnings.warn(\"Liblinear failed to converge, increase \"\n",
      "C:\\Users\\dylan\\anaconda3\\lib\\site-packages\\sklearn\\svm\\_base.py:985: ConvergenceWarning: Liblinear failed to converge, increase the number of iterations.\n",
      "  warnings.warn(\"Liblinear failed to converge, increase \"\n",
      "C:\\Users\\dylan\\anaconda3\\lib\\site-packages\\sklearn\\svm\\_base.py:985: ConvergenceWarning: Liblinear failed to converge, increase the number of iterations.\n",
      "  warnings.warn(\"Liblinear failed to converge, increase \"\n",
      "C:\\Users\\dylan\\anaconda3\\lib\\site-packages\\sklearn\\svm\\_base.py:985: ConvergenceWarning: Liblinear failed to converge, increase the number of iterations.\n",
      "  warnings.warn(\"Liblinear failed to converge, increase \"\n",
      "C:\\Users\\dylan\\anaconda3\\lib\\site-packages\\sklearn\\svm\\_base.py:985: ConvergenceWarning: Liblinear failed to converge, increase the number of iterations.\n",
      "  warnings.warn(\"Liblinear failed to converge, increase \"\n",
      "C:\\Users\\dylan\\anaconda3\\lib\\site-packages\\sklearn\\svm\\_base.py:985: ConvergenceWarning: Liblinear failed to converge, increase the number of iterations.\n",
      "  warnings.warn(\"Liblinear failed to converge, increase \"\n",
      "C:\\Users\\dylan\\anaconda3\\lib\\site-packages\\sklearn\\svm\\_base.py:985: ConvergenceWarning: Liblinear failed to converge, increase the number of iterations.\n",
      "  warnings.warn(\"Liblinear failed to converge, increase \"\n",
      "C:\\Users\\dylan\\anaconda3\\lib\\site-packages\\sklearn\\svm\\_base.py:985: ConvergenceWarning: Liblinear failed to converge, increase the number of iterations.\n",
      "  warnings.warn(\"Liblinear failed to converge, increase \"\n",
      "C:\\Users\\dylan\\anaconda3\\lib\\site-packages\\sklearn\\svm\\_base.py:985: ConvergenceWarning: Liblinear failed to converge, increase the number of iterations.\n",
      "  warnings.warn(\"Liblinear failed to converge, increase \"\n"
     ]
    },
    {
     "data": {
      "image/png": "[encoded data removed]",
      "text/plain": [
       "<Figure size 432x288 with 1 Axes>"
      ]
     },
     "metadata": {
      "needs_background": "light"
     },
     "output_type": "display_data"
    }
   ],
   "source": [
    "from sklearn.svm import LinearSVC\n",
    "#model = LinearSVC(C=c, max_iter=1E3)\n",
    "\n",
    "\n",
    "###################################\n",
    "\n",
    "\n",
    "q_poly = [1,2,3,4,5]\n",
    "C=10\n",
    "model = LinearSVC(C=c, max_iter=1E3)\n",
    "pipe = make_pipeline(StandardScaler(), \\\n",
    "                     LinearSVC(C=c, max_iter=1e3))\n",
    "\n",
    "accuracy=[]\n",
    "accuracy_err=[]\n",
    "for q in q_poly:\n",
    "    Xpoly = PolynomialFeatures(q, include_bias=False).fit_transform(X)\n",
    "    tmp=[]\n",
    "    #for train, test in kf.split(Xpoly):\n",
    "    for train, test in kf.split(Xpoly):\n",
    "        pipe.fit(Xpoly[train],Y[train])\n",
    "\n",
    "        #Accuracy\n",
    "        tmp.append( pipe.score(Xpoly[test], Y[test]) )\n",
    "\n",
    "    accuracy.append( np.array(tmp).mean() )\n",
    "    accuracy_err.append( np.array(tmp).std() )\n",
    "\n",
    "\n",
    "plt.errorbar(q_poly, accuracy, yerr=accuracy_err)\n",
    "plt.xlabel(\"q\")\n",
    "plt.ylabel(\"accuracy\")\n",
    "plt.title(\"Accuracy for SVM w/ L2 penalty for Polyfeatures\")\n",
    "plt.show()"
   ]
  },
  {
   "cell_type": "code",
   "execution_count": 30,
   "id": "f3bb41d3",
   "metadata": {
    "ExecuteTime": {
     "end_time": "2021-12-04T10:40:39.714609Z",
     "start_time": "2021-12-04T10:40:39.125337Z"
    }
   },
   "outputs": [
    {
     "data": {
      "image/png": "[encoded data removed]",
      "text/plain": [
       "<Figure size 432x288 with 1 Axes>"
      ]
     },
     "metadata": {
      "needs_background": "light"
     },
     "output_type": "display_data"
    }
   ],
   "source": [
    "#from sklearn.linear_model import Lasso\n",
    "from sklearn.linear_model import RidgeClassifier\n",
    "\n",
    "################################\n",
    "\n",
    "Cs = [0.001,0.01,0.1, 1, 10,100,1000]\n",
    "#q_poly = [1,2,3,4,5]\n",
    "#q=2\n",
    "#Xpoly = PolynomialFeatures(q, include_bias=False).fit_transform(X)\n",
    "\n",
    "accuracy=[]\n",
    "accuracy_err=[]\n",
    "for c in Cs:\n",
    "    \n",
    "    pipe = make_pipeline(StandardScaler(), \\\n",
    "        RidgeClassifier(alpha = 1/c ))\n",
    "    \n",
    "    tmp=[]\n",
    "    for train, test in kf.split(X):\n",
    "        pipe.fit(X[train],Y[train])\n",
    "\n",
    "        #Average weighting on accuracy\n",
    "        tmp.append( pipe.score(X[test], Y[test]) )\n",
    "\n",
    "    accuracy.append( np.array(tmp).mean() )\n",
    "    accuracy_err.append( np.array(tmp).std() )\n",
    "\n",
    "\n",
    "plt.errorbar(Cs, accuracy, yerr=accuracy_err)\n",
    "plt.xscale(\"log\")\n",
    "plt.xlabel(\"C\")\n",
    "plt.ylabel(\"accuracy\")\n",
    "plt.title(\"Accuracy for Ridge\")\n",
    "plt.show()"
   ]
  },
  {
   "cell_type": "code",
   "execution_count": 38,
   "id": "97ab7744",
   "metadata": {
    "ExecuteTime": {
     "end_time": "2021-12-04T11:21:12.297158Z",
     "start_time": "2021-12-04T11:19:57.519791Z"
    }
   },
   "outputs": [
    {
     "data": {
      "image/png": "[encoded data removed]",
      "text/plain": [
       "<Figure size 720x720 with 1 Axes>"
      ]
     },
     "metadata": {
      "needs_background": "light"
     },
     "output_type": "display_data"
    }
   ],
   "source": [
    "#from sklearn.linear_model import Lasso\n",
    "from sklearn.linear_model import RidgeClassifier\n",
    "\n",
    "################################\n",
    "\n",
    "Cs = [0.01,0.1, 1, 10,100]\n",
    "#Cs = [0.001,0.01,0.1, 1, 10,100,1000]\n",
    "q_poly = [1,2,3,4,5,6,7]\n",
    "#q=2\n",
    "#Xpoly = PolynomialFeatures(q, include_bias=False).fit_transform(X)\n",
    "plt.figure(figsize=(10,10))\n",
    "\n",
    "for q in q_poly:\n",
    "    Xpoly = PolynomialFeatures(q, include_bias=False).fit_transform(X)\n",
    "\n",
    "    accuracy=[]\n",
    "    accuracy_err=[]\n",
    "    for c in Cs:\n",
    "        pipe = make_pipeline(StandardScaler(), \\\n",
    "            RidgeClassifier(alpha = 1/c ))\n",
    "\n",
    "        tmp=[]\n",
    "        for train, test in kf.split(Xpoly):\n",
    "            pipe.fit(Xpoly[train],Y[train])\n",
    "\n",
    "            #Average weighting on accuracy\n",
    "            tmp.append( pipe.score(Xpoly[test], Y[test]) )\n",
    "\n",
    "        accuracy.append( np.array(tmp).mean() )\n",
    "        accuracy_err.append( np.array(tmp).std() )\n",
    "\n",
    "\n",
    "    plt.errorbar(Cs, accuracy, yerr=accuracy_err, label=\"q=\"+str(q), capsize=5)\n",
    "    \n",
    "plt.xscale(\"log\")\n",
    "plt.xlabel(\"C\")\n",
    "plt.ylabel(\"accuracy\")\n",
    "plt.title(\"Accuracy for Ridge\")\n",
    "plt.legend()\n",
    "    \n",
    "plt.show()"
   ]
  },
  {
   "cell_type": "code",
   "execution_count": 39,
   "id": "34e95b5c",
   "metadata": {
    "ExecuteTime": {
     "end_time": "2021-12-04T11:27:19.362825Z",
     "start_time": "2021-12-04T11:27:19.347825Z"
    }
   },
   "outputs": [],
   "source": [
    "#Checkout behaviour of regression from notes or old assignments"
   ]
  },
  {
   "cell_type": "code",
   "execution_count": null,
   "id": "e57a74f2",
   "metadata": {},
   "outputs": [],
   "source": []
  }
 ],
 "metadata": {
  "kernelspec": {
   "display_name": "Python 3",
   "language": "python",
   "name": "python3"
  },
  "language_info": {
   "codemirror_mode": {
    "name": "ipython",
    "version": 3
   },
   "file_extension": ".py",
   "mimetype": "text/x-python",
   "name": "python",
   "nbconvert_exporter": "python",
   "pygments_lexer": "ipython3",
   "version": "3.8.8"
  },
  "varInspector": {
   "cols": {
    "lenName": 16,
    "lenType": 16,
    "lenVar": 40
   },
   "kernels_config": {
    "python": {
     "delete_cmd_postfix": "",
     "delete_cmd_prefix": "del ",
     "library": "var_list.py",
     "varRefreshCmd": "print(var_dic_list())"
    },
    "r": {
     "delete_cmd_postfix": ") ",
     "delete_cmd_prefix": "rm(",
     "library": "var_list.r",
     "varRefreshCmd": "cat(var_dic_list()) "
    }
   },
   "types_to_exclude": [
    "module",
    "function",
    "builtin_function_or_method",
    "instance",
    "_Feature"
   ],
   "window_display": false
  }
 },
 "nbformat": 4,
 "nbformat_minor": 5
}
