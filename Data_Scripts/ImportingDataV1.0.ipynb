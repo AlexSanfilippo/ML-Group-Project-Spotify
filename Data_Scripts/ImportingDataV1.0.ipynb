{
 "cells": [
  {
   "cell_type": "markdown",
   "id": "b2c0fd37",
   "metadata": {},
   "source": [
    "# 25/11/21\n",
    "Machine Learning Group Project\n",
    "\n",
    "\n",
    "This file is our main file for the project.  All of our code will be contained\n",
    "here.\n",
    "\n",
    "\n",
    "Initial file creation by Dylan Kierans"
   ]
  },
  {
   "cell_type": "markdown",
   "id": "a7deebe2",
   "metadata": {},
   "source": [
    "# Version 0.1"
   ]
  },
  {
   "cell_type": "code",
   "execution_count": 1,
   "id": "6ceef4ac",
   "metadata": {
    "ExecuteTime": {
     "end_time": "2021-11-29T14:20:06.319915Z",
     "start_time": "2021-11-29T14:20:04.828142Z"
    }
   },
   "outputs": [],
   "source": [
    "import pandas as pd\n",
    "import numpy as np\n",
    "import matplotlib.pyplot as plt\n",
    "\n",
    "plt.rc(\"font\", size=14)"
   ]
  },
  {
   "cell_type": "markdown",
   "id": "b02ddab5",
   "metadata": {},
   "source": [
    "# Checking csv and titles by importing first row of a file"
   ]
  },
  {
   "cell_type": "code",
   "execution_count": 2,
   "id": "38dfec4b",
   "metadata": {
    "ExecuteTime": {
     "end_time": "2021-11-29T14:20:06.388735Z",
     "start_time": "2021-11-29T14:20:06.319915Z"
    }
   },
   "outputs": [
    {
     "data": {
      "text/html": [
       "<div>\n",
       "<style scoped>\n",
       "    .dataframe tbody tr th:only-of-type {\n",
       "        vertical-align: middle;\n",
       "    }\n",
       "\n",
       "    .dataframe tbody tr th {\n",
       "        vertical-align: top;\n",
       "    }\n",
       "\n",
       "    .dataframe thead th {\n",
       "        text-align: right;\n",
       "    }\n",
       "</style>\n",
       "<table border=\"1\" class=\"dataframe\">\n",
       "  <thead>\n",
       "    <tr style=\"text-align: right;\">\n",
       "      <th></th>\n",
       "      <th>danceability</th>\n",
       "      <th>energy</th>\n",
       "      <th>key</th>\n",
       "      <th>loudness</th>\n",
       "      <th>mode</th>\n",
       "      <th>speechiness</th>\n",
       "      <th>acousticness</th>\n",
       "      <th>instrumentalness</th>\n",
       "      <th>liveness</th>\n",
       "      <th>valence</th>\n",
       "      <th>tempo</th>\n",
       "      <th>type</th>\n",
       "      <th>id</th>\n",
       "      <th>uri</th>\n",
       "      <th>track_href</th>\n",
       "      <th>analysis_url</th>\n",
       "      <th>duration_ms</th>\n",
       "      <th>time_signature</th>\n",
       "      <th>track_name</th>\n",
       "    </tr>\n",
       "  </thead>\n",
       "  <tbody>\n",
       "    <tr>\n",
       "      <th>0</th>\n",
       "      <td>0.31</td>\n",
       "      <td>0.7</td>\n",
       "      <td>9</td>\n",
       "      <td>-5.678</td>\n",
       "      <td>1</td>\n",
       "      <td>0.047</td>\n",
       "      <td>0.011</td>\n",
       "      <td>0.00965</td>\n",
       "      <td>0.0828</td>\n",
       "      <td>0.763</td>\n",
       "      <td>188.386</td>\n",
       "      <td>audio_features</td>\n",
       "      <td>08mG3Y1vljYA6bvDt4Wqkj</td>\n",
       "      <td>spotify:track:08mG3Y1vljYA6bvDt4Wqkj</td>\n",
       "      <td>https://api.spotify.com/v1/tracks/08mG3Y1vljYA...</td>\n",
       "      <td>https://api.spotify.com/v1/audio-analysis/08mG...</td>\n",
       "      <td>255493</td>\n",
       "      <td>4</td>\n",
       "      <td>Back In Black</td>\n",
       "    </tr>\n",
       "  </tbody>\n",
       "</table>\n",
       "</div>"
      ],
      "text/plain": [
       "   danceability  energy  key  loudness  mode  speechiness  acousticness  \\\n",
       "0          0.31     0.7    9    -5.678     1        0.047         0.011   \n",
       "\n",
       "   instrumentalness  liveness  valence    tempo            type  \\\n",
       "0           0.00965    0.0828    0.763  188.386  audio_features   \n",
       "\n",
       "                       id                                   uri  \\\n",
       "0  08mG3Y1vljYA6bvDt4Wqkj  spotify:track:08mG3Y1vljYA6bvDt4Wqkj   \n",
       "\n",
       "                                          track_href  \\\n",
       "0  https://api.spotify.com/v1/tracks/08mG3Y1vljYA...   \n",
       "\n",
       "                                        analysis_url  duration_ms  \\\n",
       "0  https://api.spotify.com/v1/audio-analysis/08mG...       255493   \n",
       "\n",
       "   time_signature     track_name  \n",
       "0               4  Back In Black  "
      ]
     },
     "metadata": {},
     "output_type": "display_data"
    }
   ],
   "source": [
    "file_dir=\"../SpotifyData/\"\n",
    "file_name=\"ClassicRock_3Ho3iO0iJykgEQNbjB2sic.csv\"\n",
    "\n",
    "test_csv = pd.read_csv(file_dir+file_name, index_col=0, nrows=1) \n",
    "display(test_csv)"
   ]
  },
  {
   "cell_type": "markdown",
   "id": "6679086a",
   "metadata": {},
   "source": [
    "# Choosing input columns\n",
    "Now just importing the necessary training parameters"
   ]
  },
  {
   "cell_type": "code",
   "execution_count": 3,
   "id": "1fbbe436",
   "metadata": {
    "ExecuteTime": {
     "end_time": "2021-11-29T14:20:06.436734Z",
     "start_time": "2021-11-29T14:20:06.388735Z"
    }
   },
   "outputs": [
    {
     "data": {
      "text/html": [
       "<div>\n",
       "<style scoped>\n",
       "    .dataframe tbody tr th:only-of-type {\n",
       "        vertical-align: middle;\n",
       "    }\n",
       "\n",
       "    .dataframe tbody tr th {\n",
       "        vertical-align: top;\n",
       "    }\n",
       "\n",
       "    .dataframe thead th {\n",
       "        text-align: right;\n",
       "    }\n",
       "</style>\n",
       "<table border=\"1\" class=\"dataframe\">\n",
       "  <thead>\n",
       "    <tr style=\"text-align: right;\">\n",
       "      <th></th>\n",
       "      <th>danceability</th>\n",
       "      <th>energy</th>\n",
       "      <th>loudness</th>\n",
       "      <th>mode</th>\n",
       "      <th>acousticness</th>\n",
       "      <th>instrumentalness</th>\n",
       "      <th>liveness</th>\n",
       "    </tr>\n",
       "  </thead>\n",
       "  <tbody>\n",
       "    <tr>\n",
       "      <th>0</th>\n",
       "      <td>0.310</td>\n",
       "      <td>0.700</td>\n",
       "      <td>-5.678</td>\n",
       "      <td>1</td>\n",
       "      <td>0.01100</td>\n",
       "      <td>0.009650</td>\n",
       "      <td>0.0828</td>\n",
       "    </tr>\n",
       "    <tr>\n",
       "      <th>1</th>\n",
       "      <td>0.671</td>\n",
       "      <td>0.373</td>\n",
       "      <td>-18.064</td>\n",
       "      <td>1</td>\n",
       "      <td>0.25700</td>\n",
       "      <td>0.000080</td>\n",
       "      <td>0.0481</td>\n",
       "    </tr>\n",
       "    <tr>\n",
       "      <th>2</th>\n",
       "      <td>0.579</td>\n",
       "      <td>0.508</td>\n",
       "      <td>-9.484</td>\n",
       "      <td>1</td>\n",
       "      <td>0.00574</td>\n",
       "      <td>0.000494</td>\n",
       "      <td>0.0575</td>\n",
       "    </tr>\n",
       "    <tr>\n",
       "      <th>3</th>\n",
       "      <td>0.508</td>\n",
       "      <td>0.834</td>\n",
       "      <td>-6.205</td>\n",
       "      <td>1</td>\n",
       "      <td>0.01830</td>\n",
       "      <td>0.000000</td>\n",
       "      <td>0.0732</td>\n",
       "    </tr>\n",
       "    <tr>\n",
       "      <th>4</th>\n",
       "      <td>0.596</td>\n",
       "      <td>0.605</td>\n",
       "      <td>-12.145</td>\n",
       "      <td>1</td>\n",
       "      <td>0.18100</td>\n",
       "      <td>0.000331</td>\n",
       "      <td>0.0863</td>\n",
       "    </tr>\n",
       "  </tbody>\n",
       "</table>\n",
       "</div>"
      ],
      "text/plain": [
       "   danceability  energy  loudness  mode  acousticness  instrumentalness  \\\n",
       "0         0.310   0.700    -5.678     1       0.01100          0.009650   \n",
       "1         0.671   0.373   -18.064     1       0.25700          0.000080   \n",
       "2         0.579   0.508    -9.484     1       0.00574          0.000494   \n",
       "3         0.508   0.834    -6.205     1       0.01830          0.000000   \n",
       "4         0.596   0.605   -12.145     1       0.18100          0.000331   \n",
       "\n",
       "   liveness  \n",
       "0    0.0828  \n",
       "1    0.0481  \n",
       "2    0.0575  \n",
       "3    0.0732  \n",
       "4    0.0863  "
      ]
     },
     "metadata": {},
     "output_type": "display_data"
    }
   ],
   "source": [
    "#Sticking with just the basic parameters for now\n",
    "parameter_columns = [1,2,4,5,7,8,9]\n",
    "\n",
    "#Saving these other ones for later\n",
    "# key_column=3\n",
    "# tempo_column=11\n",
    "# duration_column=17\n",
    "\n",
    "\n",
    "#Testing to make sure read column numbers correctly\n",
    "data = pd.read_csv(file_dir+file_name, usecols=parameter_columns) \n",
    "display(data.head())"
   ]
  },
  {
   "cell_type": "markdown",
   "id": "44e7375b",
   "metadata": {
    "ExecuteTime": {
     "end_time": "2021-11-25T22:37:25.592019Z",
     "start_time": "2021-11-25T22:37:25.573020Z"
    }
   },
   "source": [
    "# Playlist_number Column\n",
    "Now to add an extra column which will hold the playlist_number"
   ]
  },
  {
   "cell_type": "code",
   "execution_count": 4,
   "id": "256929a4",
   "metadata": {
    "ExecuteTime": {
     "end_time": "2021-11-29T14:20:06.484721Z",
     "start_time": "2021-11-29T14:20:06.436734Z"
    }
   },
   "outputs": [
    {
     "name": "stdout",
     "output_type": "stream",
     "text": [
      "300\n"
     ]
    },
    {
     "data": {
      "text/html": [
       "<div>\n",
       "<style scoped>\n",
       "    .dataframe tbody tr th:only-of-type {\n",
       "        vertical-align: middle;\n",
       "    }\n",
       "\n",
       "    .dataframe tbody tr th {\n",
       "        vertical-align: top;\n",
       "    }\n",
       "\n",
       "    .dataframe thead th {\n",
       "        text-align: right;\n",
       "    }\n",
       "</style>\n",
       "<table border=\"1\" class=\"dataframe\">\n",
       "  <thead>\n",
       "    <tr style=\"text-align: right;\">\n",
       "      <th></th>\n",
       "      <th>danceability</th>\n",
       "      <th>energy</th>\n",
       "      <th>loudness</th>\n",
       "      <th>mode</th>\n",
       "      <th>acousticness</th>\n",
       "      <th>instrumentalness</th>\n",
       "      <th>liveness</th>\n",
       "      <th>playlist_number</th>\n",
       "    </tr>\n",
       "  </thead>\n",
       "  <tbody>\n",
       "    <tr>\n",
       "      <th>0</th>\n",
       "      <td>0.310</td>\n",
       "      <td>0.700</td>\n",
       "      <td>-5.678</td>\n",
       "      <td>1</td>\n",
       "      <td>0.01100</td>\n",
       "      <td>0.009650</td>\n",
       "      <td>0.0828</td>\n",
       "      <td>1.0</td>\n",
       "    </tr>\n",
       "    <tr>\n",
       "      <th>1</th>\n",
       "      <td>0.671</td>\n",
       "      <td>0.373</td>\n",
       "      <td>-18.064</td>\n",
       "      <td>1</td>\n",
       "      <td>0.25700</td>\n",
       "      <td>0.000080</td>\n",
       "      <td>0.0481</td>\n",
       "      <td>1.0</td>\n",
       "    </tr>\n",
       "    <tr>\n",
       "      <th>2</th>\n",
       "      <td>0.579</td>\n",
       "      <td>0.508</td>\n",
       "      <td>-9.484</td>\n",
       "      <td>1</td>\n",
       "      <td>0.00574</td>\n",
       "      <td>0.000494</td>\n",
       "      <td>0.0575</td>\n",
       "      <td>1.0</td>\n",
       "    </tr>\n",
       "    <tr>\n",
       "      <th>3</th>\n",
       "      <td>0.508</td>\n",
       "      <td>0.834</td>\n",
       "      <td>-6.205</td>\n",
       "      <td>1</td>\n",
       "      <td>0.01830</td>\n",
       "      <td>0.000000</td>\n",
       "      <td>0.0732</td>\n",
       "      <td>1.0</td>\n",
       "    </tr>\n",
       "    <tr>\n",
       "      <th>4</th>\n",
       "      <td>0.596</td>\n",
       "      <td>0.605</td>\n",
       "      <td>-12.145</td>\n",
       "      <td>1</td>\n",
       "      <td>0.18100</td>\n",
       "      <td>0.000331</td>\n",
       "      <td>0.0863</td>\n",
       "      <td>1.0</td>\n",
       "    </tr>\n",
       "    <tr>\n",
       "      <th>...</th>\n",
       "      <td>...</td>\n",
       "      <td>...</td>\n",
       "      <td>...</td>\n",
       "      <td>...</td>\n",
       "      <td>...</td>\n",
       "      <td>...</td>\n",
       "      <td>...</td>\n",
       "      <td>...</td>\n",
       "    </tr>\n",
       "    <tr>\n",
       "      <th>295</th>\n",
       "      <td>0.775</td>\n",
       "      <td>0.537</td>\n",
       "      <td>-10.698</td>\n",
       "      <td>1</td>\n",
       "      <td>0.52900</td>\n",
       "      <td>0.000220</td>\n",
       "      <td>0.0779</td>\n",
       "      <td>1.0</td>\n",
       "    </tr>\n",
       "    <tr>\n",
       "      <th>296</th>\n",
       "      <td>0.410</td>\n",
       "      <td>0.798</td>\n",
       "      <td>-8.181</td>\n",
       "      <td>1</td>\n",
       "      <td>0.22200</td>\n",
       "      <td>0.000006</td>\n",
       "      <td>0.2270</td>\n",
       "      <td>1.0</td>\n",
       "    </tr>\n",
       "    <tr>\n",
       "      <th>297</th>\n",
       "      <td>0.570</td>\n",
       "      <td>0.649</td>\n",
       "      <td>-7.116</td>\n",
       "      <td>1</td>\n",
       "      <td>0.18600</td>\n",
       "      <td>0.000000</td>\n",
       "      <td>0.1860</td>\n",
       "      <td>1.0</td>\n",
       "    </tr>\n",
       "    <tr>\n",
       "      <th>298</th>\n",
       "      <td>0.716</td>\n",
       "      <td>0.462</td>\n",
       "      <td>-9.312</td>\n",
       "      <td>0</td>\n",
       "      <td>0.00468</td>\n",
       "      <td>0.539000</td>\n",
       "      <td>0.1350</td>\n",
       "      <td>1.0</td>\n",
       "    </tr>\n",
       "    <tr>\n",
       "      <th>299</th>\n",
       "      <td>0.537</td>\n",
       "      <td>0.776</td>\n",
       "      <td>-5.198</td>\n",
       "      <td>1</td>\n",
       "      <td>0.10600</td>\n",
       "      <td>0.000001</td>\n",
       "      <td>0.0322</td>\n",
       "      <td>1.0</td>\n",
       "    </tr>\n",
       "  </tbody>\n",
       "</table>\n",
       "<p>300 rows × 8 columns</p>\n",
       "</div>"
      ],
      "text/plain": [
       "     danceability  energy  loudness  mode  acousticness  instrumentalness  \\\n",
       "0           0.310   0.700    -5.678     1       0.01100          0.009650   \n",
       "1           0.671   0.373   -18.064     1       0.25700          0.000080   \n",
       "2           0.579   0.508    -9.484     1       0.00574          0.000494   \n",
       "3           0.508   0.834    -6.205     1       0.01830          0.000000   \n",
       "4           0.596   0.605   -12.145     1       0.18100          0.000331   \n",
       "..            ...     ...       ...   ...           ...               ...   \n",
       "295         0.775   0.537   -10.698     1       0.52900          0.000220   \n",
       "296         0.410   0.798    -8.181     1       0.22200          0.000006   \n",
       "297         0.570   0.649    -7.116     1       0.18600          0.000000   \n",
       "298         0.716   0.462    -9.312     0       0.00468          0.539000   \n",
       "299         0.537   0.776    -5.198     1       0.10600          0.000001   \n",
       "\n",
       "     liveness  playlist_number  \n",
       "0      0.0828              1.0  \n",
       "1      0.0481              1.0  \n",
       "2      0.0575              1.0  \n",
       "3      0.0732              1.0  \n",
       "4      0.0863              1.0  \n",
       "..        ...              ...  \n",
       "295    0.0779              1.0  \n",
       "296    0.2270              1.0  \n",
       "297    0.1860              1.0  \n",
       "298    0.1350              1.0  \n",
       "299    0.0322              1.0  \n",
       "\n",
       "[300 rows x 8 columns]"
      ]
     },
     "metadata": {},
     "output_type": "display_data"
    }
   ],
   "source": [
    "# Can never be too safe with printing len() values\n",
    "print(len(data))\n",
    "\n",
    "#Want to add column with name \"playlist_number\" and all entries equal to playlist number\n",
    "playlist_number=1\n",
    "playlist_numbers = playlist_number*np.ones(len(data))\n",
    "\n",
    "data[\"playlist_number\"]=playlist_numbers\n",
    "display(data)\n",
    "#Works a charm"
   ]
  },
  {
   "cell_type": "markdown",
   "id": "11f02f24",
   "metadata": {},
   "source": [
    "# Compiling Data\n",
    "Next step is to make a single dataframe holding the data from all source files"
   ]
  },
  {
   "cell_type": "code",
   "execution_count": 5,
   "id": "5b6fa7fe",
   "metadata": {
    "ExecuteTime": {
     "end_time": "2021-11-29T14:20:06.696242Z",
     "start_time": "2021-11-29T14:20:06.484721Z"
    }
   },
   "outputs": [
    {
     "data": {
      "text/html": [
       "<div>\n",
       "<style scoped>\n",
       "    .dataframe tbody tr th:only-of-type {\n",
       "        vertical-align: middle;\n",
       "    }\n",
       "\n",
       "    .dataframe tbody tr th {\n",
       "        vertical-align: top;\n",
       "    }\n",
       "\n",
       "    .dataframe thead th {\n",
       "        text-align: right;\n",
       "    }\n",
       "</style>\n",
       "<table border=\"1\" class=\"dataframe\">\n",
       "  <thead>\n",
       "    <tr style=\"text-align: right;\">\n",
       "      <th></th>\n",
       "      <th>danceability</th>\n",
       "      <th>energy</th>\n",
       "      <th>mode</th>\n",
       "      <th>speechiness</th>\n",
       "      <th>acousticness</th>\n",
       "      <th>instrumentalness</th>\n",
       "      <th>liveness</th>\n",
       "      <th>playlist_number</th>\n",
       "    </tr>\n",
       "  </thead>\n",
       "  <tbody>\n",
       "    <tr>\n",
       "      <th>0</th>\n",
       "      <td>0.310</td>\n",
       "      <td>0.700</td>\n",
       "      <td>1</td>\n",
       "      <td>0.0470</td>\n",
       "      <td>0.01100</td>\n",
       "      <td>0.009650</td>\n",
       "      <td>0.0828</td>\n",
       "      <td>1.0</td>\n",
       "    </tr>\n",
       "    <tr>\n",
       "      <th>1</th>\n",
       "      <td>0.671</td>\n",
       "      <td>0.373</td>\n",
       "      <td>1</td>\n",
       "      <td>0.0323</td>\n",
       "      <td>0.25700</td>\n",
       "      <td>0.000080</td>\n",
       "      <td>0.0481</td>\n",
       "      <td>1.0</td>\n",
       "    </tr>\n",
       "    <tr>\n",
       "      <th>2</th>\n",
       "      <td>0.579</td>\n",
       "      <td>0.508</td>\n",
       "      <td>1</td>\n",
       "      <td>0.0270</td>\n",
       "      <td>0.00574</td>\n",
       "      <td>0.000494</td>\n",
       "      <td>0.0575</td>\n",
       "      <td>1.0</td>\n",
       "    </tr>\n",
       "    <tr>\n",
       "      <th>3</th>\n",
       "      <td>0.508</td>\n",
       "      <td>0.834</td>\n",
       "      <td>1</td>\n",
       "      <td>0.0386</td>\n",
       "      <td>0.01830</td>\n",
       "      <td>0.000000</td>\n",
       "      <td>0.0732</td>\n",
       "      <td>1.0</td>\n",
       "    </tr>\n",
       "    <tr>\n",
       "      <th>4</th>\n",
       "      <td>0.596</td>\n",
       "      <td>0.605</td>\n",
       "      <td>1</td>\n",
       "      <td>0.0255</td>\n",
       "      <td>0.18100</td>\n",
       "      <td>0.000331</td>\n",
       "      <td>0.0863</td>\n",
       "      <td>1.0</td>\n",
       "    </tr>\n",
       "    <tr>\n",
       "      <th>...</th>\n",
       "      <td>...</td>\n",
       "      <td>...</td>\n",
       "      <td>...</td>\n",
       "      <td>...</td>\n",
       "      <td>...</td>\n",
       "      <td>...</td>\n",
       "      <td>...</td>\n",
       "      <td>...</td>\n",
       "    </tr>\n",
       "    <tr>\n",
       "      <th>1595</th>\n",
       "      <td>0.823</td>\n",
       "      <td>0.837</td>\n",
       "      <td>1</td>\n",
       "      <td>0.0582</td>\n",
       "      <td>0.19000</td>\n",
       "      <td>0.000000</td>\n",
       "      <td>0.2800</td>\n",
       "      <td>8.0</td>\n",
       "    </tr>\n",
       "    <tr>\n",
       "      <th>1596</th>\n",
       "      <td>0.834</td>\n",
       "      <td>0.917</td>\n",
       "      <td>1</td>\n",
       "      <td>0.0982</td>\n",
       "      <td>0.08950</td>\n",
       "      <td>0.000167</td>\n",
       "      <td>0.0532</td>\n",
       "      <td>8.0</td>\n",
       "    </tr>\n",
       "    <tr>\n",
       "      <th>1597</th>\n",
       "      <td>0.573</td>\n",
       "      <td>0.770</td>\n",
       "      <td>0</td>\n",
       "      <td>0.1840</td>\n",
       "      <td>0.23400</td>\n",
       "      <td>0.000000</td>\n",
       "      <td>0.1100</td>\n",
       "      <td>8.0</td>\n",
       "    </tr>\n",
       "    <tr>\n",
       "      <th>1598</th>\n",
       "      <td>0.694</td>\n",
       "      <td>0.771</td>\n",
       "      <td>1</td>\n",
       "      <td>0.0415</td>\n",
       "      <td>0.12700</td>\n",
       "      <td>0.000000</td>\n",
       "      <td>0.1320</td>\n",
       "      <td>8.0</td>\n",
       "    </tr>\n",
       "    <tr>\n",
       "      <th>1599</th>\n",
       "      <td>0.690</td>\n",
       "      <td>0.878</td>\n",
       "      <td>1</td>\n",
       "      <td>0.0917</td>\n",
       "      <td>0.03120</td>\n",
       "      <td>0.000000</td>\n",
       "      <td>0.1880</td>\n",
       "      <td>8.0</td>\n",
       "    </tr>\n",
       "  </tbody>\n",
       "</table>\n",
       "<p>1600 rows × 8 columns</p>\n",
       "</div>"
      ],
      "text/plain": [
       "      danceability  energy  mode  speechiness  acousticness  instrumentalness  \\\n",
       "0            0.310   0.700     1       0.0470       0.01100          0.009650   \n",
       "1            0.671   0.373     1       0.0323       0.25700          0.000080   \n",
       "2            0.579   0.508     1       0.0270       0.00574          0.000494   \n",
       "3            0.508   0.834     1       0.0386       0.01830          0.000000   \n",
       "4            0.596   0.605     1       0.0255       0.18100          0.000331   \n",
       "...            ...     ...   ...          ...           ...               ...   \n",
       "1595         0.823   0.837     1       0.0582       0.19000          0.000000   \n",
       "1596         0.834   0.917     1       0.0982       0.08950          0.000167   \n",
       "1597         0.573   0.770     0       0.1840       0.23400          0.000000   \n",
       "1598         0.694   0.771     1       0.0415       0.12700          0.000000   \n",
       "1599         0.690   0.878     1       0.0917       0.03120          0.000000   \n",
       "\n",
       "      liveness  playlist_number  \n",
       "0       0.0828              1.0  \n",
       "1       0.0481              1.0  \n",
       "2       0.0575              1.0  \n",
       "3       0.0732              1.0  \n",
       "4       0.0863              1.0  \n",
       "...        ...              ...  \n",
       "1595    0.2800              8.0  \n",
       "1596    0.0532              8.0  \n",
       "1597    0.1100              8.0  \n",
       "1598    0.1320              8.0  \n",
       "1599    0.1880              8.0  \n",
       "\n",
       "[1600 rows x 8 columns]"
      ]
     },
     "metadata": {},
     "output_type": "display_data"
    }
   ],
   "source": [
    "file_names= [\"ClassicRock_3Ho3iO0iJykgEQNbjB2sic.csv\",\\\n",
    "             \"ClassicalStudy_6wObnEPQ63a4kei1sEcMdH.csv\",\\\n",
    "             \"CountryHits_1mJhSx6aYQmINsZ8dG4gzU.csv\",\\\n",
    "             \"DanceHits_5oKz4DsTP8zbL97UIPbqp4.csv\",\\\n",
    "             \"HeavyMetalClassics_27gN69ebwiJRtXEboL12Ih.csv\",\\\n",
    "             \"HipHopClassics_5CRJExGSQFYXem2hT5GFkd.csv\",\\\n",
    "             \"JazzClassic_37i9dQZF1DXbITWG1ZJKYt.csv\",\\\n",
    "             \"KpopClassics_0jB4ANR4ox65etDMnxvGLp.csv\"]\n",
    "\n",
    "\n",
    "# Most convenient to set up dataframe with initial file, then systematically loop through the others\n",
    "#Sticking with just the basic parameters for now\n",
    "parameter_columns = [1,2,5,6,7,8,9]\n",
    "nrows=200\n",
    "\n",
    "\n",
    "\n",
    "#1 indexing here more natural\n",
    "playlist_number=1\n",
    "data = pd.read_csv(file_dir+file_names[playlist_number-1], usecols=parameter_columns, nrows=nrows)\n",
    "\n",
    "playlist_numbers = playlist_number*np.ones(len(data))\n",
    "data[\"playlist_number\"]=playlist_numbers #Now has extra playlist column\n",
    "\n",
    "\n",
    "\n",
    "# Now looping through the remaining filenames\n",
    "for playlist_number in range(2,len(file_names)+1):\n",
    "    # dtmp := Temporary dataframe, will append to df.data once data filtered and prepped\n",
    "    dtmp= pd.read_csv(file_dir+file_names[playlist_number-1], usecols=parameter_columns, nrows=nrows)\n",
    "\n",
    "    playlist_numbers = playlist_number*np.ones(len(dtmp)) # array of playlist_number\n",
    "    dtmp[\"playlist_number\"]=playlist_numbers #Now has extra playlist column\n",
    "    data=data.append(dtmp, ignore_index=True) #Append back to main df.data\n",
    "    \n",
    "display(data)"
   ]
  },
  {
   "cell_type": "markdown",
   "id": "48281e47",
   "metadata": {},
   "source": [
    "# Training?\n",
    "Any pre-processing necessary for:\n",
    "- Repeat songs\n",
    "- Incomplete data\n",
    "\n",
    "\n",
    "Note: I have only chosen 200 songs from each playlist, some do contain more songs\n"
   ]
  },
  {
   "cell_type": "markdown",
   "id": "1455e514",
   "metadata": {},
   "source": [
    "# kNN Model"
   ]
  },
  {
   "cell_type": "code",
   "execution_count": 6,
   "id": "69de5be4",
   "metadata": {
    "ExecuteTime": {
     "end_time": "2021-11-29T14:20:08.917892Z",
     "start_time": "2021-11-29T14:20:06.696242Z"
    }
   },
   "outputs": [
    {
     "name": "stdout",
     "output_type": "stream",
     "text": [
      "[[139   0  34  27  24   9   9  23]\n",
      " [  0 196   0   0   0   0  16   0]\n",
      " [ 21   0 151  18  11   3   4  20]\n",
      " [  5   0   7 124   4  14   0  33]\n",
      " [ 22   0   4   4 160   0   0   1]\n",
      " [  2   0   0   5   0 164   0   7]\n",
      " [  6   4   3   0   0   1 171   0]\n",
      " [  5   0   1  22   1   9   0 116]]\n"
     ]
    }
   ],
   "source": [
    "X = data.loc[:,\"danceability\":\"liveness\"]\n",
    "Y = data.loc[:,\"playlist_number\"]\n",
    "\n",
    "from sklearn.neighbors import KNeighborsClassifier\n",
    "\n",
    "model = KNeighborsClassifier(n_neighbors=3, weights=\"uniform\").fit(X,Y)\n",
    "ypred = model.predict(X)\n",
    "\n",
    "\n",
    "from sklearn.metrics import confusion_matrix\n",
    "print(confusion_matrix(ypred,Y))"
   ]
  },
  {
   "cell_type": "markdown",
   "id": "770d6cd8",
   "metadata": {},
   "source": [
    "# Precision for uniform kNN Weights"
   ]
  },
  {
   "cell_type": "code",
   "execution_count": 7,
   "id": "6788fa06",
   "metadata": {
    "ExecuteTime": {
     "end_time": "2021-11-29T14:20:09.765025Z",
     "start_time": "2021-11-29T14:20:08.917892Z"
    }
   },
   "outputs": [
    {
     "name": "stdout",
     "output_type": "stream",
     "text": [
      "[0.597001093795037, 0.5918591749178577, 0.5939628360554848, 0.5953229994117086]\n",
      "[0.029138727933867858, 0.027607281667390376, 0.024831680103699946, 0.02700613208695265]\n"
     ]
    },
    {
     "data": {
      "image/png": "[encoded data removed]",
      "text/plain": [
       "<Figure size 432x288 with 1 Axes>"
      ]
     },
     "metadata": {
      "needs_background": "light"
     },
     "output_type": "display_data"
    }
   ],
   "source": [
    "X = data.loc[:,\"danceability\":\"liveness\"].values\n",
    "Y = data.loc[:,\"playlist_number\"]\n",
    "\n",
    "n_splits = 5\n",
    "ks=[3,5,7,9]\n",
    "\n",
    "from sklearn.metrics import roc_curve\n",
    "from sklearn.model_selection import KFold    \n",
    "from sklearn.metrics import precision_score\n",
    "kf = KFold(n_splits= n_splits, shuffle=True) #Important to shuggle our ordered data\n",
    "\n",
    "\n",
    "tmp=[]\n",
    "precision=[]\n",
    "precision_err=[]\n",
    "for k in ks:\n",
    "    model = KNeighborsClassifier(n_neighbors=k, weights=\"uniform\")\n",
    "    for train, test in kf.split(X):\n",
    "        model.fit(X[train],Y[train])\n",
    "        ypred = model.predict(X[test])\n",
    "        #print(confusion_matrix(ypred,Y[test]))\n",
    "\n",
    "        tmp.append( precision_score(Y[test], ypred, average=\"weighted\") )\n",
    "        ## average = {‘micro’, ‘macro’, ‘samples’, ‘weighted’, ‘binary’}\n",
    "\n",
    "    precision.append( np.array(tmp).mean() )\n",
    "    precision_err.append( np.array(tmp).std() )\n",
    "\n",
    "print(precision)\n",
    "print(precision_err)\n",
    "\n",
    "plt.errorbar(ks, precision, yerr=precision_err)\n",
    "plt.xlabel(\"k\")\n",
    "plt.ylabel(\"Precision\")\n",
    "plt.title(\"Precision for weight average, kNN uniform\")\n",
    "plt.show()"
   ]
  },
  {
   "cell_type": "markdown",
   "id": "1f00411a",
   "metadata": {},
   "source": [
    "# Precision for distance kNN weights"
   ]
  },
  {
   "cell_type": "code",
   "execution_count": 8,
   "id": "bf61a0bc",
   "metadata": {
    "ExecuteTime": {
     "end_time": "2021-11-29T14:20:10.284538Z",
     "start_time": "2021-11-29T14:20:09.765025Z"
    }
   },
   "outputs": [
    {
     "name": "stdout",
     "output_type": "stream",
     "text": [
      "[0.5948105364228533, 0.5965142202404146, 0.6014771600973704, 0.6051694277542876]\n",
      "[0.03315054802324359, 0.024538133077780334, 0.03188716319220665, 0.03059574242609549]\n"
     ]
    },
    {
     "data": {
      "image/png": "[encoded data removed]",
      "text/plain": [
       "<Figure size 432x288 with 1 Axes>"
      ]
     },
     "metadata": {
      "needs_background": "light"
     },
     "output_type": "display_data"
    }
   ],
   "source": [
    "tmp=[]\n",
    "precision=[]\n",
    "precision_err=[]\n",
    "for k in ks:\n",
    "    model = KNeighborsClassifier(n_neighbors=k, weights=\"distance\")\n",
    "    for train, test in kf.split(X):\n",
    "        model.fit(X[train],Y[train])\n",
    "        ypred = model.predict(X[test])\n",
    "        #print(confusion_matrix(ypred,Y[test]))\n",
    "\n",
    "        tmp.append( precision_score(Y[test], ypred, average=\"weighted\") )\n",
    "        ## average = {‘micro’, ‘macro’, ‘samples’, ‘weighted’, ‘binary’}\n",
    "\n",
    "    precision.append( np.array(tmp).mean() )\n",
    "    precision_err.append( np.array(tmp).std() )\n",
    "\n",
    "print(precision)\n",
    "print(precision_err)\n",
    "\n",
    "plt.errorbar(ks, precision, yerr=precision_err)\n",
    "plt.xlabel(\"k\")\n",
    "plt.ylabel(\"Precision\")\n",
    "plt.title(\"Precision for weight average, kNN distance\")\n",
    "plt.show()"
   ]
  },
  {
   "cell_type": "markdown",
   "id": "38ff3e2b",
   "metadata": {},
   "source": [
    "# Accuracy for distance kNN weights"
   ]
  },
  {
   "cell_type": "code",
   "execution_count": 34,
   "id": "ed3910d5",
   "metadata": {
    "ExecuteTime": {
     "end_time": "2021-11-29T14:46:16.919455Z",
     "start_time": "2021-11-29T14:46:16.308180Z"
    }
   },
   "outputs": [
    {
     "name": "stdout",
     "output_type": "stream",
     "text": [
      "[0.5893750000000001, 0.5943750000000001, 0.61, 0.6056250000000001]\n",
      "[0.02520230644206995, 0.01970485346304305, 0.03757284591297286, 0.01610512340840643]\n"
     ]
    },
    {
     "data": {
      "image/png": "[encoded data removed]",
      "text/plain": [
       "<Figure size 432x288 with 1 Axes>"
      ]
     },
     "metadata": {
      "needs_background": "light"
     },
     "output_type": "display_data"
    }
   ],
   "source": [
    "prec_tmp=[]\n",
    "precision=[]\n",
    "precision_err=[]\n",
    "score_tmp=[]\n",
    "score=[]\n",
    "score_err=[]\n",
    "for k in ks:\n",
    "    model = KNeighborsClassifier(n_neighbors=k, weights=\"distance\")\n",
    "    \n",
    "    score_tmp=[]\n",
    "    for train, test in kf.split(X):\n",
    "        model.fit(X[train],Y[train])\n",
    "        ypred = model.predict(X[test])\n",
    "        #print(confusion_matrix(ypred,Y[test]))\n",
    "        score_tmp.append(model.score(X[test],Y[test]))#accuracy score\n",
    "    score.append(np.array(score_tmp).mean())\n",
    "    score_err.append(np.array(score_tmp).std())\n",
    "    \n",
    "print(score)\n",
    "print(score_err)\n",
    "\n",
    "plt.errorbar(ks, score, yerr=score_err)\n",
    "plt.xlabel(\"k\")\n",
    "plt.ylabel(\"Accuracy\")\n",
    "plt.title(\"Score kNN (weighted by distance)\")\n",
    "plt.show()"
   ]
  },
  {
   "cell_type": "code",
   "execution_count": null,
   "id": "ba4d32dc",
   "metadata": {},
   "outputs": [],
   "source": []
  }
 ],
 "metadata": {
  "kernelspec": {
   "display_name": "Python 3",
   "language": "python",
   "name": "python3"
  },
  "language_info": {
   "codemirror_mode": {
    "name": "ipython",
    "version": 3
   },
   "file_extension": ".py",
   "mimetype": "text/x-python",
   "name": "python",
   "nbconvert_exporter": "python",
   "pygments_lexer": "ipython3",
   "version": "3.8.8"
  },
  "varInspector": {
   "cols": {
    "lenName": 16,
    "lenType": 16,
    "lenVar": 40
   },
   "kernels_config": {
    "python": {
     "delete_cmd_postfix": "",
     "delete_cmd_prefix": "del ",
     "library": "var_list.py",
     "varRefreshCmd": "print(var_dic_list())"
    },
    "r": {
     "delete_cmd_postfix": ") ",
     "delete_cmd_prefix": "rm(",
     "library": "var_list.r",
     "varRefreshCmd": "cat(var_dic_list()) "
    }
   },
   "types_to_exclude": [
    "module",
    "function",
    "builtin_function_or_method",
    "instance",
    "_Feature"
   ],
   "window_display": false
  }
 },
 "nbformat": 4,
 "nbformat_minor": 5
}
