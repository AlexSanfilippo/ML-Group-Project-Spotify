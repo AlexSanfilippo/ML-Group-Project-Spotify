{
 "cells": [
  {
   "cell_type": "markdown",
   "id": "baa46dc3",
   "metadata": {},
   "source": [
    "Importing correct header files and functions"
   ]
  },
  {
   "cell_type": "code",
   "execution_count": 1,
   "id": "1d07eda4",
   "metadata": {},
   "outputs": [],
   "source": [
    "import numpy as np\n",
    "import pandas as pd\n",
    "import matplotlib.pyplot as plt"
   ]
  },
  {
   "cell_type": "markdown",
   "id": "71a169a7",
   "metadata": {},
   "source": [
    "Importing data into pandas dataframe"
   ]
  },
  {
   "cell_type": "code",
   "execution_count": 2,
   "id": "e02c53ef",
   "metadata": {},
   "outputs": [],
   "source": [
    "Rock_file=\"ClassicRock_3Ho3iO0iJykgEQNbjB2sic.csv\"\n",
    "HipHop_file=\"HipHopClassics_5CRJExGSQFYXem2hT5GFkd.csv\"\n",
    "HeavyMetal_file=\"HeavyMetalClassics_27gN69ebwiJRtXEboL12Ih.csv\"\n",
    "Dance_file=\"DanceHits_5oKz4DsTP8zbL97UIPbqp4.csv\"\n",
    "Jazz_file=\"JazzClassic_37i9dQZF1DXbITWG1ZJKYt.csv\"\n",
    "Kpop_file=\"KpopClassics_0jB4ANR4ox65etDMnxvGLp.csv\"\n",
    "Classical_file=\"ClassicalStudy_6wObnEPQ63a4kei1sEcMdH.csv\"\n",
    "Country_file=\"CountryHits_1mJhSx6aYQmINsZ8dG4gzU.csv\""
   ]
  },
  {
   "cell_type": "markdown",
   "id": "236813a1",
   "metadata": {},
   "source": [
    "Taking necessary columns of file"
   ]
  },
  {
   "cell_type": "code",
   "execution_count": 7,
   "id": "ea45f9af",
   "metadata": {},
   "outputs": [
    {
     "data": {
      "text/html": [
       "<div>\n",
       "<style scoped>\n",
       "    .dataframe tbody tr th:only-of-type {\n",
       "        vertical-align: middle;\n",
       "    }\n",
       "\n",
       "    .dataframe tbody tr th {\n",
       "        vertical-align: top;\n",
       "    }\n",
       "\n",
       "    .dataframe thead th {\n",
       "        text-align: right;\n",
       "    }\n",
       "</style>\n",
       "<table border=\"1\" class=\"dataframe\">\n",
       "  <thead>\n",
       "    <tr style=\"text-align: right;\">\n",
       "      <th></th>\n",
       "      <th>danceability</th>\n",
       "      <th>energy</th>\n",
       "      <th>loudness</th>\n",
       "      <th>mode</th>\n",
       "      <th>acousticness</th>\n",
       "      <th>instrumentalness</th>\n",
       "      <th>liveness</th>\n",
       "    </tr>\n",
       "  </thead>\n",
       "  <tbody>\n",
       "    <tr>\n",
       "      <th>0</th>\n",
       "      <td>0.310</td>\n",
       "      <td>0.700</td>\n",
       "      <td>-5.678</td>\n",
       "      <td>1</td>\n",
       "      <td>0.01100</td>\n",
       "      <td>0.009650</td>\n",
       "      <td>0.0828</td>\n",
       "    </tr>\n",
       "    <tr>\n",
       "      <th>1</th>\n",
       "      <td>0.671</td>\n",
       "      <td>0.373</td>\n",
       "      <td>-18.064</td>\n",
       "      <td>1</td>\n",
       "      <td>0.25700</td>\n",
       "      <td>0.000080</td>\n",
       "      <td>0.0481</td>\n",
       "    </tr>\n",
       "    <tr>\n",
       "      <th>2</th>\n",
       "      <td>0.579</td>\n",
       "      <td>0.508</td>\n",
       "      <td>-9.484</td>\n",
       "      <td>1</td>\n",
       "      <td>0.00574</td>\n",
       "      <td>0.000494</td>\n",
       "      <td>0.0575</td>\n",
       "    </tr>\n",
       "    <tr>\n",
       "      <th>3</th>\n",
       "      <td>0.508</td>\n",
       "      <td>0.834</td>\n",
       "      <td>-6.205</td>\n",
       "      <td>1</td>\n",
       "      <td>0.01830</td>\n",
       "      <td>0.000000</td>\n",
       "      <td>0.0732</td>\n",
       "    </tr>\n",
       "    <tr>\n",
       "      <th>4</th>\n",
       "      <td>0.596</td>\n",
       "      <td>0.605</td>\n",
       "      <td>-12.145</td>\n",
       "      <td>1</td>\n",
       "      <td>0.18100</td>\n",
       "      <td>0.000331</td>\n",
       "      <td>0.0863</td>\n",
       "    </tr>\n",
       "  </tbody>\n",
       "</table>\n",
       "</div>"
      ],
      "text/plain": [
       "   danceability  energy  loudness  mode  acousticness  instrumentalness  \\\n",
       "0         0.310   0.700    -5.678     1       0.01100          0.009650   \n",
       "1         0.671   0.373   -18.064     1       0.25700          0.000080   \n",
       "2         0.579   0.508    -9.484     1       0.00574          0.000494   \n",
       "3         0.508   0.834    -6.205     1       0.01830          0.000000   \n",
       "4         0.596   0.605   -12.145     1       0.18100          0.000331   \n",
       "\n",
       "   liveness  \n",
       "0    0.0828  \n",
       "1    0.0481  \n",
       "2    0.0575  \n",
       "3    0.0732  \n",
       "4    0.0863  "
      ]
     },
     "execution_count": 7,
     "metadata": {},
     "output_type": "execute_result"
    }
   ],
   "source": [
    "#Sticking with just the basic parameters for now\n",
    "parameter_columns = [1,2,4,5,7,8,9]\n",
    "\n",
    "#Saving these other ones for later\n",
    "# key_column=3\n",
    "# tempo_column=11\n",
    "# duration_column=17\n",
    "\n",
    "\n",
    "#Testing to make sure read column numbers correctly\n",
    "data = pd.read_csv(Rock_file, usecols=parameter_columns) \n",
    "data.head()"
   ]
  },
  {
   "cell_type": "markdown",
   "id": "8b5d687e",
   "metadata": {},
   "source": [
    "Extra Column to hold the playlist number"
   ]
  },
  {
   "cell_type": "code",
   "execution_count": 9,
   "id": "18329874",
   "metadata": {},
   "outputs": [
    {
     "name": "stdout",
     "output_type": "stream",
     "text": [
      "300\n"
     ]
    },
    {
     "data": {
      "text/html": [
       "<div>\n",
       "<style scoped>\n",
       "    .dataframe tbody tr th:only-of-type {\n",
       "        vertical-align: middle;\n",
       "    }\n",
       "\n",
       "    .dataframe tbody tr th {\n",
       "        vertical-align: top;\n",
       "    }\n",
       "\n",
       "    .dataframe thead th {\n",
       "        text-align: right;\n",
       "    }\n",
       "</style>\n",
       "<table border=\"1\" class=\"dataframe\">\n",
       "  <thead>\n",
       "    <tr style=\"text-align: right;\">\n",
       "      <th></th>\n",
       "      <th>danceability</th>\n",
       "      <th>energy</th>\n",
       "      <th>loudness</th>\n",
       "      <th>mode</th>\n",
       "      <th>acousticness</th>\n",
       "      <th>instrumentalness</th>\n",
       "      <th>liveness</th>\n",
       "      <th>playlist_number</th>\n",
       "    </tr>\n",
       "  </thead>\n",
       "  <tbody>\n",
       "    <tr>\n",
       "      <th>0</th>\n",
       "      <td>0.310</td>\n",
       "      <td>0.700</td>\n",
       "      <td>-5.678</td>\n",
       "      <td>1</td>\n",
       "      <td>0.01100</td>\n",
       "      <td>0.009650</td>\n",
       "      <td>0.0828</td>\n",
       "      <td>1.0</td>\n",
       "    </tr>\n",
       "    <tr>\n",
       "      <th>1</th>\n",
       "      <td>0.671</td>\n",
       "      <td>0.373</td>\n",
       "      <td>-18.064</td>\n",
       "      <td>1</td>\n",
       "      <td>0.25700</td>\n",
       "      <td>0.000080</td>\n",
       "      <td>0.0481</td>\n",
       "      <td>1.0</td>\n",
       "    </tr>\n",
       "    <tr>\n",
       "      <th>2</th>\n",
       "      <td>0.579</td>\n",
       "      <td>0.508</td>\n",
       "      <td>-9.484</td>\n",
       "      <td>1</td>\n",
       "      <td>0.00574</td>\n",
       "      <td>0.000494</td>\n",
       "      <td>0.0575</td>\n",
       "      <td>1.0</td>\n",
       "    </tr>\n",
       "    <tr>\n",
       "      <th>3</th>\n",
       "      <td>0.508</td>\n",
       "      <td>0.834</td>\n",
       "      <td>-6.205</td>\n",
       "      <td>1</td>\n",
       "      <td>0.01830</td>\n",
       "      <td>0.000000</td>\n",
       "      <td>0.0732</td>\n",
       "      <td>1.0</td>\n",
       "    </tr>\n",
       "    <tr>\n",
       "      <th>4</th>\n",
       "      <td>0.596</td>\n",
       "      <td>0.605</td>\n",
       "      <td>-12.145</td>\n",
       "      <td>1</td>\n",
       "      <td>0.18100</td>\n",
       "      <td>0.000331</td>\n",
       "      <td>0.0863</td>\n",
       "      <td>1.0</td>\n",
       "    </tr>\n",
       "  </tbody>\n",
       "</table>\n",
       "</div>"
      ],
      "text/plain": [
       "   danceability  energy  loudness  mode  acousticness  instrumentalness  \\\n",
       "0         0.310   0.700    -5.678     1       0.01100          0.009650   \n",
       "1         0.671   0.373   -18.064     1       0.25700          0.000080   \n",
       "2         0.579   0.508    -9.484     1       0.00574          0.000494   \n",
       "3         0.508   0.834    -6.205     1       0.01830          0.000000   \n",
       "4         0.596   0.605   -12.145     1       0.18100          0.000331   \n",
       "\n",
       "   liveness  playlist_number  \n",
       "0    0.0828              1.0  \n",
       "1    0.0481              1.0  \n",
       "2    0.0575              1.0  \n",
       "3    0.0732              1.0  \n",
       "4    0.0863              1.0  "
      ]
     },
     "execution_count": 9,
     "metadata": {},
     "output_type": "execute_result"
    }
   ],
   "source": [
    "print(len(data))\n",
    "playlist_number=1\n",
    "playlist_numbers = playlist_number*np.ones(len(data))\n",
    "data[\"playlist_number\"]=playlist_numbers\n",
    "data.head()"
   ]
  },
  {
   "cell_type": "markdown",
   "id": "5fe512f5",
   "metadata": {},
   "source": [
    "Putting 200 songs from each playlist into a single dataframe"
   ]
  },
  {
   "cell_type": "code",
   "execution_count": 60,
   "id": "a073a35c",
   "metadata": {},
   "outputs": [
    {
     "data": {
      "text/html": [
       "<div>\n",
       "<style scoped>\n",
       "    .dataframe tbody tr th:only-of-type {\n",
       "        vertical-align: middle;\n",
       "    }\n",
       "\n",
       "    .dataframe tbody tr th {\n",
       "        vertical-align: top;\n",
       "    }\n",
       "\n",
       "    .dataframe thead th {\n",
       "        text-align: right;\n",
       "    }\n",
       "</style>\n",
       "<table border=\"1\" class=\"dataframe\">\n",
       "  <thead>\n",
       "    <tr style=\"text-align: right;\">\n",
       "      <th></th>\n",
       "      <th>danceability</th>\n",
       "      <th>energy</th>\n",
       "      <th>mode</th>\n",
       "      <th>speechiness</th>\n",
       "      <th>acousticness</th>\n",
       "      <th>instrumentalness</th>\n",
       "      <th>liveness</th>\n",
       "      <th>playlist_number</th>\n",
       "    </tr>\n",
       "  </thead>\n",
       "  <tbody>\n",
       "    <tr>\n",
       "      <th>0</th>\n",
       "      <td>0.310</td>\n",
       "      <td>0.7000</td>\n",
       "      <td>1</td>\n",
       "      <td>0.0470</td>\n",
       "      <td>0.01100</td>\n",
       "      <td>0.009650</td>\n",
       "      <td>0.0828</td>\n",
       "      <td>1.0</td>\n",
       "    </tr>\n",
       "    <tr>\n",
       "      <th>1</th>\n",
       "      <td>0.671</td>\n",
       "      <td>0.3730</td>\n",
       "      <td>1</td>\n",
       "      <td>0.0323</td>\n",
       "      <td>0.25700</td>\n",
       "      <td>0.000080</td>\n",
       "      <td>0.0481</td>\n",
       "      <td>1.0</td>\n",
       "    </tr>\n",
       "    <tr>\n",
       "      <th>2</th>\n",
       "      <td>0.579</td>\n",
       "      <td>0.5080</td>\n",
       "      <td>1</td>\n",
       "      <td>0.0270</td>\n",
       "      <td>0.00574</td>\n",
       "      <td>0.000494</td>\n",
       "      <td>0.0575</td>\n",
       "      <td>1.0</td>\n",
       "    </tr>\n",
       "    <tr>\n",
       "      <th>3</th>\n",
       "      <td>0.508</td>\n",
       "      <td>0.8340</td>\n",
       "      <td>1</td>\n",
       "      <td>0.0386</td>\n",
       "      <td>0.01830</td>\n",
       "      <td>0.000000</td>\n",
       "      <td>0.0732</td>\n",
       "      <td>1.0</td>\n",
       "    </tr>\n",
       "    <tr>\n",
       "      <th>4</th>\n",
       "      <td>0.596</td>\n",
       "      <td>0.6050</td>\n",
       "      <td>1</td>\n",
       "      <td>0.0255</td>\n",
       "      <td>0.18100</td>\n",
       "      <td>0.000331</td>\n",
       "      <td>0.0863</td>\n",
       "      <td>1.0</td>\n",
       "    </tr>\n",
       "    <tr>\n",
       "      <th>...</th>\n",
       "      <td>...</td>\n",
       "      <td>...</td>\n",
       "      <td>...</td>\n",
       "      <td>...</td>\n",
       "      <td>...</td>\n",
       "      <td>...</td>\n",
       "      <td>...</td>\n",
       "      <td>...</td>\n",
       "    </tr>\n",
       "    <tr>\n",
       "      <th>1195</th>\n",
       "      <td>0.529</td>\n",
       "      <td>0.0481</td>\n",
       "      <td>1</td>\n",
       "      <td>0.0596</td>\n",
       "      <td>0.99200</td>\n",
       "      <td>0.907000</td>\n",
       "      <td>0.1050</td>\n",
       "      <td>6.0</td>\n",
       "    </tr>\n",
       "    <tr>\n",
       "      <th>1196</th>\n",
       "      <td>0.458</td>\n",
       "      <td>0.1190</td>\n",
       "      <td>1</td>\n",
       "      <td>0.0542</td>\n",
       "      <td>0.98900</td>\n",
       "      <td>0.910000</td>\n",
       "      <td>0.0935</td>\n",
       "      <td>6.0</td>\n",
       "    </tr>\n",
       "    <tr>\n",
       "      <th>1197</th>\n",
       "      <td>0.258</td>\n",
       "      <td>0.0192</td>\n",
       "      <td>1</td>\n",
       "      <td>0.0533</td>\n",
       "      <td>0.96600</td>\n",
       "      <td>0.928000</td>\n",
       "      <td>0.1040</td>\n",
       "      <td>6.0</td>\n",
       "    </tr>\n",
       "    <tr>\n",
       "      <th>1198</th>\n",
       "      <td>0.423</td>\n",
       "      <td>0.1270</td>\n",
       "      <td>1</td>\n",
       "      <td>0.0336</td>\n",
       "      <td>0.98500</td>\n",
       "      <td>0.844000</td>\n",
       "      <td>0.1090</td>\n",
       "      <td>6.0</td>\n",
       "    </tr>\n",
       "    <tr>\n",
       "      <th>1199</th>\n",
       "      <td>0.222</td>\n",
       "      <td>0.1380</td>\n",
       "      <td>1</td>\n",
       "      <td>0.0433</td>\n",
       "      <td>0.98200</td>\n",
       "      <td>0.054600</td>\n",
       "      <td>0.0899</td>\n",
       "      <td>6.0</td>\n",
       "    </tr>\n",
       "  </tbody>\n",
       "</table>\n",
       "<p>1200 rows × 8 columns</p>\n",
       "</div>"
      ],
      "text/plain": [
       "      danceability  energy  mode  speechiness  acousticness  instrumentalness  \\\n",
       "0            0.310  0.7000     1       0.0470       0.01100          0.009650   \n",
       "1            0.671  0.3730     1       0.0323       0.25700          0.000080   \n",
       "2            0.579  0.5080     1       0.0270       0.00574          0.000494   \n",
       "3            0.508  0.8340     1       0.0386       0.01830          0.000000   \n",
       "4            0.596  0.6050     1       0.0255       0.18100          0.000331   \n",
       "...            ...     ...   ...          ...           ...               ...   \n",
       "1195         0.529  0.0481     1       0.0596       0.99200          0.907000   \n",
       "1196         0.458  0.1190     1       0.0542       0.98900          0.910000   \n",
       "1197         0.258  0.0192     1       0.0533       0.96600          0.928000   \n",
       "1198         0.423  0.1270     1       0.0336       0.98500          0.844000   \n",
       "1199         0.222  0.1380     1       0.0433       0.98200          0.054600   \n",
       "\n",
       "      liveness  playlist_number  \n",
       "0       0.0828              1.0  \n",
       "1       0.0481              1.0  \n",
       "2       0.0575              1.0  \n",
       "3       0.0732              1.0  \n",
       "4       0.0863              1.0  \n",
       "...        ...              ...  \n",
       "1195    0.1050              6.0  \n",
       "1196    0.0935              6.0  \n",
       "1197    0.1040              6.0  \n",
       "1198    0.1090              6.0  \n",
       "1199    0.0899              6.0  \n",
       "\n",
       "[1200 rows x 8 columns]"
      ]
     },
     "metadata": {},
     "output_type": "display_data"
    }
   ],
   "source": [
    "file_names=[Rock_file, HeavyMetal_file, Dance_file, Jazz_file, Kpop_file, Classical_file]#, HipHop_file]#, Country_file]\n",
    "parameter_columns = [1,2,4,5,7,8,9]\n",
    "\n",
    "# Most convenient to set up dataframe with initial file, then systematically loop through the others\n",
    "#Sticking with just the basic parameters for now\n",
    "parameter_columns = [1,2,5,6,7,8,9]#,19 #to include song name\n",
    "nrows=200\n",
    "\n",
    "\n",
    "\n",
    "#1 indexing here more natural\n",
    "playlist_number=1\n",
    "data = pd.read_csv(file_names[playlist_number-1], usecols=parameter_columns, nrows=nrows)\n",
    "\n",
    "playlist_numbers = playlist_number*np.ones(len(data))\n",
    "data[\"playlist_number\"]=playlist_numbers #Now has extra playlist column\n",
    "\n",
    "\n",
    "\n",
    "# Now looping through the remaining filenames\n",
    "for playlist_number in range(2,len(file_names)+1):\n",
    "    # dtmp := Temporary dataframe, will append to df.data once data filtered and prepped\n",
    "    dtmp= pd.read_csv(file_names[playlist_number-1], usecols=parameter_columns, nrows=nrows)\n",
    "\n",
    "    playlist_numbers = playlist_number*np.ones(len(dtmp)) # array of playlist_number\n",
    "    dtmp[\"playlist_number\"]=playlist_numbers #Now has extra playlist column\n",
    "    data=data.append(dtmp, ignore_index=True) #Append back to main df.data\n",
    "    \n",
    "display(data)"
   ]
  },
  {
   "cell_type": "markdown",
   "id": "78f0b9fc",
   "metadata": {},
   "source": [
    "Checking for duplicate tracks"
   ]
  },
  {
   "cell_type": "code",
   "execution_count": 61,
   "id": "cf1d6c67",
   "metadata": {
    "scrolled": true
   },
   "outputs": [
    {
     "name": "stdout",
     "output_type": "stream",
     "text": [
      "0\n",
      "Empty DataFrame\n",
      "Columns: [danceability, energy, mode, speechiness, acousticness, instrumentalness, liveness, playlist_number]\n",
      "Index: []\n"
     ]
    }
   ],
   "source": [
    "print(data.duplicated().sum()) #prints number of duplicates\n",
    "print(data.loc[data.duplicated(),:]) #prints column of duplicate"
   ]
  },
  {
   "cell_type": "markdown",
   "id": "c354ee74",
   "metadata": {},
   "source": [
    "Simple model which calculates average of each parameter for every playlist and minimises the cosine simularity between this and a new song."
   ]
  },
  {
   "cell_type": "code",
   "execution_count": 87,
   "id": "4f11984e",
   "metadata": {
    "scrolled": false
   },
   "outputs": [
    {
     "name": "stdout",
     "output_type": "stream",
     "text": [
      "1.0\n"
     ]
    }
   ],
   "source": [
    "#Calculating average values for each playlist and storing in an array\n",
    "AverageVals = []\n",
    "for i in range(1,len(file_names)+1):\n",
    "    AverageVals.append(np.array(data.loc[data[\"playlist_number\"] == float(i)].sum()/200))\n",
    "    #print(data.loc[data[\"playlist_number\"] == float(i)].sum()/200)\n",
    "print(AverageVals[0][7])"
   ]
  },
  {
   "cell_type": "markdown",
   "id": "5ece3c22",
   "metadata": {},
   "source": [
    "Consine Simularity"
   ]
  },
  {
   "cell_type": "code",
   "execution_count": 82,
   "id": "d33f0ca1",
   "metadata": {},
   "outputs": [],
   "source": [
    "def CosSimularity(X,Y):\n",
    "    XY = Xabs = Yabs = 0\n",
    "    for i in range(len(X)-1): #last column is playlist_number\n",
    "        Xabs += abs(X[i])\n",
    "        Yabs += abs(Y[i])\n",
    "        XY += X[i]*Y[i]\n",
    "    return XY/(Xabs + Yabs)"
   ]
  },
  {
   "cell_type": "code",
   "execution_count": 89,
   "id": "4b0bbe0f",
   "metadata": {},
   "outputs": [],
   "source": [
    "def SimpleModel(X,Averages):\n",
    "    best = 0.0\n",
    "    for i in range(len(Averages)):\n",
    "        if(CosSimularity(X,Averages[i]) > best):\n",
    "            best = CosSimularity(X,Averages[i])\n",
    "            playlist = Averages[i][7]\n",
    "    return playlist"
   ]
  },
  {
   "cell_type": "markdown",
   "id": "a7a2a685",
   "metadata": {},
   "source": [
    "Testing the simple model"
   ]
  },
  {
   "cell_type": "code",
   "execution_count": 95,
   "id": "d6ab97f8",
   "metadata": {},
   "outputs": [],
   "source": [
    "npData = np.array(data)\n",
    "predictions = []\n",
    "for i in npData:\n",
    "        predictions.append(SimpleModel(i,AverageVals))"
   ]
  },
  {
   "cell_type": "markdown",
   "id": "d4ce459f",
   "metadata": {},
   "source": [
    "Using sklearn to compute metrics"
   ]
  },
  {
   "cell_type": "code",
   "execution_count": 96,
   "id": "de14677d",
   "metadata": {},
   "outputs": [],
   "source": [
    "from sklearn.metrics import precision_score\n",
    "from sklearn.metrics import roc_curve"
   ]
  },
  {
   "cell_type": "code",
   "execution_count": 107,
   "id": "a65d9f01",
   "metadata": {},
   "outputs": [
    {
     "name": "stdout",
     "output_type": "stream",
     "text": [
      "0.5434360157860083\n"
     ]
    }
   ],
   "source": [
    "trainingdata = npData[:,7]\n",
    "print(precision_score(npData[:,7], predictions,average=\"weighted\"))"
   ]
  },
  {
   "cell_type": "code",
   "execution_count": null,
   "id": "79b7480d",
   "metadata": {},
   "outputs": [],
   "source": []
  }
 ],
 "metadata": {
  "kernelspec": {
   "display_name": "Python 3",
   "language": "python",
   "name": "python3"
  },
  "language_info": {
   "codemirror_mode": {
    "name": "ipython",
    "version": 3
   },
   "file_extension": ".py",
   "mimetype": "text/x-python",
   "name": "python",
   "nbconvert_exporter": "python",
   "pygments_lexer": "ipython3",
   "version": "3.7.1"
  }
 },
 "nbformat": 4,
 "nbformat_minor": 5
}
