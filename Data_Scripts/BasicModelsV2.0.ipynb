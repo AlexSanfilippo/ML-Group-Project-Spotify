{
 "cells": [
  {
   "cell_type": "markdown",
   "id": "e6ba76bb",
   "metadata": {},
   "source": [
    "# Version 1.0\n",
    "# 4/12/21\n",
    "Machine Learning Group Project\n",
    "\n",
    "\n",
    "Adapted from file \"BasicModelsV1.0.py\""
   ]
  },
  {
   "cell_type": "code",
   "execution_count": 1,
   "id": "6dcb6787",
   "metadata": {
    "ExecuteTime": {
     "end_time": "2021-12-04T15:50:10.317318Z",
     "start_time": "2021-12-04T15:50:08.655964Z"
    }
   },
   "outputs": [],
   "source": [
    "import pandas as pd\n",
    "import numpy as np\n",
    "import matplotlib.pyplot as plt\n",
    "\n",
    "plt.rc(\"font\", size=14) #Font size\n",
    "plt.rcParams[\"figure.figsize\"] = (10,10) #Fig size"
   ]
  },
  {
   "cell_type": "markdown",
   "id": "c902683a",
   "metadata": {},
   "source": [
    "# Checking csv and titles by importing first row of a file"
   ]
  },
  {
   "cell_type": "code",
   "execution_count": 5,
   "id": "16321bd2",
   "metadata": {
    "ExecuteTime": {
     "end_time": "2021-12-04T15:51:38.912529Z",
     "start_time": "2021-12-04T15:51:38.850069Z"
    }
   },
   "outputs": [
    {
     "data": {
      "text/html": [
       "<div>\n",
       "<style scoped>\n",
       "    .dataframe tbody tr th:only-of-type {\n",
       "        vertical-align: middle;\n",
       "    }\n",
       "\n",
       "    .dataframe tbody tr th {\n",
       "        vertical-align: top;\n",
       "    }\n",
       "\n",
       "    .dataframe thead th {\n",
       "        text-align: right;\n",
       "    }\n",
       "</style>\n",
       "<table border=\"1\" class=\"dataframe\">\n",
       "  <thead>\n",
       "    <tr style=\"text-align: right;\">\n",
       "      <th></th>\n",
       "      <th>danceability</th>\n",
       "      <th>energy</th>\n",
       "      <th>key</th>\n",
       "      <th>loudness</th>\n",
       "      <th>mode</th>\n",
       "      <th>speechiness</th>\n",
       "      <th>acousticness</th>\n",
       "      <th>instrumentalness</th>\n",
       "      <th>liveness</th>\n",
       "      <th>valence</th>\n",
       "      <th>tempo</th>\n",
       "      <th>type</th>\n",
       "      <th>id</th>\n",
       "      <th>uri</th>\n",
       "      <th>track_href</th>\n",
       "      <th>analysis_url</th>\n",
       "      <th>duration_ms</th>\n",
       "      <th>time_signature</th>\n",
       "      <th>track_name</th>\n",
       "    </tr>\n",
       "  </thead>\n",
       "  <tbody>\n",
       "    <tr>\n",
       "      <th>0</th>\n",
       "      <td>0.31</td>\n",
       "      <td>0.7</td>\n",
       "      <td>9</td>\n",
       "      <td>-5.678</td>\n",
       "      <td>1</td>\n",
       "      <td>0.047</td>\n",
       "      <td>0.011</td>\n",
       "      <td>0.00965</td>\n",
       "      <td>0.0828</td>\n",
       "      <td>0.763</td>\n",
       "      <td>188.386</td>\n",
       "      <td>audio_features</td>\n",
       "      <td>08mG3Y1vljYA6bvDt4Wqkj</td>\n",
       "      <td>spotify:track:08mG3Y1vljYA6bvDt4Wqkj</td>\n",
       "      <td>https://api.spotify.com/v1/tracks/08mG3Y1vljYA...</td>\n",
       "      <td>https://api.spotify.com/v1/audio-analysis/08mG...</td>\n",
       "      <td>255493</td>\n",
       "      <td>4</td>\n",
       "      <td>Back In Black</td>\n",
       "    </tr>\n",
       "  </tbody>\n",
       "</table>\n",
       "</div>"
      ],
      "text/plain": [
       "   danceability  energy  key  loudness  mode  speechiness  acousticness  \\\n",
       "0          0.31     0.7    9    -5.678     1        0.047         0.011   \n",
       "\n",
       "   instrumentalness  liveness  valence    tempo            type  \\\n",
       "0           0.00965    0.0828    0.763  188.386  audio_features   \n",
       "\n",
       "                       id                                   uri  \\\n",
       "0  08mG3Y1vljYA6bvDt4Wqkj  spotify:track:08mG3Y1vljYA6bvDt4Wqkj   \n",
       "\n",
       "                                          track_href  \\\n",
       "0  https://api.spotify.com/v1/tracks/08mG3Y1vljYA...   \n",
       "\n",
       "                                        analysis_url  duration_ms  \\\n",
       "0  https://api.spotify.com/v1/audio-analysis/08mG...       255493   \n",
       "\n",
       "   time_signature     track_name  \n",
       "0               4  Back In Black  "
      ]
     },
     "metadata": {},
     "output_type": "display_data"
    }
   ],
   "source": [
    "file_dir=\"../SpotifyData/\"\n",
    "file_name=\"ClassicRock_3Ho3iO0iJykgEQNbjB2sic.csv\"\n",
    "\n",
    "test_csv = pd.read_csv(file_dir+file_name, index_col=0, nrows=1) \n",
    "display(test_csv)\n"
   ]
  },
  {
   "cell_type": "markdown",
   "id": "10c12a9b",
   "metadata": {},
   "source": [
    "# Compiling Data\n",
    "Next step is to make a single dataframe holding the data from all source files\n"
   ]
  },
  {
   "cell_type": "code",
   "execution_count": 6,
   "id": "00dda1f5",
   "metadata": {
    "ExecuteTime": {
     "end_time": "2021-12-04T15:51:40.865862Z",
     "start_time": "2021-12-04T15:51:40.617106Z"
    }
   },
   "outputs": [
    {
     "name": "stdout",
     "output_type": "stream",
     "text": [
      "Removing n duplicates =  24\n"
     ]
    },
    {
     "data": {
      "text/html": [
       "<div>\n",
       "<style scoped>\n",
       "    .dataframe tbody tr th:only-of-type {\n",
       "        vertical-align: middle;\n",
       "    }\n",
       "\n",
       "    .dataframe tbody tr th {\n",
       "        vertical-align: top;\n",
       "    }\n",
       "\n",
       "    .dataframe thead th {\n",
       "        text-align: right;\n",
       "    }\n",
       "</style>\n",
       "<table border=\"1\" class=\"dataframe\">\n",
       "  <thead>\n",
       "    <tr style=\"text-align: right;\">\n",
       "      <th></th>\n",
       "      <th>danceability</th>\n",
       "      <th>energy</th>\n",
       "      <th>mode</th>\n",
       "      <th>speechiness</th>\n",
       "      <th>acousticness</th>\n",
       "      <th>instrumentalness</th>\n",
       "      <th>liveness</th>\n",
       "      <th>valence</th>\n",
       "      <th>tempo</th>\n",
       "      <th>playlist_number</th>\n",
       "    </tr>\n",
       "  </thead>\n",
       "  <tbody>\n",
       "    <tr>\n",
       "      <th>0</th>\n",
       "      <td>0.639</td>\n",
       "      <td>0.2690</td>\n",
       "      <td>1</td>\n",
       "      <td>0.0698</td>\n",
       "      <td>0.982</td>\n",
       "      <td>0.120000</td>\n",
       "      <td>0.141</td>\n",
       "      <td>0.539</td>\n",
       "      <td>124.866</td>\n",
       "      <td>1.0</td>\n",
       "    </tr>\n",
       "    <tr>\n",
       "      <th>1</th>\n",
       "      <td>0.419</td>\n",
       "      <td>0.0284</td>\n",
       "      <td>1</td>\n",
       "      <td>0.0357</td>\n",
       "      <td>0.987</td>\n",
       "      <td>0.586000</td>\n",
       "      <td>0.105</td>\n",
       "      <td>0.121</td>\n",
       "      <td>71.502</td>\n",
       "      <td>1.0</td>\n",
       "    </tr>\n",
       "    <tr>\n",
       "      <th>2</th>\n",
       "      <td>0.573</td>\n",
       "      <td>0.2470</td>\n",
       "      <td>0</td>\n",
       "      <td>0.0627</td>\n",
       "      <td>0.713</td>\n",
       "      <td>0.000056</td>\n",
       "      <td>0.103</td>\n",
       "      <td>0.604</td>\n",
       "      <td>138.234</td>\n",
       "      <td>1.0</td>\n",
       "    </tr>\n",
       "    <tr>\n",
       "      <th>3</th>\n",
       "      <td>0.593</td>\n",
       "      <td>0.1030</td>\n",
       "      <td>1</td>\n",
       "      <td>0.0810</td>\n",
       "      <td>0.986</td>\n",
       "      <td>0.600000</td>\n",
       "      <td>0.120</td>\n",
       "      <td>0.443</td>\n",
       "      <td>66.283</td>\n",
       "      <td>1.0</td>\n",
       "    </tr>\n",
       "    <tr>\n",
       "      <th>4</th>\n",
       "      <td>0.450</td>\n",
       "      <td>0.0288</td>\n",
       "      <td>1</td>\n",
       "      <td>0.0467</td>\n",
       "      <td>0.994</td>\n",
       "      <td>0.895000</td>\n",
       "      <td>0.118</td>\n",
       "      <td>0.358</td>\n",
       "      <td>130.838</td>\n",
       "      <td>1.0</td>\n",
       "    </tr>\n",
       "  </tbody>\n",
       "</table>\n",
       "</div>"
      ],
      "text/plain": [
       "   danceability  energy  mode  speechiness  acousticness  instrumentalness  \\\n",
       "0         0.639  0.2690     1       0.0698         0.982          0.120000   \n",
       "1         0.419  0.0284     1       0.0357         0.987          0.586000   \n",
       "2         0.573  0.2470     0       0.0627         0.713          0.000056   \n",
       "3         0.593  0.1030     1       0.0810         0.986          0.600000   \n",
       "4         0.450  0.0288     1       0.0467         0.994          0.895000   \n",
       "\n",
       "   liveness  valence    tempo  playlist_number  \n",
       "0     0.141    0.539  124.866              1.0  \n",
       "1     0.105    0.121   71.502              1.0  \n",
       "2     0.103    0.604  138.234              1.0  \n",
       "3     0.120    0.443   66.283              1.0  \n",
       "4     0.118    0.358  130.838              1.0  "
      ]
     },
     "metadata": {},
     "output_type": "display_data"
    }
   ],
   "source": [
    "file_dir=\"../SpotifyData/\"\n",
    "\n",
    "file_names= [\"JazzClassic_37i9dQZF1DXbITWG1ZJKYt.csv\",\\\n",
    "             \"CountryHits_1mJhSx6aYQmINsZ8dG4gzU.csv\",\\\n",
    "             \"ClassicalStudy_6wObnEPQ63a4kei1sEcMdH.csv\",\\\n",
    "             \"HipHopClassics_5CRJExGSQFYXem2hT5GFkd.csv\",\\\n",
    "            \"ClassicRock_3Ho3iO0iJykgEQNbjB2sic.csv\",\\\n",
    "             \"KpopClassics_0jB4ANR4ox65etDMnxvGLp.csv\",\\\n",
    "             \"HeavyMetalClassics_27gN69ebwiJRtXEboL12Ih.csv\",\\\n",
    "             \"DanceHits_5oKz4DsTP8zbL97UIPbqp4.csv\"]\n",
    "\n",
    "#file_nrows=[ 200, 205, 227,229, 299, 322, 385, 434]\n",
    "\n",
    "#Sticking with just the basic parameters for now\n",
    "parameter_columns = [1,2,5,6,7,8,9,10]\n",
    "# tempo_column=11\n",
    "# mode 5\n",
    "parameter_columns = [1,2,5,6,7,8,9,10,11]\n",
    "\n",
    "\n",
    "\n",
    "## Most convenient to set up dataframe with initial file, then systematically loop through the others\n",
    "## 1 indexing here more natural\n",
    "playlist_number=1\n",
    "data = pd.read_csv(file_dir+file_names[playlist_number-1], usecols=parameter_columns)#, nrows=file_nrows[0])\n",
    "\n",
    "playlist_numbers = playlist_number*np.ones(len(data))\n",
    "data[\"playlist_number\"]=playlist_numbers #Now has extra playlist column\n",
    "\n",
    "\n",
    "\n",
    "# Now looping through the remaining filenames\n",
    "for playlist_number in range(2,len(file_names)+1):\n",
    "    ## dtmp := Temporary dataframe, will append to df.data once data filtered and prepped\n",
    "    dtmp= pd.read_csv(file_dir+file_names[playlist_number-1], usecols=parameter_columns)\n",
    "    \n",
    "    ## Incase we want to use const number of songs per playlist\n",
    "    #dtmp= pd.read_csv(file_dir+file_names[playlist_number-1], usecols=parameter_columns), \\\n",
    "    #                  nrows=200)\n",
    "\n",
    "    playlist_numbers = playlist_number*np.ones(len(dtmp)) # array of playlist_number\n",
    "    dtmp[\"playlist_number\"]=playlist_numbers #Now has extra playlist column\n",
    "    data=data.append(dtmp, ignore_index=True) #Append back to main df.data\n",
    "    \n",
    "\n",
    "    \n",
    "## Removing duplicates\n",
    "print(\"Removing n duplicates = \", data.duplicated().sum()) #prints number of duplicates\n",
    "data = data.drop_duplicates() \n",
    "display(data.head())\n",
    "\n",
    "\n",
    "X = data.loc[:,\"danceability\":\"tempo\"]#.values\n",
    "#X = data.loc[:,\"danceability\":\"tempo\"]\n",
    "Y = data.loc[:,\"playlist_number\"]\n",
    "\n",
    "## Reset indexing after dropring duplicates\n",
    "X.reset_index(drop=True, inplace=True)\n",
    "Y.reset_index(drop=True, inplace=True)\n",
    "X=np.array(X);Y=np.array(Y)\n",
    "classes=np.array([1,2,3,4,5,6,7,8])"
   ]
  },
  {
   "cell_type": "markdown",
   "id": "09011a9e",
   "metadata": {},
   "source": [
    "# LinearClassifier"
   ]
  },
  {
   "cell_type": "code",
   "execution_count": null,
   "id": "137fa06a",
   "metadata": {},
   "outputs": [],
   "source": []
  }
 ],
 "metadata": {
  "kernelspec": {
   "display_name": "Python 3",
   "language": "python",
   "name": "python3"
  },
  "language_info": {
   "codemirror_mode": {
    "name": "ipython",
    "version": 3
   },
   "file_extension": ".py",
   "mimetype": "text/x-python",
   "name": "python",
   "nbconvert_exporter": "python",
   "pygments_lexer": "ipython3",
   "version": "3.8.8"
  },
  "varInspector": {
   "cols": {
    "lenName": 16,
    "lenType": 16,
    "lenVar": 40
   },
   "kernels_config": {
    "python": {
     "delete_cmd_postfix": "",
     "delete_cmd_prefix": "del ",
     "library": "var_list.py",
     "varRefreshCmd": "print(var_dic_list())"
    },
    "r": {
     "delete_cmd_postfix": ") ",
     "delete_cmd_prefix": "rm(",
     "library": "var_list.r",
     "varRefreshCmd": "cat(var_dic_list()) "
    }
   },
   "types_to_exclude": [
    "module",
    "function",
    "builtin_function_or_method",
    "instance",
    "_Feature"
   ],
   "window_display": false
  }
 },
 "nbformat": 4,
 "nbformat_minor": 5
}
