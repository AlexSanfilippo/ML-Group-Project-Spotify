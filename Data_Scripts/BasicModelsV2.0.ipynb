{
 "cells": [
  {
   "cell_type": "markdown",
   "id": "7a798ef4",
   "metadata": {},
   "source": [
    "# Version 1.0\n",
    "# 4/12/21\n",
    "Machine Learning Group Project\n",
    "\n",
    "\n",
    "Adapted from file \"BasicModelsV1.0.py\""
   ]
  },
  {
   "cell_type": "code",
   "execution_count": 36,
   "id": "b6cd6fa4",
   "metadata": {
    "ExecuteTime": {
     "end_time": "2021-12-04T16:40:18.993004Z",
     "start_time": "2021-12-04T16:40:18.972073Z"
    }
   },
   "outputs": [],
   "source": [
    "import pandas as pd\n",
    "import numpy as np\n",
    "import matplotlib.pyplot as plt\n",
    "\n",
    "plt.rc(\"font\", size=14) #Font size\n",
    "plt.rcParams[\"figure.figsize\"] = (10,10) #Fig size"
   ]
  },
  {
   "cell_type": "markdown",
   "id": "666e75bc",
   "metadata": {},
   "source": [
    "# Checking csv and titles by importing first row of a file"
   ]
  },
  {
   "cell_type": "code",
   "execution_count": 5,
   "id": "57d9bfad",
   "metadata": {
    "ExecuteTime": {
     "end_time": "2021-12-04T15:51:38.912529Z",
     "start_time": "2021-12-04T15:51:38.850069Z"
    }
   },
   "outputs": [
    {
     "data": {
      "text/html": [
       "<div>\n",
       "<style scoped>\n",
       "    .dataframe tbody tr th:only-of-type {\n",
       "        vertical-align: middle;\n",
       "    }\n",
       "\n",
       "    .dataframe tbody tr th {\n",
       "        vertical-align: top;\n",
       "    }\n",
       "\n",
       "    .dataframe thead th {\n",
       "        text-align: right;\n",
       "    }\n",
       "</style>\n",
       "<table border=\"1\" class=\"dataframe\">\n",
       "  <thead>\n",
       "    <tr style=\"text-align: right;\">\n",
       "      <th></th>\n",
       "      <th>danceability</th>\n",
       "      <th>energy</th>\n",
       "      <th>key</th>\n",
       "      <th>loudness</th>\n",
       "      <th>mode</th>\n",
       "      <th>speechiness</th>\n",
       "      <th>acousticness</th>\n",
       "      <th>instrumentalness</th>\n",
       "      <th>liveness</th>\n",
       "      <th>valence</th>\n",
       "      <th>tempo</th>\n",
       "      <th>type</th>\n",
       "      <th>id</th>\n",
       "      <th>uri</th>\n",
       "      <th>track_href</th>\n",
       "      <th>analysis_url</th>\n",
       "      <th>duration_ms</th>\n",
       "      <th>time_signature</th>\n",
       "      <th>track_name</th>\n",
       "    </tr>\n",
       "  </thead>\n",
       "  <tbody>\n",
       "    <tr>\n",
       "      <th>0</th>\n",
       "      <td>0.31</td>\n",
       "      <td>0.7</td>\n",
       "      <td>9</td>\n",
       "      <td>-5.678</td>\n",
       "      <td>1</td>\n",
       "      <td>0.047</td>\n",
       "      <td>0.011</td>\n",
       "      <td>0.00965</td>\n",
       "      <td>0.0828</td>\n",
       "      <td>0.763</td>\n",
       "      <td>188.386</td>\n",
       "      <td>audio_features</td>\n",
       "      <td>08mG3Y1vljYA6bvDt4Wqkj</td>\n",
       "      <td>spotify:track:08mG3Y1vljYA6bvDt4Wqkj</td>\n",
       "      <td>https://api.spotify.com/v1/tracks/08mG3Y1vljYA...</td>\n",
       "      <td>https://api.spotify.com/v1/audio-analysis/08mG...</td>\n",
       "      <td>255493</td>\n",
       "      <td>4</td>\n",
       "      <td>Back In Black</td>\n",
       "    </tr>\n",
       "  </tbody>\n",
       "</table>\n",
       "</div>"
      ],
      "text/plain": [
       "   danceability  energy  key  loudness  mode  speechiness  acousticness  \\\n",
       "0          0.31     0.7    9    -5.678     1        0.047         0.011   \n",
       "\n",
       "   instrumentalness  liveness  valence    tempo            type  \\\n",
       "0           0.00965    0.0828    0.763  188.386  audio_features   \n",
       "\n",
       "                       id                                   uri  \\\n",
       "0  08mG3Y1vljYA6bvDt4Wqkj  spotify:track:08mG3Y1vljYA6bvDt4Wqkj   \n",
       "\n",
       "                                          track_href  \\\n",
       "0  https://api.spotify.com/v1/tracks/08mG3Y1vljYA...   \n",
       "\n",
       "                                        analysis_url  duration_ms  \\\n",
       "0  https://api.spotify.com/v1/audio-analysis/08mG...       255493   \n",
       "\n",
       "   time_signature     track_name  \n",
       "0               4  Back In Black  "
      ]
     },
     "metadata": {},
     "output_type": "display_data"
    }
   ],
   "source": [
    "file_dir=\"../SpotifyData/\"\n",
    "file_name=\"ClassicRock_3Ho3iO0iJykgEQNbjB2sic.csv\"\n",
    "\n",
    "test_csv = pd.read_csv(file_dir+file_name, index_col=0, nrows=1) \n",
    "display(test_csv)\n"
   ]
  },
  {
   "cell_type": "markdown",
   "id": "31f3649c",
   "metadata": {},
   "source": [
    "# Compiling Data\n",
    "Next step is to make a single dataframe holding the data from all source files\n"
   ]
  },
  {
   "cell_type": "code",
   "execution_count": 68,
   "id": "85060f57",
   "metadata": {
    "ExecuteTime": {
     "end_time": "2021-12-04T16:57:08.072022Z",
     "start_time": "2021-12-04T16:57:07.815636Z"
    }
   },
   "outputs": [
    {
     "name": "stdout",
     "output_type": "stream",
     "text": [
      "Removing n duplicates =  24\n"
     ]
    },
    {
     "data": {
      "text/html": [
       "<div>\n",
       "<style scoped>\n",
       "    .dataframe tbody tr th:only-of-type {\n",
       "        vertical-align: middle;\n",
       "    }\n",
       "\n",
       "    .dataframe tbody tr th {\n",
       "        vertical-align: top;\n",
       "    }\n",
       "\n",
       "    .dataframe thead th {\n",
       "        text-align: right;\n",
       "    }\n",
       "</style>\n",
       "<table border=\"1\" class=\"dataframe\">\n",
       "  <thead>\n",
       "    <tr style=\"text-align: right;\">\n",
       "      <th></th>\n",
       "      <th>danceability</th>\n",
       "      <th>energy</th>\n",
       "      <th>mode</th>\n",
       "      <th>speechiness</th>\n",
       "      <th>acousticness</th>\n",
       "      <th>instrumentalness</th>\n",
       "      <th>liveness</th>\n",
       "      <th>valence</th>\n",
       "      <th>tempo</th>\n",
       "      <th>playlist_number</th>\n",
       "    </tr>\n",
       "  </thead>\n",
       "  <tbody>\n",
       "    <tr>\n",
       "      <th>0</th>\n",
       "      <td>0.639</td>\n",
       "      <td>0.2690</td>\n",
       "      <td>1</td>\n",
       "      <td>0.0698</td>\n",
       "      <td>0.982</td>\n",
       "      <td>0.120000</td>\n",
       "      <td>0.141</td>\n",
       "      <td>0.539</td>\n",
       "      <td>124.866</td>\n",
       "      <td>1.0</td>\n",
       "    </tr>\n",
       "    <tr>\n",
       "      <th>1</th>\n",
       "      <td>0.419</td>\n",
       "      <td>0.0284</td>\n",
       "      <td>1</td>\n",
       "      <td>0.0357</td>\n",
       "      <td>0.987</td>\n",
       "      <td>0.586000</td>\n",
       "      <td>0.105</td>\n",
       "      <td>0.121</td>\n",
       "      <td>71.502</td>\n",
       "      <td>1.0</td>\n",
       "    </tr>\n",
       "    <tr>\n",
       "      <th>2</th>\n",
       "      <td>0.573</td>\n",
       "      <td>0.2470</td>\n",
       "      <td>0</td>\n",
       "      <td>0.0627</td>\n",
       "      <td>0.713</td>\n",
       "      <td>0.000056</td>\n",
       "      <td>0.103</td>\n",
       "      <td>0.604</td>\n",
       "      <td>138.234</td>\n",
       "      <td>1.0</td>\n",
       "    </tr>\n",
       "    <tr>\n",
       "      <th>3</th>\n",
       "      <td>0.593</td>\n",
       "      <td>0.1030</td>\n",
       "      <td>1</td>\n",
       "      <td>0.0810</td>\n",
       "      <td>0.986</td>\n",
       "      <td>0.600000</td>\n",
       "      <td>0.120</td>\n",
       "      <td>0.443</td>\n",
       "      <td>66.283</td>\n",
       "      <td>1.0</td>\n",
       "    </tr>\n",
       "    <tr>\n",
       "      <th>4</th>\n",
       "      <td>0.450</td>\n",
       "      <td>0.0288</td>\n",
       "      <td>1</td>\n",
       "      <td>0.0467</td>\n",
       "      <td>0.994</td>\n",
       "      <td>0.895000</td>\n",
       "      <td>0.118</td>\n",
       "      <td>0.358</td>\n",
       "      <td>130.838</td>\n",
       "      <td>1.0</td>\n",
       "    </tr>\n",
       "  </tbody>\n",
       "</table>\n",
       "</div>"
      ],
      "text/plain": [
       "   danceability  energy  mode  speechiness  acousticness  instrumentalness  \\\n",
       "0         0.639  0.2690     1       0.0698         0.982          0.120000   \n",
       "1         0.419  0.0284     1       0.0357         0.987          0.586000   \n",
       "2         0.573  0.2470     0       0.0627         0.713          0.000056   \n",
       "3         0.593  0.1030     1       0.0810         0.986          0.600000   \n",
       "4         0.450  0.0288     1       0.0467         0.994          0.895000   \n",
       "\n",
       "   liveness  valence    tempo  playlist_number  \n",
       "0     0.141    0.539  124.866              1.0  \n",
       "1     0.105    0.121   71.502              1.0  \n",
       "2     0.103    0.604  138.234              1.0  \n",
       "3     0.120    0.443   66.283              1.0  \n",
       "4     0.118    0.358  130.838              1.0  "
      ]
     },
     "metadata": {},
     "output_type": "display_data"
    }
   ],
   "source": [
    "file_dir=\"../SpotifyData/\"\n",
    "\n",
    "file_names= [\"JazzClassic_37i9dQZF1DXbITWG1ZJKYt.csv\",\\\n",
    "             \"CountryHits_1mJhSx6aYQmINsZ8dG4gzU.csv\",\\\n",
    "             \"ClassicalStudy_6wObnEPQ63a4kei1sEcMdH.csv\",\\\n",
    "             \"HipHopClassics_5CRJExGSQFYXem2hT5GFkd.csv\",\\\n",
    "            \"ClassicRock_3Ho3iO0iJykgEQNbjB2sic.csv\",\\\n",
    "             \"KpopClassics_0jB4ANR4ox65etDMnxvGLp.csv\",\\\n",
    "             \"HeavyMetalClassics_27gN69ebwiJRtXEboL12Ih.csv\",\\\n",
    "             \"DanceHits_5oKz4DsTP8zbL97UIPbqp4.csv\"]\n",
    "\n",
    "#file_nrows=[ 200, 205, 227,229, 299, 322, 385, 434]\n",
    "\n",
    "#Sticking with just the basic parameters for now\n",
    "#parameter_columns = [1,2,6,7,8,9,10]\n",
    "# tempo_column=11\n",
    "# mode 5\n",
    "parameter_columns = [1,2,5,6,7,8,9,10,11]\n",
    "\n",
    "\n",
    "\n",
    "## Most convenient to set up dataframe with initial file, then systematically loop through the others\n",
    "## 1 indexing here more natural\n",
    "playlist_number=1\n",
    "data = pd.read_csv(file_dir+file_names[playlist_number-1], usecols=parameter_columns)#, nrows=file_nrows[0])\n",
    "\n",
    "playlist_numbers = playlist_number*np.ones(len(data))\n",
    "data[\"playlist_number\"]=playlist_numbers #Now has extra playlist column\n",
    "\n",
    "\n",
    "\n",
    "# Now looping through the remaining filenames\n",
    "for playlist_number in range(2,len(file_names)+1):\n",
    "    ## dtmp := Temporary dataframe, will append to df.data once data filtered and prepped\n",
    "    dtmp= pd.read_csv(file_dir+file_names[playlist_number-1], usecols=parameter_columns)\n",
    "    \n",
    "    ## Incase we want to use const number of songs per playlist\n",
    "    #dtmp= pd.read_csv(file_dir+file_names[playlist_number-1], usecols=parameter_columns), \\\n",
    "    #                  nrows=200)\n",
    "\n",
    "    playlist_numbers = playlist_number*np.ones(len(dtmp)) # array of playlist_number\n",
    "    dtmp[\"playlist_number\"]=playlist_numbers #Now has extra playlist column\n",
    "    data=data.append(dtmp, ignore_index=True) #Append back to main df.data\n",
    "    \n",
    "\n",
    "    \n",
    "## Removing duplicates\n",
    "print(\"Removing n duplicates = \", data.duplicated().sum()) #prints number of duplicates\n",
    "data = data.drop_duplicates() \n",
    "display(data.head())\n",
    "\n",
    "## Reseting indexing after dropping duplicates\n",
    "data.reset_index(drop=True, inplace=True)\n",
    "\n",
    "#X = data.loc[:,\"danceability\":\"tempo\"]\n",
    "X = data.loc[:,\"danceability\":\"tempo\"]\n",
    "Y = data.loc[:,\"playlist_number\"]\n",
    "X_norm = data.iloc[:, [0,1,3,4,5,6,7]]#Just 7 normalized_params\n",
    "\n",
    "#Numpy array more convenient\n",
    "X=np.array(X);Y=np.array(Y)\n",
    "X_norm = np.array(X_norm)\n",
    "classes=np.array([1,2,3,4,5,6,7,8])"
   ]
  },
  {
   "cell_type": "markdown",
   "id": "5686a258",
   "metadata": {},
   "source": [
    "# LinearClassifier\n",
    "1) Choose q with Linear Classifier\n",
    "\n",
    "\n",
    "2) Move to ridge classifier and choose C"
   ]
  },
  {
   "cell_type": "code",
   "execution_count": 52,
   "id": "31a1cc8c",
   "metadata": {
    "ExecuteTime": {
     "end_time": "2021-12-04T16:47:46.947740Z",
     "start_time": "2021-12-04T16:47:46.939740Z"
    }
   },
   "outputs": [],
   "source": [
    "from sklearn.metrics import precision_score, accuracy_score\n",
    "\n",
    "from sklearn.model_selection import KFold    \n",
    "n_splits=5\n",
    "kf = KFold(n_splits=n_splits, shuffle=True) #important to shuffle for our ordered data\n",
    "\n",
    "\n",
    "from sklearn.preprocessing import PolynomialFeatures\n",
    "q_poly = [1,2,3,4,5]      \n",
    "#Xpoly = PolynomialFeatures(q, include_bias=False).fit_transform(X)\n",
    "\n",
    "\n",
    "#Pipelining output from StandardScaler into input of model\n",
    "from sklearn.pipeline import make_pipeline\n",
    "from sklearn.preprocessing import StandardScaler #Rescale data\n",
    "#pipe = make_pipeline(StandardScaler(), ...model...)"
   ]
  },
  {
   "cell_type": "code",
   "execution_count": 53,
   "id": "87264324",
   "metadata": {
    "ExecuteTime": {
     "end_time": "2021-12-04T16:47:54.040936Z",
     "start_time": "2021-12-04T16:47:52.264766Z"
    }
   },
   "outputs": [
    {
     "name": "stdout",
     "output_type": "stream",
     "text": [
      "[0.5622125609428386, 0.6226841721371261, 0.6161282582824676, 0.616133056931168, 0.5249635302698761] \n",
      " [0.020042151216799826, 0.0209834768267304, 0.005276937982684963, 0.0351287522864571, 0.025732170702516762]\n"
     ]
    },
    {
     "data": {
      "image/png": "[encoded data removed]",
      "text/plain": [
       "<Figure size 720x720 with 1 Axes>"
      ]
     },
     "metadata": {
      "needs_background": "light"
     },
     "output_type": "display_data"
    }
   ],
   "source": [
    "from sklearn.linear_model import RidgeClassifier\n",
    "#Imitating Linear Classifier we small alpha\n",
    "C0 = 1e6\n",
    "\n",
    "pipe = make_pipeline(StandardScaler(), \\\n",
    "        RidgeClassifier(alpha = 1/C0 ))\n",
    "\n",
    "################################\n",
    "\n",
    "q_poly = [1,2,3,4,5]\n",
    "accuracy=[]\n",
    "accuracy_err=[]\n",
    "for q in q_poly:\n",
    "    Xpoly = PolynomialFeatures(q, include_bias=False).fit_transform(X)\n",
    "    \n",
    "    tmp=[]\n",
    "    for train, test in kf.split(Xpoly):\n",
    "        #Rescale then fit\n",
    "        pipe.fit(Xpoly[train],Y[train])\n",
    "        \n",
    "        #Accuracy\n",
    "        tmp.append( pipe.score(Xpoly[test], Y[test]) )\n",
    "\n",
    "    accuracy.append( np.array(tmp).mean() )\n",
    "    accuracy_err.append( np.array(tmp).std() )\n",
    "\n",
    "\n",
    "print(accuracy, \"\\n\", accuracy_err)\n",
    "\n",
    "plt.errorbar(q_poly, accuracy, yerr=accuracy_err, capsize=5)\n",
    "plt.xticks(q_poly)\n",
    "plt.xlabel(\"Highest Order Polynomial Feature (q)\")\n",
    "plt.ylabel(\"Accuracy\")\n",
    "plt.title(\"Linear Classifier with Polynomial Features\")\n",
    "\n",
    "plt.savefig(\"../Images/LinearClassifier_NormalParams.png\")    \n",
    "plt.show()"
   ]
  },
  {
   "cell_type": "code",
   "execution_count": 54,
   "id": "056319c0",
   "metadata": {
    "ExecuteTime": {
     "end_time": "2021-12-04T16:47:59.716343Z",
     "start_time": "2021-12-04T16:47:59.700715Z"
    }
   },
   "outputs": [
    {
     "name": "stdout",
     "output_type": "stream",
     "text": [
      "Best accuracy from Basic Linear Classifier = [0.616128 +- 0.005277]\n"
     ]
    }
   ],
   "source": [
    "#Best accuracy from q_best, save these results for comparison with Ridge Classifier\n",
    "q_best=3\n",
    "lin_acc = accuracy[q_best-1]\n",
    "lin_acc_err=accuracy_err[q_best-1]\n",
    "\n",
    "print(\"Best accuracy from Basic Linear Classifier = [%lf +- %lf]\" %(lin_acc, lin_acc_err))"
   ]
  },
  {
   "cell_type": "code",
   "execution_count": 55,
   "id": "47a122cd",
   "metadata": {
    "ExecuteTime": {
     "end_time": "2021-12-04T16:48:12.841599Z",
     "start_time": "2021-12-04T16:48:10.468273Z"
    }
   },
   "outputs": [
    {
     "name": "stdout",
     "output_type": "stream",
     "text": [
      "[0.6034252754424354, 0.6126252447310838, 0.6196235939959307, 0.6288226035548389, 0.6218088986141503, 0.6192041920995047, 0.6218319321279129] \n",
      " [0.014195256788777815, 0.018259420741345234, 0.0201147715092608, 0.020309267010567497, 0.03743868591326998, 0.024900997621929478, 0.01804684806479489]\n"
     ]
    },
    {
     "data": {
      "image/png": "[encoded data removed]",
      "text/plain": [
       "<Figure size 720x720 with 1 Axes>"
      ]
     },
     "metadata": {
      "needs_background": "light"
     },
     "output_type": "display_data"
    }
   ],
   "source": [
    "from sklearn.linear_model import RidgeClassifier\n",
    "#Tuning hyperparameter C now, with q_best\n",
    "\n",
    "################################\n",
    "\n",
    "Xpoly = PolynomialFeatures(q_best, include_bias=False).fit_transform(X)\n",
    "\n",
    "#Range of penalty parameters, scaling up by *10\n",
    "Cs = [0.001,0.01,0.1, 1, 10,100,1000]\n",
    "\n",
    "accuracy=[]\n",
    "accuracy_err=[]\n",
    "for c in Cs:\n",
    "    pipe = make_pipeline(StandardScaler(), \\\n",
    "            RidgeClassifier(alpha = 1/c ))\n",
    "    \n",
    "    tmp=[]\n",
    "    for train, test in kf.split(Xpoly):\n",
    "        pipe.fit(Xpoly[train],Y[train])\n",
    "        \n",
    "        #Accuracy\n",
    "        tmp.append( pipe.score(Xpoly[test], Y[test]) )\n",
    "\n",
    "    accuracy.append( np.array(tmp).mean() )\n",
    "    accuracy_err.append( np.array(tmp).std() )\n",
    "\n",
    "print(accuracy, \"\\n\", accuracy_err)\n",
    "\n",
    "plt.errorbar(Cs, accuracy, yerr=accuracy_err, capsize=5, label=\"Ridge Classifier\")\n",
    "plt.hlines( lin_acc + lin_acc_err, Cs[0], Cs[-1], linestyles=\"dashed\", color=\"red\")\n",
    "plt.hlines( lin_acc, Cs[0], Cs[-1], linestyles=\"dashed\", color=\"black\", label=\"Linear Classifier without penalty\")\n",
    "plt.hlines( lin_acc - lin_acc_err, Cs[0], Cs[-1], linestyles=\"dashed\", color=\"red\")\n",
    "\n",
    "plt.xticks(Cs)\n",
    "plt.xscale(\"log\")\n",
    "\n",
    "plt.xlabel(\"Penalty Parameter C\")\n",
    "plt.ylabel(\"Accuracy\")\n",
    "plt.legend()\n",
    "plt.title(\"Accuracy for Linear-Ridge\")\n",
    "    \n",
    "#plt.savefig(\"../Images/RidgeClassifier_NormalParams.png\")\n",
    "plt.show()"
   ]
  },
  {
   "cell_type": "code",
   "execution_count": null,
   "id": "bacc8081",
   "metadata": {},
   "outputs": [],
   "source": []
  }
 ],
 "metadata": {
  "kernelspec": {
   "display_name": "Python 3",
   "language": "python",
   "name": "python3"
  },
  "language_info": {
   "codemirror_mode": {
    "name": "ipython",
    "version": 3
   },
   "file_extension": ".py",
   "mimetype": "text/x-python",
   "name": "python",
   "nbconvert_exporter": "python",
   "pygments_lexer": "ipython3",
   "version": "3.8.8"
  },
  "varInspector": {
   "cols": {
    "lenName": 16,
    "lenType": 16,
    "lenVar": 40
   },
   "kernels_config": {
    "python": {
     "delete_cmd_postfix": "",
     "delete_cmd_prefix": "del ",
     "library": "var_list.py",
     "varRefreshCmd": "print(var_dic_list())"
    },
    "r": {
     "delete_cmd_postfix": ") ",
     "delete_cmd_prefix": "rm(",
     "library": "var_list.r",
     "varRefreshCmd": "cat(var_dic_list()) "
    }
   },
   "types_to_exclude": [
    "module",
    "function",
    "builtin_function_or_method",
    "instance",
    "_Feature"
   ],
   "window_display": false
  }
 },
 "nbformat": 4,
 "nbformat_minor": 5
}
