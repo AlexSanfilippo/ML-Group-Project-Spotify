{
 "cells": [
  {
   "cell_type": "markdown",
   "id": "d30321e9",
   "metadata": {},
   "source": [
    "# Playlist testing\n",
    "Again roughly following\n",
    "https://stmorse.github.io/journal/spotify-api.html "
   ]
  },
  {
   "cell_type": "code",
   "execution_count": 223,
   "id": "5c13edac",
   "metadata": {},
   "outputs": [],
   "source": [
    "import requests\n",
    "import pandas as pd\n",
    "\n",
    "\n",
    "# Taken from Spotify App Dashboard, secret may auto-rotate.\n",
    "CLIENT_ID = \"324585f433a84680a7a7a6414c721d13\"\n",
    "CLIENT_SECRET = \"7125b0da4a57479b91d97102d505c74d\""
   ]
  },
  {
   "cell_type": "code",
   "execution_count": 224,
   "id": "7decb8fe",
   "metadata": {},
   "outputs": [
    {
     "name": "stdout",
     "output_type": "stream",
     "text": [
      "{'access_token': 'BQB9Xy7v9bxZUAlCCPhdKJYC2fcYtbRKmHTGPbYXc5SymOKItX85iw5IKADmvTsVB1FIpKM5PmTJ-Aqw8jQ', 'token_type': 'Bearer', 'expires_in': 3600}\n"
     ]
    }
   ],
   "source": [
    "AUTH_URL = \"https://accounts.spotify.com/api/token\"\n",
    "\n",
    "# Post request for client credentials\n",
    "auth_response = requests.post(AUTH_URL, {\n",
    "    'grant_type': 'client_credentials',\n",
    "    'client_id': CLIENT_ID,\n",
    "    'client_secret': CLIENT_SECRET\n",
    "    })\n",
    "\n",
    "# Convert response to json\n",
    "auth_response_data = auth_response.json()\n",
    "\n",
    "# Save the access token\n",
    "access_token = auth_response_data['access_token']\n",
    "\n",
    "print(auth_response_data)\n",
    "# Note: Access token expires in 3600sec? = 1 hour?"
   ]
  },
  {
   "cell_type": "code",
   "execution_count": 225,
   "id": "e204358d",
   "metadata": {},
   "outputs": [],
   "source": [
    "headers = {\n",
    "    'Authorization' : 'Bearer {token}'.format(token=access_token)\n",
    "}"
   ]
  },
  {
   "cell_type": "markdown",
   "id": "098afc5c",
   "metadata": {
    "heading_collapsed": true
   },
   "source": [
    "# Testing out with single file"
   ]
  },
  {
   "cell_type": "code",
   "execution_count": 4,
   "id": "d168edbf",
   "metadata": {
    "hidden": true
   },
   "outputs": [],
   "source": [
    "# base URL of all Spotify API endpoints\n",
    "BASE_URL = 'https://api.spotify.com/v1/'\n",
    "\n",
    "# Track ID for Classic-MKTO\n",
    "# https://open.spotify.com/track/6FE2iI43OZnszFLuLtvvmg?si=e4e75d9c000a4219\n",
    "track_id = '6FE2iI43OZnszFLuLtvvmg'\n",
    "\n",
    "# Make GET request using header for access token\n",
    "r = requests.get(BASE_URL + 'audio-features/'+track_id, headers=headers)\n",
    "r=r.json()"
   ]
  },
  {
   "cell_type": "code",
   "execution_count": 5,
   "id": "2a5aec1b",
   "metadata": {
    "hidden": true
   },
   "outputs": [
    {
     "data": {
      "text/plain": [
       "{'danceability': 0.72,\n",
       " 'energy': 0.791,\n",
       " 'key': 1,\n",
       " 'loudness': -4.689,\n",
       " 'mode': 1,\n",
       " 'speechiness': 0.124,\n",
       " 'acousticness': 0.0384,\n",
       " 'instrumentalness': 0,\n",
       " 'liveness': 0.157,\n",
       " 'valence': 0.756,\n",
       " 'tempo': 102.071,\n",
       " 'type': 'audio_features',\n",
       " 'id': '6FE2iI43OZnszFLuLtvvmg',\n",
       " 'uri': 'spotify:track:6FE2iI43OZnszFLuLtvvmg',\n",
       " 'track_href': 'https://api.spotify.com/v1/tracks/6FE2iI43OZnszFLuLtvvmg',\n",
       " 'analysis_url': 'https://api.spotify.com/v1/audio-analysis/6FE2iI43OZnszFLuLtvvmg',\n",
       " 'duration_ms': 175427,\n",
       " 'time_signature': 4}"
      ]
     },
     "metadata": {},
     "output_type": "display_data"
    },
    {
     "name": "stdout",
     "output_type": "stream",
     "text": [
      "danceability = 0.7200\n",
      "energy = 0.7910\n",
      "speechiness = 0.1240\n",
      "acousticness = 0.0384\n",
      "instrumentalness = 0.0000\n",
      "liveness = 0.1570\n",
      "valence = 0.7560\n"
     ]
    }
   ],
   "source": [
    "display(r)\n",
    "norm_params = ['danceability', 'energy', 'speechiness', 'acousticness',\\\n",
    "               'instrumentalness', 'liveness', 'valence']\n",
    "\n",
    "extra_params = ['tempo', 'mode', 'duration']\n",
    "\n",
    "for i in norm_params:\n",
    "    print(\"%s = %.4f\" %(i, r[i]))"
   ]
  },
  {
   "cell_type": "markdown",
   "id": "0fb112ed",
   "metadata": {
    "heading_collapsed": true
   },
   "source": [
    "# Now working on playlist"
   ]
  },
  {
   "cell_type": "code",
   "execution_count": 156,
   "id": "df701c6e",
   "metadata": {
    "hidden": true
   },
   "outputs": [
    {
     "name": "stdout",
     "output_type": "stream",
     "text": [
      "i=0 successful\n",
      "i=1 successful\n",
      "i=2 successful\n"
     ]
    }
   ],
   "source": [
    "# Classic Rock (300 songs)\n",
    "#https://open.spotify.com/playlist/3Ho3iO0iJykgEQNbjB2sic?si=4c64e34eac34483a\n",
    "#last /*? is the id\n",
    "playlist_name='ClassicRock'\n",
    "playlist_id = '3Ho3iO0iJykgEQNbjB2sic'\n",
    "\n",
    "offset=0\n",
    "limit=100\n",
    "data = [] # will hold all track info\n",
    "for i in range(3):\n",
    "    r = requests.get(BASE_URL + 'playlists/' + playlist_id + '/tracks',\n",
    "                    headers=headers,\n",
    "                    params={'limit': limit, 'offset': offset})\n",
    "    offset+=limit\n",
    "\n",
    "    d = r.json()\n",
    "    print(\"i=%d successful\"%i)\n",
    "    ######\n",
    "\n",
    "    for track in d['items']:\n",
    "        # get audio features\n",
    "        f = requests.get(BASE_URL + 'audio-features/'+track['track']['id'],\n",
    "                        headers=headers)\n",
    "\n",
    "        f=f.json()\n",
    "\n",
    "        # combine features json with album info\n",
    "        f.update({\n",
    "            'track_name': track['track']['name'],\n",
    "        })\n",
    "\n",
    "        data.append(f)\n",
    "\n",
    "\n",
    "\n",
    "df = pd.DataFrame(data)\n",
    "df.to_csv(\"../SpotifyData/\"+playlist_name + \"_\" + playlist_id+\".csv\")"
   ]
  },
  {
   "cell_type": "code",
   "execution_count": 155,
   "id": "061f55b2",
   "metadata": {
    "hidden": true
   },
   "outputs": [],
   "source": [
    "df.to_csv(\"../SpotifyData/\"+playlist_name + \"_\" + playlist_id+\".csv\")"
   ]
  },
  {
   "cell_type": "markdown",
   "id": "3064c9f3",
   "metadata": {},
   "source": [
    "# Putting this in to a function\n"
   ]
  },
  {
   "cell_type": "code",
   "execution_count": 228,
   "id": "970e2c71",
   "metadata": {},
   "outputs": [],
   "source": [
    "def get_playlist_song_parameters(playlist_name, playlist_id, playlist_length):\n",
    "    #Adjust limit+offset to max out at playlist_length\n",
    "    offset=0\n",
    "    limit=100\n",
    "    data = [] # will hold all track info\n",
    "    \n",
    "    print(\"Current song count = %d of %d\" %(offset, playlist_length))\n",
    "    while (offset+limit <= playlist_length):\n",
    "        r = requests.get(BASE_URL + 'playlists/' + playlist_id + '/tracks',\n",
    "                        headers=headers,\n",
    "                        params={'limit': limit, 'offset': offset})\n",
    "        \n",
    "        display(r)\n",
    "        offset+=limit\n",
    "        if (offset+limit>playlist_length):\n",
    "            limit = playlist_length-offset\n",
    "            \n",
    "        print(\"Current song count = %d of %d\" %(offset, playlist_length))\n",
    "        d = r.json()\n",
    "\n",
    "        for track in d['items']:\n",
    "            # get audio features\n",
    "            f = requests.get(BASE_URL + 'audio-features/'+track['track']['id'],\n",
    "                            headers=headers)\n",
    "\n",
    "            f=f.json()\n",
    "\n",
    "            # combine features json with album info\n",
    "            f.update({\n",
    "                'track_name': track['track']['name'],\n",
    "            })\n",
    "\n",
    "            data.append(f)\n",
    "\n",
    "        if limit==0:\n",
    "            break\n",
    "        \n",
    "    df = pd.DataFrame(data)\n",
    "    df.to_csv(\"../SpotifyData/\"+playlist_name + \"_\" + playlist_id+\".csv\")\n",
    "    \n",
    "#end function"
   ]
  },
  {
   "cell_type": "code",
   "execution_count": 227,
   "id": "afd4c8a3",
   "metadata": {},
   "outputs": [
    {
     "name": "stdout",
     "output_type": "stream",
     "text": [
      "Current song count = 0 of 433\n"
     ]
    },
    {
     "data": {
      "text/plain": [
       "<Response [200]>"
      ]
     },
     "metadata": {},
     "output_type": "display_data"
    },
    {
     "data": {
      "text/plain": [
       "<Response [200]>"
      ]
     },
     "metadata": {},
     "output_type": "display_data"
    },
    {
     "data": {
      "text/plain": [
       "<Response [200]>"
      ]
     },
     "metadata": {},
     "output_type": "display_data"
    },
    {
     "data": {
      "text/plain": [
       "<Response [200]>"
      ]
     },
     "metadata": {},
     "output_type": "display_data"
    },
    {
     "data": {
      "text/plain": [
       "<Response [200]>"
      ]
     },
     "metadata": {},
     "output_type": "display_data"
    },
    {
     "name": "stdout",
     "output_type": "stream",
     "text": [
      "Current song count = 0 of 230\n"
     ]
    },
    {
     "data": {
      "text/plain": [
       "<Response [200]>"
      ]
     },
     "metadata": {},
     "output_type": "display_data"
    },
    {
     "data": {
      "text/plain": [
       "<Response [200]>"
      ]
     },
     "metadata": {},
     "output_type": "display_data"
    },
    {
     "data": {
      "text/plain": [
       "<Response [200]>"
      ]
     },
     "metadata": {},
     "output_type": "display_data"
    },
    {
     "name": "stdout",
     "output_type": "stream",
     "text": [
      "Current song count = 0 of 228\n"
     ]
    },
    {
     "data": {
      "text/plain": [
       "<Response [200]>"
      ]
     },
     "metadata": {},
     "output_type": "display_data"
    },
    {
     "data": {
      "text/plain": [
       "<Response [200]>"
      ]
     },
     "metadata": {},
     "output_type": "display_data"
    },
    {
     "data": {
      "text/plain": [
       "<Response [200]>"
      ]
     },
     "metadata": {},
     "output_type": "display_data"
    },
    {
     "name": "stdout",
     "output_type": "stream",
     "text": [
      "Current song count = 0 of 386\n"
     ]
    },
    {
     "data": {
      "text/plain": [
       "<Response [200]>"
      ]
     },
     "metadata": {},
     "output_type": "display_data"
    },
    {
     "data": {
      "text/plain": [
       "<Response [200]>"
      ]
     },
     "metadata": {},
     "output_type": "display_data"
    },
    {
     "data": {
      "text/plain": [
       "<Response [200]>"
      ]
     },
     "metadata": {},
     "output_type": "display_data"
    },
    {
     "data": {
      "text/plain": [
       "<Response [200]>"
      ]
     },
     "metadata": {},
     "output_type": "display_data"
    },
    {
     "name": "stdout",
     "output_type": "stream",
     "text": [
      "Current song count = 0 of 323\n"
     ]
    },
    {
     "data": {
      "text/plain": [
       "<Response [200]>"
      ]
     },
     "metadata": {},
     "output_type": "display_data"
    },
    {
     "data": {
      "text/plain": [
       "<Response [200]>"
      ]
     },
     "metadata": {},
     "output_type": "display_data"
    },
    {
     "data": {
      "text/plain": [
       "<Response [200]>"
      ]
     },
     "metadata": {},
     "output_type": "display_data"
    },
    {
     "data": {
      "text/plain": [
       "<Response [200]>"
      ]
     },
     "metadata": {},
     "output_type": "display_data"
    }
   ],
   "source": [
    "\"\"\"\n",
    "# Classic Rock (300 songs)\n",
    "#https://open.spotify.com/playlist/3Ho3iO0iJykgEQNbjB2sic?si=4c64e34eac34483a\n",
    "#last /*? is the id\n",
    "playlist_name='ClassicRock'\n",
    "playlist_id = '3Ho3iO0iJykgEQNbjB2sic'\n",
    "playlist_length=300\n",
    "get_playlist_song_parameters(playlist_name, playlist_id, playlist_length)\n",
    "\n",
    "# Jazz Classic (200 songs)\n",
    "#https://open.spotify.com/playlist/37i9dQZF1DXbITWG1ZJKYt?si=7183171d6bda41d7\n",
    "playlist_name='JazzClassic'\n",
    "playlist_id='37i9dQZF1DXbITWG1ZJKYt'\n",
    "playlist_length=200\n",
    "get_playlist_song_parameters(playlist_name, playlist_id, playlist_length)\n",
    "\n",
    "# CountryHits (206 songs)\n",
    "#https://open.spotify.com/playlist/1mJhSx6aYQmINsZ8dG4gzU?si=64b34f14280e42fb\n",
    "playlist_name='CountryHits'\n",
    "playlist_id='1mJhSx6aYQmINsZ8dG4gzU'\n",
    "playlist_length=206\n",
    "get_playlist_song_parameters(playlist_name, playlist_id, playlist_length)\n",
    "\"\"\"\n",
    "# DanceHits (433 songs)\n",
    "#https://open.spotify.com/playlist/5oKz4DsTP8zbL97UIPbqp4?si=7d07c97ae6b441d1\n",
    "playlist_name='DanceHits'\n",
    "playlist_id='5oKz4DsTP8zbL97UIPbqp4'\n",
    "playlist_length=433\n",
    "get_playlist_song_parameters(playlist_name, playlist_id, playlist_length)\n",
    "\"\"\"This one breaks^ unsure why\"\"\"\n",
    "\n",
    "# Hiphop (230 songs)\n",
    "#https://open.spotify.com/playlist/5CRJExGSQFYXem2hT5GFkd?si=88aa754b7aa4426f\n",
    "playlist_name='HipHopClassics'\n",
    "playlist_id='5CRJExGSQFYXem2hT5GFkd'\n",
    "playlist_length=230\n",
    "get_playlist_song_parameters(playlist_name, playlist_id, playlist_length)\n",
    "\n",
    "# ClassicalStudy (228 songs)\n",
    "#https://open.spotify.com/playlist/6wObnEPQ63a4kei1sEcMdH?si=9bcb78a6bbcd46c9\n",
    "playlist_name='ClassicalStudy'\n",
    "playlist_id='6wObnEPQ63a4kei1sEcMdH'\n",
    "playlist_length=228\n",
    "get_playlist_song_parameters(playlist_name, playlist_id, playlist_length)\n",
    "\n",
    "# Heavy Metal Classics (386 songs)\n",
    "#https://open.spotify.com/playlist/27gN69ebwiJRtXEboL12Ih?si=10ae3181e8fa4348\n",
    "playlist_name='HeavyMetalClassics'\n",
    "playlist_id='27gN69ebwiJRtXEboL12Ih'\n",
    "playlist_length=386\n",
    "get_playlist_song_parameters(playlist_name, playlist_id, playlist_length)\n",
    "\n",
    "# Kpop Classics (323 songs)\n",
    "#https://open.spotify.com/playlist/0jB4ANR4ox65etDMnxvGLp?si=12bd73e2ea354ca7\n",
    "playlist_name='KpopClassics'\n",
    "playlist_id='0jB4ANR4ox65etDMnxvGLp'\n",
    "playlist_length=323\n",
    "get_playlist_song_parameters(playlist_name, playlist_id, playlist_length)"
   ]
  },
  {
   "cell_type": "code",
   "execution_count": 229,
   "id": "a79c6a61",
   "metadata": {},
   "outputs": [],
   "source": [
    "#for track in d['items']:\n",
    " #   print(track['track']['name'])"
   ]
  },
  {
   "cell_type": "code",
   "execution_count": null,
   "id": "0fc3ae6a",
   "metadata": {},
   "outputs": [],
   "source": []
  }
 ],
 "metadata": {
  "kernelspec": {
   "display_name": "Python 3",
   "language": "python",
   "name": "python3"
  },
  "language_info": {
   "codemirror_mode": {
    "name": "ipython",
    "version": 3
   },
   "file_extension": ".py",
   "mimetype": "text/x-python",
   "name": "python",
   "nbconvert_exporter": "python",
   "pygments_lexer": "ipython3",
   "version": "3.8.8"
  },
  "varInspector": {
   "cols": {
    "lenName": 16,
    "lenType": 16,
    "lenVar": 40
   },
   "kernels_config": {
    "python": {
     "delete_cmd_postfix": "",
     "delete_cmd_prefix": "del ",
     "library": "var_list.py",
     "varRefreshCmd": "print(var_dic_list())"
    },
    "r": {
     "delete_cmd_postfix": ") ",
     "delete_cmd_prefix": "rm(",
     "library": "var_list.r",
     "varRefreshCmd": "cat(var_dic_list()) "
    }
   },
   "types_to_exclude": [
    "module",
    "function",
    "builtin_function_or_method",
    "instance",
    "_Feature"
   ],
   "window_display": false
  }
 },
 "nbformat": 4,
 "nbformat_minor": 5
}
